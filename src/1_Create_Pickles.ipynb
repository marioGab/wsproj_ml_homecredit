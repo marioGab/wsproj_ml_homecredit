{
 "cells": [
  {
   "cell_type": "markdown",
   "metadata": {},
   "source": [
    "# 1. Home Credit Default Risk - Create Pickles from Original Data"
   ]
  },
  {
   "cell_type": "code",
   "execution_count": 1,
   "metadata": {},
   "outputs": [],
   "source": [
    "import os\n",
    "import pandas as pd\n",
    "from six.moves import cPickle as pickle"
   ]
  },
  {
   "cell_type": "code",
   "execution_count": 2,
   "metadata": {},
   "outputs": [],
   "source": [
    "data_path = \"../data/original\"\n",
    "data_path_save = \"../data/pickles\"\n",
    "datafile_names = ['application_test.csv', 'application_train.csv']#, 'bureau.csv', 'bureau_balance.csv', \n",
    "                  #'credit_card_balance.csv', 'installments_payments.csv',\n",
    "                  #'POS_CASH_balance.csv', 'previous_application.csv', 'sample_submission.csv']"
   ]
  },
  {
   "cell_type": "code",
   "execution_count": 3,
   "metadata": {},
   "outputs": [],
   "source": [
    "%qtconsole"
   ]
  },
  {
   "cell_type": "code",
   "execution_count": 4,
   "metadata": {},
   "outputs": [],
   "source": [
    "# set force=True to override existing pickles\n",
    "# set sizeToUse to number x with x > 0 and x <= 1  to use a fraction of the data\n",
    "def maybe_pickle(data_names, force=False, sizeToUse=1):\n",
    "  if not os.path.exists(data_path_save):\n",
    "    os.makedirs(data_path_save)\n",
    "    \n",
    "  for file in datafile_names:\n",
    "    if sizeToUse == 1:\n",
    "      file_name = os.path.join(data_path_save, '{}.pickle'.format(file[:-4]))\n",
    "    else:\n",
    "      file_name = os.path.join(data_path_save, '{}_{}.pickle'.format(file[:-4], sizeToUse))\n",
    "  \n",
    "    if os.path.exists(file_name) and not force:\n",
    "      print('%s already present - Skipping pickling.' % file_name)\n",
    "    else:\n",
    "      print('Pickling {}.'.format(file_name))\n",
    "      \n",
    "      df = pd.read_csv(os.path.join(data_path, file)).sample(frac=sizeToUse) # , sep=';', low_memory=False, na_values=None, index_col=False\n",
    "      try:\n",
    "        with open(file_name, 'wb') as f:\n",
    "          pickle.dump(df, f, pickle.HIGHEST_PROTOCOL)\n",
    "      except Exception as e:\n",
    "        print('Unable to save data to', file_name, ':', e)"
   ]
  },
  {
   "cell_type": "code",
   "execution_count": 5,
   "metadata": {},
   "outputs": [
    {
     "name": "stdout",
     "output_type": "stream",
     "text": [
      "Pickling ../data/pickles\\application_test.pickle.\n",
      "Pickling ../data/pickles\\application_train.pickle.\n"
     ]
    }
   ],
   "source": [
    "size = 1\n",
    "#size = 0.5\n",
    "maybe_pickle(datafile_names, force=False, sizeToUse=size)"
   ]
  },
  {
   "cell_type": "code",
   "execution_count": null,
   "metadata": {},
   "outputs": [],
   "source": []
  }
 ],
 "metadata": {
  "kernelspec": {
   "display_name": "Python 3",
   "language": "python",
   "name": "python3"
  },
  "language_info": {
   "codemirror_mode": {
    "name": "ipython",
    "version": 3
   },
   "file_extension": ".py",
   "mimetype": "text/x-python",
   "name": "python",
   "nbconvert_exporter": "python",
   "pygments_lexer": "ipython3",
   "version": "3.6.5"
  }
 },
 "nbformat": 4,
 "nbformat_minor": 2
}
