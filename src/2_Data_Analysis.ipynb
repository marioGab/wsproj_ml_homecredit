{
 "cells": [
  {
   "cell_type": "markdown",
   "metadata": {},
   "source": [
    "# 2. Home Credit Default Risk - Data Analysis"
   ]
  },
  {
   "cell_type": "code",
   "execution_count": 1,
   "metadata": {},
   "outputs": [],
   "source": [
    "import pandas as pd \n",
    "import numpy as np\n",
    "import random\n",
    "import matplotlib\n",
    "import matplotlib.pyplot as plt\n",
    "import seaborn as sns\n",
    "from six.moves import cPickle as pickle"
   ]
  },
  {
   "cell_type": "code",
   "execution_count": 2,
   "metadata": {},
   "outputs": [],
   "source": [
    "%qtconsole"
   ]
  },
  {
   "cell_type": "code",
   "execution_count": 3,
   "metadata": {},
   "outputs": [],
   "source": [
    "import os\n",
    "data_path=\"../data/pickles\""
   ]
  },
  {
   "cell_type": "code",
   "execution_count": 4,
   "metadata": {},
   "outputs": [],
   "source": [
    "application_train = pickle.load(open(os.path.join(data_path, \"application_train.pickle\"), \"rb\"))\n",
    "application_test = pickle.load(open(os.path.join(data_path, \"application_test.pickle\"), \"rb\"))"
   ]
  },
  {
   "cell_type": "markdown",
   "metadata": {},
   "source": [
    "## Data model\n",
    "\n",
    "The structure of the data is explained in the following image (from the data description on the competition page)\n",
    "\n",
    "<img src=\"https://storage.googleapis.com/kaggle-media/competitions/home-credit/home_credit.png\" width=\"800\"></img>\n",
    "\n",
    "The dataframe *application_train* and *application_test* contains the loan and loan applicants. The dataframe *bureau* contains the application data from other loans that the client took from other credit institutions and were reported to the credit bureau. The dataframe *previous_applications* contains information about previous loans at **Home Credit** by the same client, previous loans information and client information at the time of the loan (there is a line in the dataframe per previous loan application).\n",
    "\n",
    "**SK_ID_CURR** is connecting the dataframes *application_train*|*test* with *bureau*, *previous_application* and also with dataframes *POS_CASH_balance*, *installments_payment* and *credit_card_balance*. **SK_ID_PREV** connects dataframe *previous_application* with *POS_CASH_balance*, *installments_payment* and *credit_card_balance*. **SK_ID_BUREAU** connects dataframe *bureau* with dataframe *bureau_balance*."
   ]
  },
  {
   "cell_type": "markdown",
   "metadata": {},
   "source": [
    "## Util functions"
   ]
  },
  {
   "cell_type": "code",
   "execution_count": 5,
   "metadata": {},
   "outputs": [],
   "source": [
    "def print_data_dimensions(train_df, test_df):\n",
    "    print(\"Shape TRAIN: {}\".format(train_df.shape))\n",
    "    print(\"Shape  TEST: {}\".format(test_df.shape))"
   ]
  },
  {
   "cell_type": "markdown",
   "metadata": {},
   "source": [
    "## Shape of the Data"
   ]
  },
  {
   "cell_type": "code",
   "execution_count": 6,
   "metadata": {},
   "outputs": [
    {
     "name": "stdout",
     "output_type": "stream",
     "text": [
      "Shape TRAIN: (307511, 122)\n",
      "Shape  TEST: (48744, 121)\n"
     ]
    }
   ],
   "source": [
    "print_data_dimensions(application_train, application_test)"
   ]
  },
  {
   "cell_type": "code",
   "execution_count": 7,
   "metadata": {},
   "outputs": [
    {
     "data": {
      "text/html": [
       "<div>\n",
       "<style scoped>\n",
       "    .dataframe tbody tr th:only-of-type {\n",
       "        vertical-align: middle;\n",
       "    }\n",
       "\n",
       "    .dataframe tbody tr th {\n",
       "        vertical-align: top;\n",
       "    }\n",
       "\n",
       "    .dataframe thead th {\n",
       "        text-align: right;\n",
       "    }\n",
       "</style>\n",
       "<table border=\"1\" class=\"dataframe\">\n",
       "  <thead>\n",
       "    <tr style=\"text-align: right;\">\n",
       "      <th></th>\n",
       "      <th>SK_ID_CURR</th>\n",
       "      <th>TARGET</th>\n",
       "      <th>NAME_CONTRACT_TYPE</th>\n",
       "      <th>CODE_GENDER</th>\n",
       "      <th>FLAG_OWN_CAR</th>\n",
       "      <th>FLAG_OWN_REALTY</th>\n",
       "      <th>CNT_CHILDREN</th>\n",
       "      <th>AMT_INCOME_TOTAL</th>\n",
       "      <th>AMT_CREDIT</th>\n",
       "      <th>AMT_ANNUITY</th>\n",
       "      <th>...</th>\n",
       "      <th>FLAG_DOCUMENT_18</th>\n",
       "      <th>FLAG_DOCUMENT_19</th>\n",
       "      <th>FLAG_DOCUMENT_20</th>\n",
       "      <th>FLAG_DOCUMENT_21</th>\n",
       "      <th>AMT_REQ_CREDIT_BUREAU_HOUR</th>\n",
       "      <th>AMT_REQ_CREDIT_BUREAU_DAY</th>\n",
       "      <th>AMT_REQ_CREDIT_BUREAU_WEEK</th>\n",
       "      <th>AMT_REQ_CREDIT_BUREAU_MON</th>\n",
       "      <th>AMT_REQ_CREDIT_BUREAU_QRT</th>\n",
       "      <th>AMT_REQ_CREDIT_BUREAU_YEAR</th>\n",
       "    </tr>\n",
       "  </thead>\n",
       "  <tbody>\n",
       "    <tr>\n",
       "      <th>265774</th>\n",
       "      <td>407867</td>\n",
       "      <td>0</td>\n",
       "      <td>Cash loans</td>\n",
       "      <td>M</td>\n",
       "      <td>Y</td>\n",
       "      <td>Y</td>\n",
       "      <td>0</td>\n",
       "      <td>157500.0</td>\n",
       "      <td>187704.0</td>\n",
       "      <td>11610.0</td>\n",
       "      <td>...</td>\n",
       "      <td>0</td>\n",
       "      <td>0</td>\n",
       "      <td>0</td>\n",
       "      <td>0</td>\n",
       "      <td>0.0</td>\n",
       "      <td>0.0</td>\n",
       "      <td>0.0</td>\n",
       "      <td>0.0</td>\n",
       "      <td>0.0</td>\n",
       "      <td>1.0</td>\n",
       "    </tr>\n",
       "    <tr>\n",
       "      <th>293761</th>\n",
       "      <td>440339</td>\n",
       "      <td>0</td>\n",
       "      <td>Revolving loans</td>\n",
       "      <td>F</td>\n",
       "      <td>N</td>\n",
       "      <td>Y</td>\n",
       "      <td>0</td>\n",
       "      <td>157500.0</td>\n",
       "      <td>180000.0</td>\n",
       "      <td>9000.0</td>\n",
       "      <td>...</td>\n",
       "      <td>0</td>\n",
       "      <td>0</td>\n",
       "      <td>0</td>\n",
       "      <td>0</td>\n",
       "      <td>0.0</td>\n",
       "      <td>0.0</td>\n",
       "      <td>0.0</td>\n",
       "      <td>0.0</td>\n",
       "      <td>0.0</td>\n",
       "      <td>0.0</td>\n",
       "    </tr>\n",
       "    <tr>\n",
       "      <th>26820</th>\n",
       "      <td>131174</td>\n",
       "      <td>0</td>\n",
       "      <td>Cash loans</td>\n",
       "      <td>M</td>\n",
       "      <td>N</td>\n",
       "      <td>Y</td>\n",
       "      <td>0</td>\n",
       "      <td>112500.0</td>\n",
       "      <td>348826.5</td>\n",
       "      <td>22842.0</td>\n",
       "      <td>...</td>\n",
       "      <td>0</td>\n",
       "      <td>0</td>\n",
       "      <td>0</td>\n",
       "      <td>0</td>\n",
       "      <td>0.0</td>\n",
       "      <td>0.0</td>\n",
       "      <td>0.0</td>\n",
       "      <td>2.0</td>\n",
       "      <td>0.0</td>\n",
       "      <td>1.0</td>\n",
       "    </tr>\n",
       "  </tbody>\n",
       "</table>\n",
       "<p>3 rows × 122 columns</p>\n",
       "</div>"
      ],
      "text/plain": [
       "        SK_ID_CURR  TARGET NAME_CONTRACT_TYPE CODE_GENDER FLAG_OWN_CAR  \\\n",
       "265774      407867       0         Cash loans           M            Y   \n",
       "293761      440339       0    Revolving loans           F            N   \n",
       "26820       131174       0         Cash loans           M            N   \n",
       "\n",
       "       FLAG_OWN_REALTY  CNT_CHILDREN  AMT_INCOME_TOTAL  AMT_CREDIT  \\\n",
       "265774               Y             0          157500.0    187704.0   \n",
       "293761               Y             0          157500.0    180000.0   \n",
       "26820                Y             0          112500.0    348826.5   \n",
       "\n",
       "        AMT_ANNUITY             ...              FLAG_DOCUMENT_18  \\\n",
       "265774      11610.0             ...                             0   \n",
       "293761       9000.0             ...                             0   \n",
       "26820       22842.0             ...                             0   \n",
       "\n",
       "       FLAG_DOCUMENT_19 FLAG_DOCUMENT_20 FLAG_DOCUMENT_21  \\\n",
       "265774                0                0                0   \n",
       "293761                0                0                0   \n",
       "26820                 0                0                0   \n",
       "\n",
       "       AMT_REQ_CREDIT_BUREAU_HOUR AMT_REQ_CREDIT_BUREAU_DAY  \\\n",
       "265774                        0.0                       0.0   \n",
       "293761                        0.0                       0.0   \n",
       "26820                         0.0                       0.0   \n",
       "\n",
       "        AMT_REQ_CREDIT_BUREAU_WEEK  AMT_REQ_CREDIT_BUREAU_MON  \\\n",
       "265774                         0.0                        0.0   \n",
       "293761                         0.0                        0.0   \n",
       "26820                          0.0                        2.0   \n",
       "\n",
       "        AMT_REQ_CREDIT_BUREAU_QRT  AMT_REQ_CREDIT_BUREAU_YEAR  \n",
       "265774                        0.0                         1.0  \n",
       "293761                        0.0                         0.0  \n",
       "26820                         0.0                         1.0  \n",
       "\n",
       "[3 rows x 122 columns]"
      ]
     },
     "execution_count": 7,
     "metadata": {},
     "output_type": "execute_result"
    }
   ],
   "source": [
    "application_train.head(3)"
   ]
  },
  {
   "cell_type": "code",
   "execution_count": 8,
   "metadata": {},
   "outputs": [],
   "source": [
    "#corr = application_train.corr()"
   ]
  },
  {
   "cell_type": "code",
   "execution_count": 9,
   "metadata": {},
   "outputs": [],
   "source": [
    "# remove target column from application_train to have same structure like application_test\n",
    "prep_train = application_train.copy()\n",
    "prep_test = application_test.copy()"
   ]
  },
  {
   "cell_type": "markdown",
   "metadata": {},
   "source": [
    "# Data Analysis"
   ]
  },
  {
   "cell_type": "code",
   "execution_count": 10,
   "metadata": {},
   "outputs": [],
   "source": [
    "# Encode with LabelEncoder\n",
    "from sklearn.preprocessing import LabelEncoder"
   ]
  },
  {
   "cell_type": "markdown",
   "metadata": {},
   "source": [
    "### NAME_CONTRACT_TYPE\n",
    "\n",
    "Identification if loan is cash or revolving\n",
    "\n",
    "__Cash loans__: Credit that is payed monthly. (Normal credit)\n",
    "\n",
    "__Revolving loans__: Specific amount of credit is available. Customer can pay some amount back. Max amount cannot be excided."
   ]
  },
  {
   "cell_type": "code",
   "execution_count": 11,
   "metadata": {},
   "outputs": [],
   "source": [
    "col_to_analyse = 'NAME_CONTRACT_TYPE'"
   ]
  },
  {
   "cell_type": "code",
   "execution_count": 12,
   "metadata": {},
   "outputs": [
    {
     "data": {
      "text/plain": [
       "Cash loans         278232\n",
       "Revolving loans     29279\n",
       "Name: NAME_CONTRACT_TYPE, dtype: int64"
      ]
     },
     "execution_count": 12,
     "metadata": {},
     "output_type": "execute_result"
    }
   ],
   "source": [
    "application_train[col_to_analyse].value_counts()"
   ]
  },
  {
   "cell_type": "code",
   "execution_count": 13,
   "metadata": {},
   "outputs": [
    {
     "data": {
      "text/plain": [
       "Cash loans         255011\n",
       "Revolving loans     27675\n",
       "Name: NAME_CONTRACT_TYPE, dtype: int64"
      ]
     },
     "execution_count": 13,
     "metadata": {},
     "output_type": "execute_result"
    }
   ],
   "source": [
    "# Values for Class 0\n",
    "application_train[application_train.TARGET == 0][col_to_analyse].value_counts()"
   ]
  },
  {
   "cell_type": "code",
   "execution_count": 14,
   "metadata": {},
   "outputs": [
    {
     "data": {
      "text/plain": [
       "Cash loans         23221\n",
       "Revolving loans     1604\n",
       "Name: NAME_CONTRACT_TYPE, dtype: int64"
      ]
     },
     "execution_count": 14,
     "metadata": {},
     "output_type": "execute_result"
    }
   ],
   "source": [
    "# Values for Class 1\n",
    "application_train[application_train.TARGET == 1][col_to_analyse].value_counts()"
   ]
  },
  {
   "cell_type": "code",
   "execution_count": 15,
   "metadata": {},
   "outputs": [
    {
     "name": "stdout",
     "output_type": "stream",
     "text": [
      "Missing Values for NAME_CONTRACT_TYPE, \n",
      "application_train: 0 \n",
      "application_test: 0.\n"
     ]
    }
   ],
   "source": [
    "# Show missing values for train dataset\n",
    "print(\"Missing Values for {}, \\napplication_train: {} \\napplication_test: {}.\".format(col_to_analyse, \n",
    "                                                                            application_train[col_to_analyse].isnull().sum(),\n",
    "                                                                            application_test[col_to_analyse].isnull().sum()))"
   ]
  },
  {
   "cell_type": "code",
   "execution_count": 16,
   "metadata": {},
   "outputs": [
    {
     "data": {
      "text/plain": [
       "LabelEncoder()"
      ]
     },
     "execution_count": 16,
     "metadata": {},
     "output_type": "execute_result"
    }
   ],
   "source": [
    "# Create a label encoder object\n",
    "le_NAME_CONTRACT_TYPE = LabelEncoder()\n",
    "le_NAME_CONTRACT_TYPE.fit(prep_train[col_to_analyse])"
   ]
  },
  {
   "cell_type": "code",
   "execution_count": 17,
   "metadata": {},
   "outputs": [],
   "source": [
    "prep_train.loc[:,col_to_analyse] = le_NAME_CONTRACT_TYPE.transform(prep_train.loc[:,col_to_analyse])\n",
    "prep_test.loc[:,col_to_analyse] = le_NAME_CONTRACT_TYPE.transform(prep_test.loc[:,col_to_analyse])"
   ]
  },
  {
   "cell_type": "code",
   "execution_count": 18,
   "metadata": {
    "scrolled": true
   },
   "outputs": [
    {
     "data": {
      "text/plain": [
       "-0.030895908161047654"
      ]
     },
     "execution_count": 18,
     "metadata": {},
     "output_type": "execute_result"
    }
   ],
   "source": [
    "prep_train.TARGET.corr(prep_train[col_to_analyse])"
   ]
  },
  {
   "cell_type": "code",
   "execution_count": 19,
   "metadata": {},
   "outputs": [
    {
     "name": "stdout",
     "output_type": "stream",
     "text": [
      "Shape TRAIN: (307511, 122)\n",
      "Shape  TEST: (48744, 121)\n"
     ]
    }
   ],
   "source": [
    "print_data_dimensions(prep_train, prep_test)"
   ]
  },
  {
   "cell_type": "markdown",
   "metadata": {},
   "source": [
    "### CODE_GENDER\n",
    "\n",
    "Gender of the client.\n",
    "\n",
    "__F__: Female\n",
    "\n",
    "__M__: Men\n",
    "\n",
    "__XNA__: Unknown"
   ]
  },
  {
   "cell_type": "code",
   "execution_count": 20,
   "metadata": {},
   "outputs": [],
   "source": [
    "col_to_analyse = 'CODE_GENDER'"
   ]
  },
  {
   "cell_type": "code",
   "execution_count": 21,
   "metadata": {},
   "outputs": [
    {
     "data": {
      "text/plain": [
       "F      202448\n",
       "M      105059\n",
       "XNA         4\n",
       "Name: CODE_GENDER, dtype: int64"
      ]
     },
     "execution_count": 21,
     "metadata": {},
     "output_type": "execute_result"
    }
   ],
   "source": [
    "application_train[col_to_analyse].value_counts()"
   ]
  },
  {
   "cell_type": "code",
   "execution_count": 22,
   "metadata": {},
   "outputs": [
    {
     "data": {
      "text/plain": [
       "F      188278\n",
       "M       94404\n",
       "XNA         4\n",
       "Name: CODE_GENDER, dtype: int64"
      ]
     },
     "execution_count": 22,
     "metadata": {},
     "output_type": "execute_result"
    }
   ],
   "source": [
    "# Values for Class 0\n",
    "application_train[application_train.TARGET == 0][col_to_analyse].value_counts()"
   ]
  },
  {
   "cell_type": "code",
   "execution_count": 23,
   "metadata": {},
   "outputs": [
    {
     "data": {
      "text/plain": [
       "F    14170\n",
       "M    10655\n",
       "Name: CODE_GENDER, dtype: int64"
      ]
     },
     "execution_count": 23,
     "metadata": {},
     "output_type": "execute_result"
    }
   ],
   "source": [
    "# Values for Class 1\n",
    "application_train[application_train.TARGET == 1][col_to_analyse].value_counts()"
   ]
  },
  {
   "cell_type": "markdown",
   "metadata": {},
   "source": [
    "It's strange that the column CODE_GENDER contains 3 unique values (expected were only 2). We see that the value XNA only appears in 4 data rows. This seems to be some wrong data or leck of information. Let's see how much percent of the data it is. "
   ]
  },
  {
   "cell_type": "code",
   "execution_count": 24,
   "metadata": {},
   "outputs": [
    {
     "name": "stdout",
     "output_type": "stream",
     "text": [
      "XNA in Percentage: 1.0662020300380031e-07%\n"
     ]
    }
   ],
   "source": [
    "xna_percent =  application_train.CODE_GENDER.value_counts()['XNA'] / application_train.size\n",
    "print(\"XNA in Percentage: {}%\".format(xna_percent))"
   ]
  },
  {
   "cell_type": "markdown",
   "metadata": {},
   "source": [
    "Because of the small percentage we decide to remove those rows."
   ]
  },
  {
   "cell_type": "code",
   "execution_count": 25,
   "metadata": {},
   "outputs": [],
   "source": [
    "index_xna_rows = prep_train.CODE_GENDER != 'XNA'\n",
    "prep_train = prep_train[index_xna_rows].copy()\n",
    "\n",
    "index_xna_rows = prep_test.CODE_GENDER != 'XNA'\n",
    "prep_test = prep_test[index_xna_rows].copy()"
   ]
  },
  {
   "cell_type": "code",
   "execution_count": 26,
   "metadata": {},
   "outputs": [
    {
     "name": "stdout",
     "output_type": "stream",
     "text": [
      "Missing Values for CODE_GENDER, \n",
      "application_train: 0 \n",
      "application_test: 0.\n"
     ]
    }
   ],
   "source": [
    "# Show missing values for train dataset\n",
    "print(\"Missing Values for {}, \\napplication_train: {} \\napplication_test: {}.\".format(col_to_analyse, \n",
    "                                                                            application_train[col_to_analyse].isnull().sum(),\n",
    "                                                                            application_test[col_to_analyse].isnull().sum()))"
   ]
  },
  {
   "cell_type": "code",
   "execution_count": 27,
   "metadata": {},
   "outputs": [
    {
     "data": {
      "text/plain": [
       "LabelEncoder()"
      ]
     },
     "execution_count": 27,
     "metadata": {},
     "output_type": "execute_result"
    }
   ],
   "source": [
    "le_CODE_GENDER = LabelEncoder()\n",
    "le_CODE_GENDER.fit(prep_train[col_to_analyse])"
   ]
  },
  {
   "cell_type": "code",
   "execution_count": 28,
   "metadata": {},
   "outputs": [],
   "source": [
    "prep_train.loc[:,col_to_analyse] = le_CODE_GENDER.transform(prep_train.loc[:,col_to_analyse])\n",
    "prep_test.loc[:,col_to_analyse] = le_CODE_GENDER.transform(prep_test.loc[:,col_to_analyse])"
   ]
  },
  {
   "cell_type": "code",
   "execution_count": 29,
   "metadata": {
    "scrolled": true
   },
   "outputs": [
    {
     "data": {
      "text/plain": [
       "0.05471012101772599"
      ]
     },
     "execution_count": 29,
     "metadata": {},
     "output_type": "execute_result"
    }
   ],
   "source": [
    "prep_train.TARGET.corr(prep_train[col_to_analyse])"
   ]
  },
  {
   "cell_type": "code",
   "execution_count": 30,
   "metadata": {},
   "outputs": [
    {
     "name": "stdout",
     "output_type": "stream",
     "text": [
      "Shape TRAIN: (307507, 122)\n",
      "Shape  TEST: (48744, 121)\n"
     ]
    }
   ],
   "source": [
    "print_data_dimensions(prep_train, prep_test)"
   ]
  },
  {
   "cell_type": "markdown",
   "metadata": {},
   "source": [
    "### FLAG_OWN_CAR\n",
    "\n",
    "Flag if the client owns a car.\n",
    "\n",
    "__N__: no\n",
    "\n",
    "__Y__: yes"
   ]
  },
  {
   "cell_type": "code",
   "execution_count": 31,
   "metadata": {},
   "outputs": [],
   "source": [
    "col_to_analyse = 'FLAG_OWN_CAR'"
   ]
  },
  {
   "cell_type": "code",
   "execution_count": 32,
   "metadata": {},
   "outputs": [
    {
     "data": {
      "text/plain": [
       "N    202924\n",
       "Y    104587\n",
       "Name: FLAG_OWN_CAR, dtype: int64"
      ]
     },
     "execution_count": 32,
     "metadata": {},
     "output_type": "execute_result"
    }
   ],
   "source": [
    "application_train[col_to_analyse].value_counts()"
   ]
  },
  {
   "cell_type": "code",
   "execution_count": 33,
   "metadata": {},
   "outputs": [
    {
     "data": {
      "text/plain": [
       "N    185675\n",
       "Y     97011\n",
       "Name: FLAG_OWN_CAR, dtype: int64"
      ]
     },
     "execution_count": 33,
     "metadata": {},
     "output_type": "execute_result"
    }
   ],
   "source": [
    "# Values for Class 0\n",
    "application_train[application_train.TARGET == 0][col_to_analyse].value_counts()"
   ]
  },
  {
   "cell_type": "code",
   "execution_count": 34,
   "metadata": {},
   "outputs": [
    {
     "data": {
      "text/plain": [
       "N    17249\n",
       "Y     7576\n",
       "Name: FLAG_OWN_CAR, dtype: int64"
      ]
     },
     "execution_count": 34,
     "metadata": {},
     "output_type": "execute_result"
    }
   ],
   "source": [
    "# Values for Class 1\n",
    "application_train[application_train.TARGET == 1][col_to_analyse].value_counts()"
   ]
  },
  {
   "cell_type": "code",
   "execution_count": 35,
   "metadata": {},
   "outputs": [
    {
     "name": "stdout",
     "output_type": "stream",
     "text": [
      "Missing Values for FLAG_OWN_CAR, \n",
      "application_train: 0 \n",
      "application_test: 0.\n"
     ]
    }
   ],
   "source": [
    "# Show missing values for train dataset\n",
    "print(\"Missing Values for {}, \\napplication_train: {} \\napplication_test: {}.\".format(col_to_analyse, \n",
    "                                                                            application_train[col_to_analyse].isnull().sum(),\n",
    "                                                                            application_test[col_to_analyse].isnull().sum()))"
   ]
  },
  {
   "cell_type": "code",
   "execution_count": 36,
   "metadata": {},
   "outputs": [
    {
     "data": {
      "text/plain": [
       "LabelEncoder()"
      ]
     },
     "execution_count": 36,
     "metadata": {},
     "output_type": "execute_result"
    }
   ],
   "source": [
    "le_FLAG_OWN_CAR = LabelEncoder()\n",
    "le_FLAG_OWN_CAR.fit(prep_train[col_to_analyse])"
   ]
  },
  {
   "cell_type": "code",
   "execution_count": 37,
   "metadata": {},
   "outputs": [],
   "source": [
    "prep_train[col_to_analyse] = le_FLAG_OWN_CAR.transform(prep_train[col_to_analyse])\n",
    "prep_test[col_to_analyse] = le_FLAG_OWN_CAR.transform(prep_test[col_to_analyse])"
   ]
  },
  {
   "cell_type": "code",
   "execution_count": 38,
   "metadata": {
    "scrolled": false
   },
   "outputs": [
    {
     "data": {
      "text/plain": [
       "-0.021849824422382588"
      ]
     },
     "execution_count": 38,
     "metadata": {},
     "output_type": "execute_result"
    }
   ],
   "source": [
    "prep_train.TARGET.corr(prep_train[col_to_analyse])"
   ]
  },
  {
   "cell_type": "code",
   "execution_count": 39,
   "metadata": {},
   "outputs": [
    {
     "name": "stdout",
     "output_type": "stream",
     "text": [
      "Shape TRAIN: (307507, 122)\n",
      "Shape  TEST: (48744, 121)\n"
     ]
    }
   ],
   "source": [
    "print_data_dimensions(prep_train, prep_test)"
   ]
  },
  {
   "cell_type": "markdown",
   "metadata": {},
   "source": [
    "### FLAG_OWN_REALTY\n",
    "\n",
    "Flag if client owns a house or flat.\n",
    "\n",
    "__N__: no\n",
    "\n",
    "__Y__: yes"
   ]
  },
  {
   "cell_type": "code",
   "execution_count": 40,
   "metadata": {},
   "outputs": [],
   "source": [
    "col_to_analyse = 'FLAG_OWN_REALTY'"
   ]
  },
  {
   "cell_type": "code",
   "execution_count": 41,
   "metadata": {},
   "outputs": [
    {
     "data": {
      "text/plain": [
       "Y    213312\n",
       "N     94199\n",
       "Name: FLAG_OWN_REALTY, dtype: int64"
      ]
     },
     "execution_count": 41,
     "metadata": {},
     "output_type": "execute_result"
    }
   ],
   "source": [
    "application_train[col_to_analyse].value_counts()"
   ]
  },
  {
   "cell_type": "code",
   "execution_count": 42,
   "metadata": {},
   "outputs": [
    {
     "data": {
      "text/plain": [
       "Y    196329\n",
       "N     86357\n",
       "Name: FLAG_OWN_REALTY, dtype: int64"
      ]
     },
     "execution_count": 42,
     "metadata": {},
     "output_type": "execute_result"
    }
   ],
   "source": [
    "# Values for Class 0\n",
    "application_train[application_train.TARGET == 0][col_to_analyse].value_counts()"
   ]
  },
  {
   "cell_type": "code",
   "execution_count": 43,
   "metadata": {},
   "outputs": [
    {
     "data": {
      "text/plain": [
       "Y    16983\n",
       "N     7842\n",
       "Name: FLAG_OWN_REALTY, dtype: int64"
      ]
     },
     "execution_count": 43,
     "metadata": {},
     "output_type": "execute_result"
    }
   ],
   "source": [
    "# Values for Class 1\n",
    "application_train[application_train.TARGET == 1][col_to_analyse].value_counts()"
   ]
  },
  {
   "cell_type": "code",
   "execution_count": 44,
   "metadata": {},
   "outputs": [
    {
     "name": "stdout",
     "output_type": "stream",
     "text": [
      "Missing Values for FLAG_OWN_REALTY, \n",
      "application_train: 0 \n",
      "application_test: 0.\n"
     ]
    }
   ],
   "source": [
    "# Show missing values for train dataset\n",
    "print(\"Missing Values for {}, \\napplication_train: {} \\napplication_test: {}.\".format(col_to_analyse, \n",
    "                                                                            application_train[col_to_analyse].isnull().sum(),\n",
    "                                                                            application_test[col_to_analyse].isnull().sum()))"
   ]
  },
  {
   "cell_type": "code",
   "execution_count": 45,
   "metadata": {},
   "outputs": [
    {
     "data": {
      "text/plain": [
       "LabelEncoder()"
      ]
     },
     "execution_count": 45,
     "metadata": {},
     "output_type": "execute_result"
    }
   ],
   "source": [
    "le_FLAG_OWN_REALTY = LabelEncoder()\n",
    "le_FLAG_OWN_REALTY.fit(prep_train[col_to_analyse])"
   ]
  },
  {
   "cell_type": "code",
   "execution_count": 46,
   "metadata": {},
   "outputs": [],
   "source": [
    "prep_train[col_to_analyse] = le_FLAG_OWN_REALTY.transform(prep_train[col_to_analyse])\n",
    "prep_test[col_to_analyse] = le_FLAG_OWN_REALTY.transform(prep_test[col_to_analyse])"
   ]
  },
  {
   "cell_type": "code",
   "execution_count": 47,
   "metadata": {
    "scrolled": false
   },
   "outputs": [
    {
     "data": {
      "text/plain": [
       "-0.0061458472568773"
      ]
     },
     "execution_count": 47,
     "metadata": {},
     "output_type": "execute_result"
    }
   ],
   "source": [
    "prep_train.TARGET.corr(prep_train[col_to_analyse])"
   ]
  },
  {
   "cell_type": "code",
   "execution_count": 48,
   "metadata": {},
   "outputs": [
    {
     "name": "stdout",
     "output_type": "stream",
     "text": [
      "Shape TRAIN: (307507, 122)\n",
      "Shape  TEST: (48744, 121)\n"
     ]
    }
   ],
   "source": [
    "print_data_dimensions(prep_train, prep_test)"
   ]
  },
  {
   "cell_type": "markdown",
   "metadata": {},
   "source": [
    "### FLAG_OWN_REALTY\n",
    "\n",
    "Flag if client owns a house or flat.\n",
    "\n",
    "__N__: no\n",
    "\n",
    "__Y__: yes"
   ]
  },
  {
   "cell_type": "code",
   "execution_count": 49,
   "metadata": {},
   "outputs": [],
   "source": [
    "col_to_analyse = 'FLAG_OWN_REALTY'"
   ]
  },
  {
   "cell_type": "code",
   "execution_count": 50,
   "metadata": {},
   "outputs": [
    {
     "data": {
      "text/plain": [
       "Y    213312\n",
       "N     94199\n",
       "Name: FLAG_OWN_REALTY, dtype: int64"
      ]
     },
     "execution_count": 50,
     "metadata": {},
     "output_type": "execute_result"
    }
   ],
   "source": [
    "application_train[col_to_analyse].value_counts()"
   ]
  },
  {
   "cell_type": "code",
   "execution_count": 51,
   "metadata": {},
   "outputs": [
    {
     "data": {
      "text/plain": [
       "Y    196329\n",
       "N     86357\n",
       "Name: FLAG_OWN_REALTY, dtype: int64"
      ]
     },
     "execution_count": 51,
     "metadata": {},
     "output_type": "execute_result"
    }
   ],
   "source": [
    "# Values for Class 0\n",
    "application_train[application_train.TARGET == 0][col_to_analyse].value_counts()"
   ]
  },
  {
   "cell_type": "code",
   "execution_count": 52,
   "metadata": {},
   "outputs": [
    {
     "data": {
      "text/plain": [
       "Y    16983\n",
       "N     7842\n",
       "Name: FLAG_OWN_REALTY, dtype: int64"
      ]
     },
     "execution_count": 52,
     "metadata": {},
     "output_type": "execute_result"
    }
   ],
   "source": [
    "# Values for Class 1\n",
    "application_train[application_train.TARGET == 1][col_to_analyse].value_counts()"
   ]
  },
  {
   "cell_type": "code",
   "execution_count": 53,
   "metadata": {},
   "outputs": [
    {
     "name": "stdout",
     "output_type": "stream",
     "text": [
      "Missing Values for FLAG_OWN_REALTY, \n",
      "application_train: 0 \n",
      "application_test: 0.\n"
     ]
    }
   ],
   "source": [
    "# Show missing values for train dataset\n",
    "print(\"Missing Values for {}, \\napplication_train: {} \\napplication_test: {}.\".format(col_to_analyse, \n",
    "                                                                            application_train[col_to_analyse].isnull().sum(),\n",
    "                                                                            application_test[col_to_analyse].isnull().sum()))"
   ]
  },
  {
   "cell_type": "code",
   "execution_count": 54,
   "metadata": {},
   "outputs": [
    {
     "data": {
      "text/plain": [
       "LabelEncoder()"
      ]
     },
     "execution_count": 54,
     "metadata": {},
     "output_type": "execute_result"
    }
   ],
   "source": [
    "le_FLAG_OWN_REALTY = LabelEncoder()\n",
    "le_FLAG_OWN_REALTY.fit(prep_train[col_to_analyse])"
   ]
  },
  {
   "cell_type": "code",
   "execution_count": 55,
   "metadata": {},
   "outputs": [],
   "source": [
    "prep_train[col_to_analyse] = le_FLAG_OWN_REALTY.transform(prep_train[col_to_analyse])\n",
    "prep_test[col_to_analyse] = le_FLAG_OWN_REALTY.transform(prep_test[col_to_analyse])"
   ]
  },
  {
   "cell_type": "code",
   "execution_count": 56,
   "metadata": {
    "scrolled": true
   },
   "outputs": [
    {
     "data": {
      "text/plain": [
       "-0.0061458472568773"
      ]
     },
     "execution_count": 56,
     "metadata": {},
     "output_type": "execute_result"
    }
   ],
   "source": [
    "prep_train.TARGET.corr(prep_train[col_to_analyse])"
   ]
  },
  {
   "cell_type": "code",
   "execution_count": 57,
   "metadata": {},
   "outputs": [
    {
     "name": "stdout",
     "output_type": "stream",
     "text": [
      "Shape TRAIN: (307507, 122)\n",
      "Shape  TEST: (48744, 121)\n"
     ]
    }
   ],
   "source": [
    "print_data_dimensions(prep_train, prep_test)"
   ]
  },
  {
   "cell_type": "markdown",
   "metadata": {},
   "source": [
    "### CNT_CHILDREN\n",
    "\n",
    "Number of children the client has.\n",
    "\n",
    "__numeric value__"
   ]
  },
  {
   "cell_type": "code",
   "execution_count": 58,
   "metadata": {},
   "outputs": [],
   "source": [
    "col_to_analyse = 'CNT_CHILDREN'"
   ]
  },
  {
   "cell_type": "code",
   "execution_count": 59,
   "metadata": {},
   "outputs": [
    {
     "data": {
      "text/plain": [
       "0     215371\n",
       "1      61119\n",
       "2      26749\n",
       "3       3717\n",
       "4        429\n",
       "5         84\n",
       "6         21\n",
       "7          7\n",
       "14         3\n",
       "19         2\n",
       "12         2\n",
       "10         2\n",
       "9          2\n",
       "8          2\n",
       "11         1\n",
       "Name: CNT_CHILDREN, dtype: int64"
      ]
     },
     "execution_count": 59,
     "metadata": {},
     "output_type": "execute_result"
    }
   ],
   "source": [
    "application_train[col_to_analyse].value_counts()"
   ]
  },
  {
   "cell_type": "code",
   "execution_count": 60,
   "metadata": {},
   "outputs": [],
   "source": [
    "#application_train[col_to_analyse].plot.density()"
   ]
  },
  {
   "cell_type": "code",
   "execution_count": 61,
   "metadata": {},
   "outputs": [
    {
     "data": {
      "text/plain": [
       "0     198762\n",
       "1      55665\n",
       "2      24416\n",
       "3       3359\n",
       "4        374\n",
       "5         77\n",
       "6         15\n",
       "7          7\n",
       "14         3\n",
       "19         2\n",
       "12         2\n",
       "10         2\n",
       "8          2\n",
       "Name: CNT_CHILDREN, dtype: int64"
      ]
     },
     "execution_count": 61,
     "metadata": {},
     "output_type": "execute_result"
    }
   ],
   "source": [
    "# Values for Class 0\n",
    "application_train[application_train.TARGET == 0][col_to_analyse].value_counts()"
   ]
  },
  {
   "cell_type": "code",
   "execution_count": 62,
   "metadata": {},
   "outputs": [
    {
     "data": {
      "text/plain": [
       "0     16609\n",
       "1      5454\n",
       "2      2333\n",
       "3       358\n",
       "4        55\n",
       "5         7\n",
       "6         6\n",
       "9         2\n",
       "11        1\n",
       "Name: CNT_CHILDREN, dtype: int64"
      ]
     },
     "execution_count": 62,
     "metadata": {},
     "output_type": "execute_result"
    }
   ],
   "source": [
    "# Values for Class 1\n",
    "application_train[application_train.TARGET == 1][col_to_analyse].value_counts()"
   ]
  },
  {
   "cell_type": "code",
   "execution_count": 63,
   "metadata": {},
   "outputs": [
    {
     "name": "stdout",
     "output_type": "stream",
     "text": [
      "Missing Values for CNT_CHILDREN, \n",
      "application_train: 0 \n",
      "application_test: 0.\n"
     ]
    }
   ],
   "source": [
    "# Show missing values for train dataset\n",
    "print(\"Missing Values for {}, \\napplication_train: {} \\napplication_test: {}.\".format(col_to_analyse, \n",
    "                                                                            application_train[col_to_analyse].isnull().sum(),\n",
    "                                                                            application_test[col_to_analyse].isnull().sum()))"
   ]
  },
  {
   "cell_type": "code",
   "execution_count": 64,
   "metadata": {
    "scrolled": true
   },
   "outputs": [
    {
     "data": {
      "text/plain": [
       "0.019189112947537213"
      ]
     },
     "execution_count": 64,
     "metadata": {},
     "output_type": "execute_result"
    }
   ],
   "source": [
    "prep_train.TARGET.corr(prep_train[col_to_analyse])"
   ]
  },
  {
   "cell_type": "code",
   "execution_count": 65,
   "metadata": {},
   "outputs": [
    {
     "name": "stdout",
     "output_type": "stream",
     "text": [
      "Shape TRAIN: (307507, 122)\n",
      "Shape  TEST: (48744, 121)\n"
     ]
    }
   ],
   "source": [
    "print_data_dimensions(prep_train, prep_test)"
   ]
  },
  {
   "cell_type": "markdown",
   "metadata": {},
   "source": [
    "### AMT_INCOME_TOTAL\n",
    "\n",
    "Income of the client.\n",
    "\n",
    "__numeric value__"
   ]
  },
  {
   "cell_type": "code",
   "execution_count": 66,
   "metadata": {},
   "outputs": [],
   "source": [
    "col_to_analyse = 'AMT_INCOME_TOTAL'"
   ]
  },
  {
   "cell_type": "code",
   "execution_count": 67,
   "metadata": {},
   "outputs": [
    {
     "data": {
      "text/plain": [
       "count    3.075110e+05\n",
       "mean     1.687979e+05\n",
       "std      2.371231e+05\n",
       "min      2.565000e+04\n",
       "25%      1.125000e+05\n",
       "50%      1.471500e+05\n",
       "75%      2.025000e+05\n",
       "max      1.170000e+08\n",
       "Name: AMT_INCOME_TOTAL, dtype: float64"
      ]
     },
     "execution_count": 67,
     "metadata": {},
     "output_type": "execute_result"
    }
   ],
   "source": [
    "application_train[col_to_analyse].describe()"
   ]
  },
  {
   "cell_type": "code",
   "execution_count": 68,
   "metadata": {},
   "outputs": [
    {
     "data": {
      "text/plain": [
       "<matplotlib.axes._subplots.AxesSubplot at 0x166350b8>"
      ]
     },
     "execution_count": 68,
     "metadata": {},
     "output_type": "execute_result"
    },
    {
     "data": {
      "image/png": "[encoded data removed]",
      "text/plain": [
       "<Figure size 432x288 with 1 Axes>"
      ]
     },
     "metadata": {},
     "output_type": "display_data"
    }
   ],
   "source": [
    "index_to_drop = prep_train[prep_train[col_to_analyse] > 1.0e+8].index\n",
    "prep_train[col_to_analyse].drop(index_to_drop).plot.hist(bins=100)"
   ]
  },
  {
   "cell_type": "code",
   "execution_count": 69,
   "metadata": {},
   "outputs": [
    {
     "data": {
      "text/html": [
       "<div>\n",
       "<style scoped>\n",
       "    .dataframe tbody tr th:only-of-type {\n",
       "        vertical-align: middle;\n",
       "    }\n",
       "\n",
       "    .dataframe tbody tr th {\n",
       "        vertical-align: top;\n",
       "    }\n",
       "\n",
       "    .dataframe thead th {\n",
       "        text-align: right;\n",
       "    }\n",
       "</style>\n",
       "<table border=\"1\" class=\"dataframe\">\n",
       "  <thead>\n",
       "    <tr style=\"text-align: right;\">\n",
       "      <th></th>\n",
       "      <th>SK_ID_CURR</th>\n",
       "      <th>TARGET</th>\n",
       "      <th>NAME_CONTRACT_TYPE</th>\n",
       "      <th>CODE_GENDER</th>\n",
       "      <th>FLAG_OWN_CAR</th>\n",
       "      <th>FLAG_OWN_REALTY</th>\n",
       "      <th>CNT_CHILDREN</th>\n",
       "      <th>AMT_INCOME_TOTAL</th>\n",
       "      <th>AMT_CREDIT</th>\n",
       "      <th>AMT_ANNUITY</th>\n",
       "      <th>...</th>\n",
       "      <th>FLAG_DOCUMENT_18</th>\n",
       "      <th>FLAG_DOCUMENT_19</th>\n",
       "      <th>FLAG_DOCUMENT_20</th>\n",
       "      <th>FLAG_DOCUMENT_21</th>\n",
       "      <th>AMT_REQ_CREDIT_BUREAU_HOUR</th>\n",
       "      <th>AMT_REQ_CREDIT_BUREAU_DAY</th>\n",
       "      <th>AMT_REQ_CREDIT_BUREAU_WEEK</th>\n",
       "      <th>AMT_REQ_CREDIT_BUREAU_MON</th>\n",
       "      <th>AMT_REQ_CREDIT_BUREAU_QRT</th>\n",
       "      <th>AMT_REQ_CREDIT_BUREAU_YEAR</th>\n",
       "    </tr>\n",
       "  </thead>\n",
       "  <tbody>\n",
       "    <tr>\n",
       "      <th>95648</th>\n",
       "      <td>211040</td>\n",
       "      <td>0</td>\n",
       "      <td>0</td>\n",
       "      <td>0</td>\n",
       "      <td>1</td>\n",
       "      <td>1</td>\n",
       "      <td>1</td>\n",
       "      <td>103500.0</td>\n",
       "      <td>333337.5</td>\n",
       "      <td>22405.5</td>\n",
       "      <td>...</td>\n",
       "      <td>0</td>\n",
       "      <td>0</td>\n",
       "      <td>0</td>\n",
       "      <td>0</td>\n",
       "      <td>0.0</td>\n",
       "      <td>0.0</td>\n",
       "      <td>0.0</td>\n",
       "      <td>0.0</td>\n",
       "      <td>1.0</td>\n",
       "      <td>1.0</td>\n",
       "    </tr>\n",
       "  </tbody>\n",
       "</table>\n",
       "<p>1 rows × 122 columns</p>\n",
       "</div>"
      ],
      "text/plain": [
       "       SK_ID_CURR  TARGET  NAME_CONTRACT_TYPE  CODE_GENDER  FLAG_OWN_CAR  \\\n",
       "95648      211040       0                   0            0             1   \n",
       "\n",
       "       FLAG_OWN_REALTY  CNT_CHILDREN  AMT_INCOME_TOTAL  AMT_CREDIT  \\\n",
       "95648                1             1          103500.0    333337.5   \n",
       "\n",
       "       AMT_ANNUITY             ...              FLAG_DOCUMENT_18  \\\n",
       "95648      22405.5             ...                             0   \n",
       "\n",
       "      FLAG_DOCUMENT_19 FLAG_DOCUMENT_20 FLAG_DOCUMENT_21  \\\n",
       "95648                0                0                0   \n",
       "\n",
       "      AMT_REQ_CREDIT_BUREAU_HOUR AMT_REQ_CREDIT_BUREAU_DAY  \\\n",
       "95648                        0.0                       0.0   \n",
       "\n",
       "       AMT_REQ_CREDIT_BUREAU_WEEK  AMT_REQ_CREDIT_BUREAU_MON  \\\n",
       "95648                         0.0                        0.0   \n",
       "\n",
       "       AMT_REQ_CREDIT_BUREAU_QRT  AMT_REQ_CREDIT_BUREAU_YEAR  \n",
       "95648                        1.0                         1.0  \n",
       "\n",
       "[1 rows x 122 columns]"
      ]
     },
     "execution_count": 69,
     "metadata": {},
     "output_type": "execute_result"
    }
   ],
   "source": [
    "prep_train.iloc[index_to_drop]"
   ]
  },
  {
   "cell_type": "markdown",
   "metadata": {},
   "source": [
    "It seems that the highest value for AMT_INCOME_TOTAL must be a outlier. It makes no sens for a person with such a high income to have difficulties to pay back the loan or even affort a own car. That´s why we remove the outlier manually."
   ]
  },
  {
   "cell_type": "code",
   "execution_count": 70,
   "metadata": {},
   "outputs": [],
   "source": [
    "prep_train = prep_train.drop(index_to_drop)"
   ]
  },
  {
   "cell_type": "code",
   "execution_count": 71,
   "metadata": {},
   "outputs": [
    {
     "name": "stdout",
     "output_type": "stream",
     "text": [
      "Missing Values for AMT_INCOME_TOTAL, \n",
      "application_train: 0 \n",
      "application_test: 0.\n"
     ]
    }
   ],
   "source": [
    "# Show missing values for train dataset\n",
    "print(\"Missing Values for {}, \\napplication_train: {} \\napplication_test: {}.\".format(col_to_analyse, \n",
    "                                                                            application_train[col_to_analyse].isnull().sum(),\n",
    "                                                                            application_test[col_to_analyse].isnull().sum()))"
   ]
  },
  {
   "cell_type": "code",
   "execution_count": 72,
   "metadata": {
    "scrolled": false
   },
   "outputs": [
    {
     "data": {
      "text/plain": [
       "-0.02045944469451711"
      ]
     },
     "execution_count": 72,
     "metadata": {},
     "output_type": "execute_result"
    }
   ],
   "source": [
    "prep_train.TARGET.corr(prep_train[col_to_analyse])"
   ]
  },
  {
   "cell_type": "code",
   "execution_count": 73,
   "metadata": {},
   "outputs": [
    {
     "name": "stdout",
     "output_type": "stream",
     "text": [
      "Shape TRAIN: (307506, 122)\n",
      "Shape  TEST: (48744, 121)\n"
     ]
    }
   ],
   "source": [
    "print_data_dimensions(prep_train, prep_test)"
   ]
  },
  {
   "cell_type": "markdown",
   "metadata": {},
   "source": [
    "### AMT_CREDIT\n",
    "\n",
    "Credit amount of the loan.\n",
    "\n",
    "__numeric value__"
   ]
  },
  {
   "cell_type": "code",
   "execution_count": 74,
   "metadata": {},
   "outputs": [],
   "source": [
    "col_to_analyse = 'AMT_CREDIT'"
   ]
  },
  {
   "cell_type": "code",
   "execution_count": 75,
   "metadata": {},
   "outputs": [
    {
     "data": {
      "text/plain": [
       "count    3.075110e+05\n",
       "mean     5.990260e+05\n",
       "std      4.024908e+05\n",
       "min      4.500000e+04\n",
       "25%      2.700000e+05\n",
       "50%      5.135310e+05\n",
       "75%      8.086500e+05\n",
       "max      4.050000e+06\n",
       "Name: AMT_CREDIT, dtype: float64"
      ]
     },
     "execution_count": 75,
     "metadata": {},
     "output_type": "execute_result"
    }
   ],
   "source": [
    "application_train[col_to_analyse].describe()"
   ]
  },
  {
   "cell_type": "code",
   "execution_count": 76,
   "metadata": {},
   "outputs": [
    {
     "data": {
      "text/plain": [
       "<matplotlib.axes._subplots.AxesSubplot at 0x166196d8>"
      ]
     },
     "execution_count": 76,
     "metadata": {},
     "output_type": "execute_result"
    },
    {
     "data": {
      "image/png": "[encoded data removed]",
      "text/plain": [
       "<Figure size 432x288 with 1 Axes>"
      ]
     },
     "metadata": {},
     "output_type": "display_data"
    }
   ],
   "source": [
    "application_train[col_to_analyse].plot.hist(bins=10)"
   ]
  },
  {
   "cell_type": "code",
   "execution_count": 77,
   "metadata": {},
   "outputs": [],
   "source": [
    "#application_train[col_to_analyse].plot.density()"
   ]
  },
  {
   "cell_type": "code",
   "execution_count": 78,
   "metadata": {},
   "outputs": [
    {
     "name": "stdout",
     "output_type": "stream",
     "text": [
      "Missing Values for AMT_CREDIT, \n",
      "application_train: 0 \n",
      "application_test: 0.\n"
     ]
    }
   ],
   "source": [
    "# Show missing values for train dataset\n",
    "print(\"Missing Values for {}, \\napplication_train: {} \\napplication_test: {}.\".format(col_to_analyse, \n",
    "                                                                            application_train[col_to_analyse].isnull().sum(),\n",
    "                                                                            application_test[col_to_analyse].isnull().sum()))"
   ]
  },
  {
   "cell_type": "code",
   "execution_count": 79,
   "metadata": {
    "scrolled": false
   },
   "outputs": [
    {
     "data": {
      "text/plain": [
       "-0.03037084231284032"
      ]
     },
     "execution_count": 79,
     "metadata": {},
     "output_type": "execute_result"
    }
   ],
   "source": [
    "prep_train.TARGET.corr(prep_train[col_to_analyse])"
   ]
  },
  {
   "cell_type": "code",
   "execution_count": 80,
   "metadata": {},
   "outputs": [
    {
     "name": "stdout",
     "output_type": "stream",
     "text": [
      "Shape TRAIN: (307506, 122)\n",
      "Shape  TEST: (48744, 121)\n"
     ]
    }
   ],
   "source": [
    "print_data_dimensions(prep_train, prep_test)"
   ]
  },
  {
   "cell_type": "markdown",
   "metadata": {},
   "source": [
    "### AMT_ANNUITY\n",
    "\n",
    "How much the client paid back every year.\n",
    "\n",
    "__numeric value__"
   ]
  },
  {
   "cell_type": "code",
   "execution_count": 81,
   "metadata": {},
   "outputs": [],
   "source": [
    "col_to_analyse = 'AMT_ANNUITY'"
   ]
  },
  {
   "cell_type": "code",
   "execution_count": 82,
   "metadata": {},
   "outputs": [
    {
     "data": {
      "text/plain": [
       "count    307499.000000\n",
       "mean      27108.573909\n",
       "std       14493.737315\n",
       "min        1615.500000\n",
       "25%       16524.000000\n",
       "50%       24903.000000\n",
       "75%       34596.000000\n",
       "max      258025.500000\n",
       "Name: AMT_ANNUITY, dtype: float64"
      ]
     },
     "execution_count": 82,
     "metadata": {},
     "output_type": "execute_result"
    }
   ],
   "source": [
    "application_train[col_to_analyse].describe()"
   ]
  },
  {
   "cell_type": "markdown",
   "metadata": {},
   "source": [
    "The max value seems to be a little bit high so we will look at this specific client to verify if it is an oulier or not."
   ]
  },
  {
   "cell_type": "code",
   "execution_count": 83,
   "metadata": {},
   "outputs": [
    {
     "data": {
      "text/html": [
       "<div>\n",
       "<style scoped>\n",
       "    .dataframe tbody tr th:only-of-type {\n",
       "        vertical-align: middle;\n",
       "    }\n",
       "\n",
       "    .dataframe tbody tr th {\n",
       "        vertical-align: top;\n",
       "    }\n",
       "\n",
       "    .dataframe thead th {\n",
       "        text-align: right;\n",
       "    }\n",
       "</style>\n",
       "<table border=\"1\" class=\"dataframe\">\n",
       "  <thead>\n",
       "    <tr style=\"text-align: right;\">\n",
       "      <th></th>\n",
       "      <th>SK_ID_CURR</th>\n",
       "      <th>TARGET</th>\n",
       "      <th>NAME_CONTRACT_TYPE</th>\n",
       "      <th>CODE_GENDER</th>\n",
       "      <th>FLAG_OWN_CAR</th>\n",
       "      <th>FLAG_OWN_REALTY</th>\n",
       "      <th>CNT_CHILDREN</th>\n",
       "      <th>AMT_INCOME_TOTAL</th>\n",
       "      <th>AMT_CREDIT</th>\n",
       "      <th>AMT_ANNUITY</th>\n",
       "      <th>...</th>\n",
       "      <th>FLAG_DOCUMENT_18</th>\n",
       "      <th>FLAG_DOCUMENT_19</th>\n",
       "      <th>FLAG_DOCUMENT_20</th>\n",
       "      <th>FLAG_DOCUMENT_21</th>\n",
       "      <th>AMT_REQ_CREDIT_BUREAU_HOUR</th>\n",
       "      <th>AMT_REQ_CREDIT_BUREAU_DAY</th>\n",
       "      <th>AMT_REQ_CREDIT_BUREAU_WEEK</th>\n",
       "      <th>AMT_REQ_CREDIT_BUREAU_MON</th>\n",
       "      <th>AMT_REQ_CREDIT_BUREAU_QRT</th>\n",
       "      <th>AMT_REQ_CREDIT_BUREAU_YEAR</th>\n",
       "    </tr>\n",
       "  </thead>\n",
       "  <tbody>\n",
       "    <tr>\n",
       "      <th>17948</th>\n",
       "      <td>120926</td>\n",
       "      <td>0</td>\n",
       "      <td>Cash loans</td>\n",
       "      <td>M</td>\n",
       "      <td>Y</td>\n",
       "      <td>N</td>\n",
       "      <td>2</td>\n",
       "      <td>783000.0</td>\n",
       "      <td>4050000.0</td>\n",
       "      <td>258025.5</td>\n",
       "      <td>...</td>\n",
       "      <td>0</td>\n",
       "      <td>0</td>\n",
       "      <td>0</td>\n",
       "      <td>0</td>\n",
       "      <td>0.0</td>\n",
       "      <td>0.0</td>\n",
       "      <td>0.0</td>\n",
       "      <td>0.0</td>\n",
       "      <td>0.0</td>\n",
       "      <td>0.0</td>\n",
       "    </tr>\n",
       "  </tbody>\n",
       "</table>\n",
       "<p>1 rows × 122 columns</p>\n",
       "</div>"
      ],
      "text/plain": [
       "       SK_ID_CURR  TARGET NAME_CONTRACT_TYPE CODE_GENDER FLAG_OWN_CAR  \\\n",
       "17948      120926       0         Cash loans           M            Y   \n",
       "\n",
       "      FLAG_OWN_REALTY  CNT_CHILDREN  AMT_INCOME_TOTAL  AMT_CREDIT  \\\n",
       "17948               N             2          783000.0   4050000.0   \n",
       "\n",
       "       AMT_ANNUITY             ...              FLAG_DOCUMENT_18  \\\n",
       "17948     258025.5             ...                             0   \n",
       "\n",
       "      FLAG_DOCUMENT_19 FLAG_DOCUMENT_20 FLAG_DOCUMENT_21  \\\n",
       "17948                0                0                0   \n",
       "\n",
       "      AMT_REQ_CREDIT_BUREAU_HOUR AMT_REQ_CREDIT_BUREAU_DAY  \\\n",
       "17948                        0.0                       0.0   \n",
       "\n",
       "       AMT_REQ_CREDIT_BUREAU_WEEK  AMT_REQ_CREDIT_BUREAU_MON  \\\n",
       "17948                         0.0                        0.0   \n",
       "\n",
       "       AMT_REQ_CREDIT_BUREAU_QRT  AMT_REQ_CREDIT_BUREAU_YEAR  \n",
       "17948                        0.0                         0.0  \n",
       "\n",
       "[1 rows x 122 columns]"
      ]
     },
     "execution_count": 83,
     "metadata": {},
     "output_type": "execute_result"
    }
   ],
   "source": [
    "application_train[application_train[col_to_analyse] > 250000]"
   ]
  },
  {
   "cell_type": "markdown",
   "metadata": {},
   "source": [
    "We can see that this client has a plausible income for this annuity."
   ]
  },
  {
   "cell_type": "markdown",
   "metadata": {},
   "source": [
    "We calculated 2 new features which seem to have a relativ high correlation with the target. We should analyse later on if those features brings some gain."
   ]
  },
  {
   "cell_type": "code",
   "execution_count": 84,
   "metadata": {},
   "outputs": [
    {
     "data": {
      "text/plain": [
       "0.012703610951500717"
      ]
     },
     "execution_count": 84,
     "metadata": {},
     "output_type": "execute_result"
    }
   ],
   "source": [
    "(application_train.AMT_ANNUITY / application_train.AMT_CREDIT).corr(application_train.TARGET)"
   ]
  },
  {
   "cell_type": "code",
   "execution_count": 85,
   "metadata": {},
   "outputs": [
    {
     "data": {
      "text/plain": [
       "-0.03210151683730928"
      ]
     },
     "execution_count": 85,
     "metadata": {},
     "output_type": "execute_result"
    }
   ],
   "source": [
    "(application_train.AMT_CREDIT / application_train.AMT_ANNUITY).corr(application_train.TARGET)"
   ]
  },
  {
   "cell_type": "code",
   "execution_count": 86,
   "metadata": {},
   "outputs": [
    {
     "data": {
      "text/plain": [
       "<matplotlib.axes._subplots.AxesSubplot at 0x16913390>"
      ]
     },
     "execution_count": 86,
     "metadata": {},
     "output_type": "execute_result"
    },
    {
     "data": {
      "image/png": "[encoded data removed]",
      "text/plain": [
       "<Figure size 432x288 with 1 Axes>"
      ]
     },
     "metadata": {},
     "output_type": "display_data"
    }
   ],
   "source": [
    "application_train[col_to_analyse].plot.hist(bins=100)"
   ]
  },
  {
   "cell_type": "code",
   "execution_count": 87,
   "metadata": {},
   "outputs": [],
   "source": [
    "#application_train[col_to_analyse].plot.density()"
   ]
  },
  {
   "cell_type": "code",
   "execution_count": 88,
   "metadata": {},
   "outputs": [
    {
     "data": {
      "text/html": [
       "<div>\n",
       "<style scoped>\n",
       "    .dataframe tbody tr th:only-of-type {\n",
       "        vertical-align: middle;\n",
       "    }\n",
       "\n",
       "    .dataframe tbody tr th {\n",
       "        vertical-align: top;\n",
       "    }\n",
       "\n",
       "    .dataframe thead th {\n",
       "        text-align: right;\n",
       "    }\n",
       "</style>\n",
       "<table border=\"1\" class=\"dataframe\">\n",
       "  <thead>\n",
       "    <tr style=\"text-align: right;\">\n",
       "      <th></th>\n",
       "      <th>SK_ID_CURR</th>\n",
       "      <th>TARGET</th>\n",
       "      <th>NAME_CONTRACT_TYPE</th>\n",
       "      <th>CODE_GENDER</th>\n",
       "      <th>FLAG_OWN_CAR</th>\n",
       "      <th>FLAG_OWN_REALTY</th>\n",
       "      <th>CNT_CHILDREN</th>\n",
       "      <th>AMT_INCOME_TOTAL</th>\n",
       "      <th>AMT_CREDIT</th>\n",
       "      <th>AMT_ANNUITY</th>\n",
       "      <th>...</th>\n",
       "      <th>FLAG_DOCUMENT_18</th>\n",
       "      <th>FLAG_DOCUMENT_19</th>\n",
       "      <th>FLAG_DOCUMENT_20</th>\n",
       "      <th>FLAG_DOCUMENT_21</th>\n",
       "      <th>AMT_REQ_CREDIT_BUREAU_HOUR</th>\n",
       "      <th>AMT_REQ_CREDIT_BUREAU_DAY</th>\n",
       "      <th>AMT_REQ_CREDIT_BUREAU_WEEK</th>\n",
       "      <th>AMT_REQ_CREDIT_BUREAU_MON</th>\n",
       "      <th>AMT_REQ_CREDIT_BUREAU_QRT</th>\n",
       "      <th>AMT_REQ_CREDIT_BUREAU_YEAR</th>\n",
       "    </tr>\n",
       "  </thead>\n",
       "  <tbody>\n",
       "    <tr>\n",
       "      <th>75873</th>\n",
       "      <td>187985</td>\n",
       "      <td>0</td>\n",
       "      <td>Cash loans</td>\n",
       "      <td>M</td>\n",
       "      <td>Y</td>\n",
       "      <td>N</td>\n",
       "      <td>0</td>\n",
       "      <td>144000.0</td>\n",
       "      <td>219249.0</td>\n",
       "      <td>NaN</td>\n",
       "      <td>...</td>\n",
       "      <td>0</td>\n",
       "      <td>0</td>\n",
       "      <td>0</td>\n",
       "      <td>0</td>\n",
       "      <td>0.0</td>\n",
       "      <td>0.0</td>\n",
       "      <td>0.0</td>\n",
       "      <td>0.0</td>\n",
       "      <td>0.0</td>\n",
       "      <td>11.0</td>\n",
       "    </tr>\n",
       "    <tr>\n",
       "      <th>227939</th>\n",
       "      <td>364022</td>\n",
       "      <td>0</td>\n",
       "      <td>Cash loans</td>\n",
       "      <td>F</td>\n",
       "      <td>N</td>\n",
       "      <td>Y</td>\n",
       "      <td>0</td>\n",
       "      <td>315000.0</td>\n",
       "      <td>628069.5</td>\n",
       "      <td>NaN</td>\n",
       "      <td>...</td>\n",
       "      <td>0</td>\n",
       "      <td>0</td>\n",
       "      <td>0</td>\n",
       "      <td>0</td>\n",
       "      <td>0.0</td>\n",
       "      <td>0.0</td>\n",
       "      <td>1.0</td>\n",
       "      <td>0.0</td>\n",
       "      <td>0.0</td>\n",
       "      <td>2.0</td>\n",
       "    </tr>\n",
       "    <tr>\n",
       "      <th>47531</th>\n",
       "      <td>155054</td>\n",
       "      <td>0</td>\n",
       "      <td>Cash loans</td>\n",
       "      <td>M</td>\n",
       "      <td>N</td>\n",
       "      <td>N</td>\n",
       "      <td>0</td>\n",
       "      <td>180000.0</td>\n",
       "      <td>450000.0</td>\n",
       "      <td>NaN</td>\n",
       "      <td>...</td>\n",
       "      <td>0</td>\n",
       "      <td>0</td>\n",
       "      <td>0</td>\n",
       "      <td>0</td>\n",
       "      <td>0.0</td>\n",
       "      <td>0.0</td>\n",
       "      <td>0.0</td>\n",
       "      <td>0.0</td>\n",
       "      <td>1.0</td>\n",
       "      <td>1.0</td>\n",
       "    </tr>\n",
       "    <tr>\n",
       "      <th>55025</th>\n",
       "      <td>163757</td>\n",
       "      <td>0</td>\n",
       "      <td>Cash loans</td>\n",
       "      <td>F</td>\n",
       "      <td>N</td>\n",
       "      <td>N</td>\n",
       "      <td>0</td>\n",
       "      <td>162000.0</td>\n",
       "      <td>296280.0</td>\n",
       "      <td>NaN</td>\n",
       "      <td>...</td>\n",
       "      <td>0</td>\n",
       "      <td>0</td>\n",
       "      <td>0</td>\n",
       "      <td>0</td>\n",
       "      <td>0.0</td>\n",
       "      <td>0.0</td>\n",
       "      <td>0.0</td>\n",
       "      <td>1.0</td>\n",
       "      <td>0.0</td>\n",
       "      <td>4.0</td>\n",
       "    </tr>\n",
       "    <tr>\n",
       "      <th>50035</th>\n",
       "      <td>157917</td>\n",
       "      <td>0</td>\n",
       "      <td>Cash loans</td>\n",
       "      <td>F</td>\n",
       "      <td>N</td>\n",
       "      <td>N</td>\n",
       "      <td>0</td>\n",
       "      <td>94500.0</td>\n",
       "      <td>450000.0</td>\n",
       "      <td>NaN</td>\n",
       "      <td>...</td>\n",
       "      <td>0</td>\n",
       "      <td>0</td>\n",
       "      <td>0</td>\n",
       "      <td>0</td>\n",
       "      <td>0.0</td>\n",
       "      <td>0.0</td>\n",
       "      <td>0.0</td>\n",
       "      <td>1.0</td>\n",
       "      <td>0.0</td>\n",
       "      <td>1.0</td>\n",
       "    </tr>\n",
       "    <tr>\n",
       "      <th>241835</th>\n",
       "      <td>379997</td>\n",
       "      <td>0</td>\n",
       "      <td>Cash loans</td>\n",
       "      <td>F</td>\n",
       "      <td>N</td>\n",
       "      <td>N</td>\n",
       "      <td>0</td>\n",
       "      <td>315000.0</td>\n",
       "      <td>1483231.5</td>\n",
       "      <td>NaN</td>\n",
       "      <td>...</td>\n",
       "      <td>0</td>\n",
       "      <td>0</td>\n",
       "      <td>0</td>\n",
       "      <td>0</td>\n",
       "      <td>NaN</td>\n",
       "      <td>NaN</td>\n",
       "      <td>NaN</td>\n",
       "      <td>NaN</td>\n",
       "      <td>NaN</td>\n",
       "      <td>NaN</td>\n",
       "    </tr>\n",
       "    <tr>\n",
       "      <th>89343</th>\n",
       "      <td>203726</td>\n",
       "      <td>0</td>\n",
       "      <td>Cash loans</td>\n",
       "      <td>F</td>\n",
       "      <td>Y</td>\n",
       "      <td>N</td>\n",
       "      <td>0</td>\n",
       "      <td>90000.0</td>\n",
       "      <td>157500.0</td>\n",
       "      <td>NaN</td>\n",
       "      <td>...</td>\n",
       "      <td>0</td>\n",
       "      <td>0</td>\n",
       "      <td>0</td>\n",
       "      <td>0</td>\n",
       "      <td>0.0</td>\n",
       "      <td>0.0</td>\n",
       "      <td>0.0</td>\n",
       "      <td>2.0</td>\n",
       "      <td>0.0</td>\n",
       "      <td>0.0</td>\n",
       "    </tr>\n",
       "    <tr>\n",
       "      <th>207186</th>\n",
       "      <td>340147</td>\n",
       "      <td>0</td>\n",
       "      <td>Cash loans</td>\n",
       "      <td>M</td>\n",
       "      <td>N</td>\n",
       "      <td>N</td>\n",
       "      <td>0</td>\n",
       "      <td>171000.0</td>\n",
       "      <td>486000.0</td>\n",
       "      <td>NaN</td>\n",
       "      <td>...</td>\n",
       "      <td>0</td>\n",
       "      <td>0</td>\n",
       "      <td>0</td>\n",
       "      <td>0</td>\n",
       "      <td>0.0</td>\n",
       "      <td>0.0</td>\n",
       "      <td>1.0</td>\n",
       "      <td>1.0</td>\n",
       "      <td>0.0</td>\n",
       "      <td>2.0</td>\n",
       "    </tr>\n",
       "    <tr>\n",
       "      <th>59934</th>\n",
       "      <td>169487</td>\n",
       "      <td>0</td>\n",
       "      <td>Cash loans</td>\n",
       "      <td>M</td>\n",
       "      <td>Y</td>\n",
       "      <td>N</td>\n",
       "      <td>0</td>\n",
       "      <td>202500.0</td>\n",
       "      <td>360000.0</td>\n",
       "      <td>NaN</td>\n",
       "      <td>...</td>\n",
       "      <td>0</td>\n",
       "      <td>0</td>\n",
       "      <td>0</td>\n",
       "      <td>0</td>\n",
       "      <td>0.0</td>\n",
       "      <td>0.0</td>\n",
       "      <td>1.0</td>\n",
       "      <td>0.0</td>\n",
       "      <td>0.0</td>\n",
       "      <td>6.0</td>\n",
       "    </tr>\n",
       "    <tr>\n",
       "      <th>239329</th>\n",
       "      <td>377174</td>\n",
       "      <td>0</td>\n",
       "      <td>Cash loans</td>\n",
       "      <td>F</td>\n",
       "      <td>N</td>\n",
       "      <td>Y</td>\n",
       "      <td>0</td>\n",
       "      <td>157500.0</td>\n",
       "      <td>792000.0</td>\n",
       "      <td>NaN</td>\n",
       "      <td>...</td>\n",
       "      <td>0</td>\n",
       "      <td>0</td>\n",
       "      <td>0</td>\n",
       "      <td>0</td>\n",
       "      <td>0.0</td>\n",
       "      <td>0.0</td>\n",
       "      <td>0.0</td>\n",
       "      <td>0.0</td>\n",
       "      <td>1.0</td>\n",
       "      <td>1.0</td>\n",
       "    </tr>\n",
       "    <tr>\n",
       "      <th>51594</th>\n",
       "      <td>159744</td>\n",
       "      <td>0</td>\n",
       "      <td>Cash loans</td>\n",
       "      <td>F</td>\n",
       "      <td>N</td>\n",
       "      <td>N</td>\n",
       "      <td>0</td>\n",
       "      <td>202500.0</td>\n",
       "      <td>539100.0</td>\n",
       "      <td>NaN</td>\n",
       "      <td>...</td>\n",
       "      <td>0</td>\n",
       "      <td>0</td>\n",
       "      <td>0</td>\n",
       "      <td>0</td>\n",
       "      <td>0.0</td>\n",
       "      <td>0.0</td>\n",
       "      <td>0.0</td>\n",
       "      <td>1.0</td>\n",
       "      <td>0.0</td>\n",
       "      <td>1.0</td>\n",
       "    </tr>\n",
       "    <tr>\n",
       "      <th>123872</th>\n",
       "      <td>243648</td>\n",
       "      <td>0</td>\n",
       "      <td>Cash loans</td>\n",
       "      <td>F</td>\n",
       "      <td>N</td>\n",
       "      <td>Y</td>\n",
       "      <td>0</td>\n",
       "      <td>202500.0</td>\n",
       "      <td>929088.0</td>\n",
       "      <td>NaN</td>\n",
       "      <td>...</td>\n",
       "      <td>0</td>\n",
       "      <td>0</td>\n",
       "      <td>0</td>\n",
       "      <td>0</td>\n",
       "      <td>0.0</td>\n",
       "      <td>0.0</td>\n",
       "      <td>0.0</td>\n",
       "      <td>0.0</td>\n",
       "      <td>1.0</td>\n",
       "      <td>5.0</td>\n",
       "    </tr>\n",
       "  </tbody>\n",
       "</table>\n",
       "<p>12 rows × 122 columns</p>\n",
       "</div>"
      ],
      "text/plain": [
       "        SK_ID_CURR  TARGET NAME_CONTRACT_TYPE CODE_GENDER FLAG_OWN_CAR  \\\n",
       "75873       187985       0         Cash loans           M            Y   \n",
       "227939      364022       0         Cash loans           F            N   \n",
       "47531       155054       0         Cash loans           M            N   \n",
       "55025       163757       0         Cash loans           F            N   \n",
       "50035       157917       0         Cash loans           F            N   \n",
       "241835      379997       0         Cash loans           F            N   \n",
       "89343       203726       0         Cash loans           F            Y   \n",
       "207186      340147       0         Cash loans           M            N   \n",
       "59934       169487       0         Cash loans           M            Y   \n",
       "239329      377174       0         Cash loans           F            N   \n",
       "51594       159744       0         Cash loans           F            N   \n",
       "123872      243648       0         Cash loans           F            N   \n",
       "\n",
       "       FLAG_OWN_REALTY  CNT_CHILDREN  AMT_INCOME_TOTAL  AMT_CREDIT  \\\n",
       "75873                N             0          144000.0    219249.0   \n",
       "227939               Y             0          315000.0    628069.5   \n",
       "47531                N             0          180000.0    450000.0   \n",
       "55025                N             0          162000.0    296280.0   \n",
       "50035                N             0           94500.0    450000.0   \n",
       "241835               N             0          315000.0   1483231.5   \n",
       "89343                N             0           90000.0    157500.0   \n",
       "207186               N             0          171000.0    486000.0   \n",
       "59934                N             0          202500.0    360000.0   \n",
       "239329               Y             0          157500.0    792000.0   \n",
       "51594                N             0          202500.0    539100.0   \n",
       "123872               Y             0          202500.0    929088.0   \n",
       "\n",
       "        AMT_ANNUITY             ...              FLAG_DOCUMENT_18  \\\n",
       "75873           NaN             ...                             0   \n",
       "227939          NaN             ...                             0   \n",
       "47531           NaN             ...                             0   \n",
       "55025           NaN             ...                             0   \n",
       "50035           NaN             ...                             0   \n",
       "241835          NaN             ...                             0   \n",
       "89343           NaN             ...                             0   \n",
       "207186          NaN             ...                             0   \n",
       "59934           NaN             ...                             0   \n",
       "239329          NaN             ...                             0   \n",
       "51594           NaN             ...                             0   \n",
       "123872          NaN             ...                             0   \n",
       "\n",
       "       FLAG_DOCUMENT_19 FLAG_DOCUMENT_20 FLAG_DOCUMENT_21  \\\n",
       "75873                 0                0                0   \n",
       "227939                0                0                0   \n",
       "47531                 0                0                0   \n",
       "55025                 0                0                0   \n",
       "50035                 0                0                0   \n",
       "241835                0                0                0   \n",
       "89343                 0                0                0   \n",
       "207186                0                0                0   \n",
       "59934                 0                0                0   \n",
       "239329                0                0                0   \n",
       "51594                 0                0                0   \n",
       "123872                0                0                0   \n",
       "\n",
       "       AMT_REQ_CREDIT_BUREAU_HOUR AMT_REQ_CREDIT_BUREAU_DAY  \\\n",
       "75873                         0.0                       0.0   \n",
       "227939                        0.0                       0.0   \n",
       "47531                         0.0                       0.0   \n",
       "55025                         0.0                       0.0   \n",
       "50035                         0.0                       0.0   \n",
       "241835                        NaN                       NaN   \n",
       "89343                         0.0                       0.0   \n",
       "207186                        0.0                       0.0   \n",
       "59934                         0.0                       0.0   \n",
       "239329                        0.0                       0.0   \n",
       "51594                         0.0                       0.0   \n",
       "123872                        0.0                       0.0   \n",
       "\n",
       "        AMT_REQ_CREDIT_BUREAU_WEEK  AMT_REQ_CREDIT_BUREAU_MON  \\\n",
       "75873                          0.0                        0.0   \n",
       "227939                         1.0                        0.0   \n",
       "47531                          0.0                        0.0   \n",
       "55025                          0.0                        1.0   \n",
       "50035                          0.0                        1.0   \n",
       "241835                         NaN                        NaN   \n",
       "89343                          0.0                        2.0   \n",
       "207186                         1.0                        1.0   \n",
       "59934                          1.0                        0.0   \n",
       "239329                         0.0                        0.0   \n",
       "51594                          0.0                        1.0   \n",
       "123872                         0.0                        0.0   \n",
       "\n",
       "        AMT_REQ_CREDIT_BUREAU_QRT  AMT_REQ_CREDIT_BUREAU_YEAR  \n",
       "75873                         0.0                        11.0  \n",
       "227939                        0.0                         2.0  \n",
       "47531                         1.0                         1.0  \n",
       "55025                         0.0                         4.0  \n",
       "50035                         0.0                         1.0  \n",
       "241835                        NaN                         NaN  \n",
       "89343                         0.0                         0.0  \n",
       "207186                        0.0                         2.0  \n",
       "59934                         0.0                         6.0  \n",
       "239329                        1.0                         1.0  \n",
       "51594                         0.0                         1.0  \n",
       "123872                        1.0                         5.0  \n",
       "\n",
       "[12 rows x 122 columns]"
      ]
     },
     "execution_count": 88,
     "metadata": {},
     "output_type": "execute_result"
    }
   ],
   "source": [
    "# Show missing values\n",
    "application_train[application_train[col_to_analyse].isnull()]"
   ]
  },
  {
   "cell_type": "code",
   "execution_count": 89,
   "metadata": {},
   "outputs": [
    {
     "name": "stdout",
     "output_type": "stream",
     "text": [
      "Missing Values for AMT_ANNUITY, application_train: 12 prep_train: 12.\n"
     ]
    }
   ],
   "source": [
    "# Show missing values for train dataset\n",
    "print(\"Missing Values for AMT_ANNUITY, application_train: {} prep_train: {}.\".format(application_train[col_to_analyse].isnull().sum(),\n",
    "                                                                                     prep_train[col_to_analyse].isnull().sum()))"
   ]
  },
  {
   "cell_type": "code",
   "execution_count": 90,
   "metadata": {},
   "outputs": [],
   "source": [
    "# We have entries where the AMT_ANNUITY is missing.\n",
    "# We decide to fill those missing values with values from entries that are similar regarding\n",
    "# AMT_INCOME_TOTAL, AMT_CREDIT and TARGET.\n",
    "def handle_missing_values_AMT_ANNUITY(dataset_, threshold = 0.05):\n",
    "    # to not modify the passed dataset\n",
    "    dataset = pd.DataFrame.copy(dataset_)\n",
    "    col_to_analyse = \"AMT_ANNUITY\" \n",
    "    SK_IDS_CURR = dataset[dataset[col_to_analyse].isnull()].SK_ID_CURR.values\n",
    "    \n",
    "    for SK_ID_CURR in SK_IDS_CURR:\n",
    "        # set filter for client with SK_ID_CURR and AMT_ANNUITY == NaN\n",
    "        AMT_CREDIT_FILTER = dataset[dataset.SK_ID_CURR == SK_ID_CURR].AMT_CREDIT.iloc[0]\n",
    "        AMT_INCOME_TOTAL_FILTER = dataset[dataset.SK_ID_CURR == SK_ID_CURR].AMT_INCOME_TOTAL.iloc[0]\n",
    "\n",
    "       # get mean of those entries that are most simlilar to the one with SK_ID_CURR\n",
    "        calc_mean = application_train[(application_train[col_to_analyse].isnull() == False)\n",
    "                                  & (application_train.AMT_CREDIT <= (AMT_CREDIT_FILTER*(1+threshold))) \n",
    "                                  & (application_train.AMT_CREDIT >= AMT_CREDIT_FILTER*(1-threshold))\n",
    "                                  & ((application_train.AMT_INCOME_TOTAL <= (AMT_INCOME_TOTAL_FILTER*(1+threshold))) \n",
    "                                  & (application_train.AMT_INCOME_TOTAL >= AMT_INCOME_TOTAL_FILTER*(1-threshold)))\n",
    "                                  & (application_train.TARGET == 0)].AMT_ANNUITY.mean()\n",
    "        \n",
    "        # set mean for AMT_ANNUITY in entry with SK_ID_CURR\n",
    "        IDX_OF_SK_ID_CURR = dataset[dataset.SK_ID_CURR == SK_ID_CURR].index[0]\n",
    "        dataset.at[IDX_OF_SK_ID_CURR,'AMT_ANNUITY'] = calc_mean\n",
    "    return dataset"
   ]
  },
  {
   "cell_type": "code",
   "execution_count": 91,
   "metadata": {},
   "outputs": [],
   "source": [
    "prep_train = handle_missing_values_AMT_ANNUITY(prep_train)"
   ]
  },
  {
   "cell_type": "code",
   "execution_count": 92,
   "metadata": {},
   "outputs": [
    {
     "name": "stdout",
     "output_type": "stream",
     "text": [
      "Missing Values for AMT_ANNUITY, application_train: 12 prep_train: 0.\n"
     ]
    }
   ],
   "source": [
    "# Show missing values for train dataset\n",
    "print(\"Missing Values for AMT_ANNUITY, application_train: {} prep_train: {}.\".format(application_train[col_to_analyse].isnull().sum(),\n",
    "                                                                                     prep_train[col_to_analyse].isnull().sum()))"
   ]
  },
  {
   "cell_type": "markdown",
   "metadata": {},
   "source": [
    "Now we handle the missing values for the test dataset."
   ]
  },
  {
   "cell_type": "code",
   "execution_count": 93,
   "metadata": {},
   "outputs": [
    {
     "name": "stdout",
     "output_type": "stream",
     "text": [
      "Missing Values for AMT_ANNUITY, application_test: 24 prep_test: 24.\n"
     ]
    }
   ],
   "source": [
    "# Show missing values for test dataset\n",
    "print(\"Missing Values for AMT_ANNUITY, application_test: {} prep_test: {}.\".format(application_test[col_to_analyse].isnull().sum(),\n",
    "                                                                                   prep_test[col_to_analyse].isnull().sum()))"
   ]
  },
  {
   "cell_type": "code",
   "execution_count": 94,
   "metadata": {},
   "outputs": [],
   "source": [
    "prep_test = handle_missing_values_AMT_ANNUITY(prep_test)"
   ]
  },
  {
   "cell_type": "markdown",
   "metadata": {},
   "source": [
    "Check if all missing values are filled."
   ]
  },
  {
   "cell_type": "code",
   "execution_count": 95,
   "metadata": {},
   "outputs": [
    {
     "name": "stdout",
     "output_type": "stream",
     "text": [
      "Missing Values for AMT_ANNUITY, application_test: 24 prep_test: 0.\n"
     ]
    }
   ],
   "source": [
    "# Show missing values for test dataset\n",
    "print(\"Missing Values for AMT_ANNUITY, application_test: {} prep_test: {}.\".format(application_test[col_to_analyse].isnull().sum(),\n",
    "                                                                                   prep_test[col_to_analyse].isnull().sum()))"
   ]
  },
  {
   "cell_type": "code",
   "execution_count": 96,
   "metadata": {
    "scrolled": false
   },
   "outputs": [
    {
     "data": {
      "text/plain": [
       "-0.012818139330200859"
      ]
     },
     "execution_count": 96,
     "metadata": {},
     "output_type": "execute_result"
    }
   ],
   "source": [
    "prep_train.TARGET.corr(prep_train[col_to_analyse])"
   ]
  },
  {
   "cell_type": "code",
   "execution_count": 97,
   "metadata": {},
   "outputs": [
    {
     "name": "stdout",
     "output_type": "stream",
     "text": [
      "Shape TRAIN: (307506, 122)\n",
      "Shape  TEST: (48744, 121)\n"
     ]
    }
   ],
   "source": [
    "print_data_dimensions(prep_train, prep_test)"
   ]
  },
  {
   "cell_type": "markdown",
   "metadata": {},
   "source": [
    "### AMT_GOODS_PRICE\n",
    "\n",
    "For consumer loans it is the price of the goods for which the loan is given.\n",
    "\n",
    "__numeric value__"
   ]
  },
  {
   "cell_type": "code",
   "execution_count": 98,
   "metadata": {},
   "outputs": [],
   "source": [
    "col_to_analyse = 'AMT_GOODS_PRICE'"
   ]
  },
  {
   "cell_type": "code",
   "execution_count": 99,
   "metadata": {},
   "outputs": [
    {
     "data": {
      "text/plain": [
       "count    3.072330e+05\n",
       "mean     5.383962e+05\n",
       "std      3.694465e+05\n",
       "min      4.050000e+04\n",
       "25%      2.385000e+05\n",
       "50%      4.500000e+05\n",
       "75%      6.795000e+05\n",
       "max      4.050000e+06\n",
       "Name: AMT_GOODS_PRICE, dtype: float64"
      ]
     },
     "execution_count": 99,
     "metadata": {},
     "output_type": "execute_result"
    }
   ],
   "source": [
    "application_train[col_to_analyse].describe()"
   ]
  },
  {
   "cell_type": "code",
   "execution_count": 100,
   "metadata": {},
   "outputs": [
    {
     "data": {
      "text/plain": [
       "<matplotlib.axes._subplots.AxesSubplot at 0x188225f8>"
      ]
     },
     "execution_count": 100,
     "metadata": {},
     "output_type": "execute_result"
    },
    {
     "data": {
      "image/png": "[encoded data removed]",
      "text/plain": [
       "<Figure size 432x288 with 1 Axes>"
      ]
     },
     "metadata": {},
     "output_type": "display_data"
    }
   ],
   "source": [
    "application_train[col_to_analyse].plot.hist(bins=100)"
   ]
  },
  {
   "cell_type": "code",
   "execution_count": 101,
   "metadata": {},
   "outputs": [],
   "source": [
    "#application_train[col_to_analyse].plot.density()"
   ]
  },
  {
   "cell_type": "code",
   "execution_count": 102,
   "metadata": {},
   "outputs": [
    {
     "data": {
      "text/plain": [
       "278"
      ]
     },
     "execution_count": 102,
     "metadata": {},
     "output_type": "execute_result"
    }
   ],
   "source": [
    "# Show missing values\n",
    "application_train[col_to_analyse].isnull().sum()"
   ]
  },
  {
   "cell_type": "markdown",
   "metadata": {},
   "source": [
    "Let´s analyse to which NAME_CONTRACT_TYPE the missing values belong."
   ]
  },
  {
   "cell_type": "code",
   "execution_count": 103,
   "metadata": {},
   "outputs": [
    {
     "data": {
      "text/plain": [
       "278"
      ]
     },
     "execution_count": 103,
     "metadata": {},
     "output_type": "execute_result"
    }
   ],
   "source": [
    "application_train[application_train.NAME_CONTRACT_TYPE == 'Revolving loans'][col_to_analyse].isnull().sum()"
   ]
  },
  {
   "cell_type": "markdown",
   "metadata": {},
   "source": [
    "All of the missing values belong to the NAME_CONTRACT_TYPE == 'Revolving loans'."
   ]
  },
  {
   "cell_type": "markdown",
   "metadata": {},
   "source": [
    "Now we want to analyse how the missing values could be filled best."
   ]
  },
  {
   "cell_type": "code",
   "execution_count": 104,
   "metadata": {},
   "outputs": [
    {
     "data": {
      "text/plain": [
       "0.011202568393729294"
      ]
     },
     "execution_count": 104,
     "metadata": {},
     "output_type": "execute_result"
    }
   ],
   "source": [
    "entries_goods_price_same_credit = application_train[(application_train.AMT_GOODS_PRICE.isnull() == False) &\n",
    "                                                    (application_train.AMT_CREDIT != application_train.AMT_GOODS_PRICE) & \n",
    "                                                    (application_train.NAME_CONTRACT_TYPE == \"Revolving loans\")].shape[0]\n",
    "\n",
    "entries_goods_price_same_credit / application_train[application_train.NAME_CONTRACT_TYPE == \"Revolving loans\"].shape[0]"
   ]
  },
  {
   "cell_type": "markdown",
   "metadata": {},
   "source": [
    "We can see that the only ca. 1% do not have the same AMT_GOODS_PRICE as AMT_CREDIT. This is the reason why we decide to set the missing values for AMT_GOODS_PRICE equal to the AMT_CREDIT. "
   ]
  },
  {
   "cell_type": "code",
   "execution_count": 105,
   "metadata": {},
   "outputs": [],
   "source": [
    "indices_with_missing_amt_goods = prep_train[prep_train.AMT_GOODS_PRICE.isnull() == True].index\n",
    "\n",
    "for index in indices_with_missing_amt_goods:\n",
    "    prep_train.at[index, col_to_analyse] = prep_train.at[index, \"AMT_CREDIT\"]"
   ]
  },
  {
   "cell_type": "code",
   "execution_count": 106,
   "metadata": {},
   "outputs": [],
   "source": [
    "indices_with_missing_amt_goods_test = prep_test[application_test.AMT_GOODS_PRICE.isnull() == True].index\n",
    "\n",
    "for index in indices_with_missing_amt_goods_test:\n",
    "    prep_test.at[index, col_to_analyse] = prep_test.at[index, \"AMT_CREDIT\"]"
   ]
  },
  {
   "cell_type": "code",
   "execution_count": 107,
   "metadata": {},
   "outputs": [
    {
     "data": {
      "text/plain": [
       "0"
      ]
     },
     "execution_count": 107,
     "metadata": {},
     "output_type": "execute_result"
    }
   ],
   "source": [
    "prep_train[col_to_analyse].isnull().sum()"
   ]
  },
  {
   "cell_type": "code",
   "execution_count": 108,
   "metadata": {
    "scrolled": false
   },
   "outputs": [
    {
     "data": {
      "text/plain": [
       "-0.039622856337927566"
      ]
     },
     "execution_count": 108,
     "metadata": {},
     "output_type": "execute_result"
    }
   ],
   "source": [
    "prep_train.TARGET.corr(prep_train[col_to_analyse])"
   ]
  },
  {
   "cell_type": "code",
   "execution_count": 109,
   "metadata": {},
   "outputs": [
    {
     "name": "stdout",
     "output_type": "stream",
     "text": [
      "Shape TRAIN: (307506, 122)\n",
      "Shape  TEST: (48744, 121)\n"
     ]
    }
   ],
   "source": [
    "print_data_dimensions(prep_train, prep_test)"
   ]
  },
  {
   "cell_type": "markdown",
   "metadata": {},
   "source": [
    "### NAME_TYPE_SUITE\n",
    "\n",
    "Who was accompanying client when he was applying for the loan.\n",
    "\n",
    "__Different Categories__"
   ]
  },
  {
   "cell_type": "code",
   "execution_count": 110,
   "metadata": {},
   "outputs": [],
   "source": [
    "col_to_analyse = 'NAME_TYPE_SUITE'"
   ]
  },
  {
   "cell_type": "code",
   "execution_count": 111,
   "metadata": {},
   "outputs": [
    {
     "data": {
      "text/plain": [
       "Unaccompanied      248526\n",
       "Family              40149\n",
       "Spouse, partner     11370\n",
       "Children             3267\n",
       "Other_B              1770\n",
       "Other_A               866\n",
       "Group of people       271\n",
       "Name: NAME_TYPE_SUITE, dtype: int64"
      ]
     },
     "execution_count": 111,
     "metadata": {},
     "output_type": "execute_result"
    }
   ],
   "source": [
    "application_train[col_to_analyse].value_counts()"
   ]
  },
  {
   "cell_type": "code",
   "execution_count": 112,
   "metadata": {},
   "outputs": [
    {
     "data": {
      "text/plain": [
       "Unaccompanied      228189\n",
       "Family              37140\n",
       "Spouse, partner     10475\n",
       "Children             3026\n",
       "Other_B              1596\n",
       "Other_A               790\n",
       "Group of people       248\n",
       "Name: NAME_TYPE_SUITE, dtype: int64"
      ]
     },
     "execution_count": 112,
     "metadata": {},
     "output_type": "execute_result"
    }
   ],
   "source": [
    "# Values for Class 0\n",
    "app_train_target_zero = application_train[application_train.TARGET == 0]\n",
    "app_train_target_zero[col_to_analyse].value_counts()"
   ]
  },
  {
   "cell_type": "code",
   "execution_count": 113,
   "metadata": {},
   "outputs": [
    {
     "data": {
      "text/plain": [
       "Unaccompanied      20337\n",
       "Family              3009\n",
       "Spouse, partner      895\n",
       "Children             241\n",
       "Other_B              174\n",
       "Other_A               76\n",
       "Group of people       23\n",
       "Name: NAME_TYPE_SUITE, dtype: int64"
      ]
     },
     "execution_count": 113,
     "metadata": {},
     "output_type": "execute_result"
    }
   ],
   "source": [
    "app_train_target_one = application_train[application_train.TARGET == 1]\n",
    "app_train_target_one[col_to_analyse].value_counts()"
   ]
  },
  {
   "cell_type": "code",
   "execution_count": 114,
   "metadata": {},
   "outputs": [],
   "source": [
    "# We have entries where the NAME_TYPE_SUITE is missing. \n",
    "# We decide to fill those missing values with values from entries that are similar regarding\n",
    "# FLAG_OWN_CAR, CNT_CHILDREN, NAME_FAMILY_STATUS, DAYS_BIRTH and CNT_FAM_MEMBERS.\n",
    "def handle_missing_values_NAME_TYPE_SUITE(dataset_, threshold_days_birth = 0.05, threshold_cnt_children = 0):\n",
    "    # to not modify the passed dataset\n",
    "    dataset = pd.DataFrame.copy(dataset_)\n",
    "    col_to_analyse = \"NAME_TYPE_SUITE\" \n",
    "    SK_IDS_CURR = dataset[dataset[col_to_analyse].isnull()].SK_ID_CURR.values\n",
    "    \n",
    "    for SK_ID_CURR in SK_IDS_CURR:\n",
    "        # set filter for client with SK_ID_CURR and NAME_TYPE_SUITE == NaN\n",
    "        NAME_FAMILY_STATUS_FILTER = dataset[dataset.SK_ID_CURR == SK_ID_CURR].NAME_FAMILY_STATUS.iloc[0]\n",
    "        CNT_CHILDREN_FILTER = dataset[dataset.SK_ID_CURR == SK_ID_CURR].CNT_CHILDREN.iloc[0]\n",
    "        DAYS_BIRTH_FILTER = dataset[dataset.SK_ID_CURR == SK_ID_CURR].DAYS_BIRTH.iloc[0]\n",
    "\n",
    "        # get most frequent of those entries that are most simlilar to the one with SK_ID_CURR\n",
    "        entries_similar = application_train[(application_train[col_to_analyse].isnull() == False)\n",
    "                                    & (application_train.NAME_FAMILY_STATUS == NAME_FAMILY_STATUS_FILTER) \n",
    "                                    & (application_train.CNT_CHILDREN <= (CNT_CHILDREN_FILTER + threshold_cnt_children))\n",
    "                                    & (application_train.CNT_CHILDREN >= (CNT_CHILDREN_FILTER - threshold_cnt_children))\n",
    "                                    & (application_train.DAYS_BIRTH >= (DAYS_BIRTH_FILTER*(1+threshold_days_birth)))\n",
    "                                    & (application_train.DAYS_BIRTH <= (DAYS_BIRTH_FILTER*(1-threshold_days_birth)))].NAME_TYPE_SUITE\n",
    "        if(entries_similar.size > 0):\n",
    "            calc_most_freq = entries_similar.describe().top\n",
    "            # set mean for NAME_TYPE_SUITE in entry with SK_ID_CURR\n",
    "            IDX_OF_SK_ID_CURR = dataset[dataset.SK_ID_CURR == SK_ID_CURR].index[0]\n",
    "            dataset.at[IDX_OF_SK_ID_CURR, col_to_analyse] = calc_most_freq \n",
    "    return dataset"
   ]
  },
  {
   "cell_type": "code",
   "execution_count": 115,
   "metadata": {},
   "outputs": [
    {
     "name": "stdout",
     "output_type": "stream",
     "text": [
      "Missing Values for NAME_TYPE_SUITE, application_train: 1292 prep_train: 1292.\n"
     ]
    }
   ],
   "source": [
    "# Show missing values for train dataset\n",
    "print(\"Missing Values for NAME_TYPE_SUITE, application_train: {} prep_train: {}.\".format(application_train[col_to_analyse].isnull().sum(),\n",
    "                                                                                          prep_train[col_to_analyse].isnull().sum()))"
   ]
  },
  {
   "cell_type": "code",
   "execution_count": 116,
   "metadata": {},
   "outputs": [],
   "source": [
    "prep_train = handle_missing_values_NAME_TYPE_SUITE(prep_train)"
   ]
  },
  {
   "cell_type": "markdown",
   "metadata": {},
   "source": [
    "Now we want to see if there were entries where we could not find a similiar one. "
   ]
  },
  {
   "cell_type": "code",
   "execution_count": 117,
   "metadata": {},
   "outputs": [
    {
     "name": "stdout",
     "output_type": "stream",
     "text": [
      "Missing Values for NAME_TYPE_SUITE, application_train: 1292 prep_train: 3.\n"
     ]
    }
   ],
   "source": [
    "# Show missing values for train dataset\n",
    "print(\"Missing Values for NAME_TYPE_SUITE, application_train: {} prep_train: {}.\".format(application_train[col_to_analyse].isnull().sum(),\n",
    "                                                                                          prep_train[col_to_analyse].isnull().sum()))"
   ]
  },
  {
   "cell_type": "markdown",
   "metadata": {},
   "source": [
    "There are stil 3 missing values which could not be filed with the method above. Let´s print them."
   ]
  },
  {
   "cell_type": "code",
   "execution_count": 118,
   "metadata": {},
   "outputs": [
    {
     "data": {
      "text/html": [
       "<div>\n",
       "<style scoped>\n",
       "    .dataframe tbody tr th:only-of-type {\n",
       "        vertical-align: middle;\n",
       "    }\n",
       "\n",
       "    .dataframe tbody tr th {\n",
       "        vertical-align: top;\n",
       "    }\n",
       "\n",
       "    .dataframe thead th {\n",
       "        text-align: right;\n",
       "    }\n",
       "</style>\n",
       "<table border=\"1\" class=\"dataframe\">\n",
       "  <thead>\n",
       "    <tr style=\"text-align: right;\">\n",
       "      <th></th>\n",
       "      <th>SK_ID_CURR</th>\n",
       "      <th>TARGET</th>\n",
       "      <th>NAME_CONTRACT_TYPE</th>\n",
       "      <th>CODE_GENDER</th>\n",
       "      <th>FLAG_OWN_CAR</th>\n",
       "      <th>FLAG_OWN_REALTY</th>\n",
       "      <th>CNT_CHILDREN</th>\n",
       "      <th>AMT_INCOME_TOTAL</th>\n",
       "      <th>AMT_CREDIT</th>\n",
       "      <th>AMT_ANNUITY</th>\n",
       "      <th>...</th>\n",
       "      <th>FLAG_DOCUMENT_18</th>\n",
       "      <th>FLAG_DOCUMENT_19</th>\n",
       "      <th>FLAG_DOCUMENT_20</th>\n",
       "      <th>FLAG_DOCUMENT_21</th>\n",
       "      <th>AMT_REQ_CREDIT_BUREAU_HOUR</th>\n",
       "      <th>AMT_REQ_CREDIT_BUREAU_DAY</th>\n",
       "      <th>AMT_REQ_CREDIT_BUREAU_WEEK</th>\n",
       "      <th>AMT_REQ_CREDIT_BUREAU_MON</th>\n",
       "      <th>AMT_REQ_CREDIT_BUREAU_QRT</th>\n",
       "      <th>AMT_REQ_CREDIT_BUREAU_YEAR</th>\n",
       "    </tr>\n",
       "  </thead>\n",
       "  <tbody>\n",
       "    <tr>\n",
       "      <th>41982</th>\n",
       "      <td>148605</td>\n",
       "      <td>0</td>\n",
       "      <td>1</td>\n",
       "      <td>1</td>\n",
       "      <td>0</td>\n",
       "      <td>1</td>\n",
       "      <td>0</td>\n",
       "      <td>450000.0</td>\n",
       "      <td>675000.0</td>\n",
       "      <td>33750.0</td>\n",
       "      <td>...</td>\n",
       "      <td>0</td>\n",
       "      <td>0</td>\n",
       "      <td>0</td>\n",
       "      <td>0</td>\n",
       "      <td>NaN</td>\n",
       "      <td>NaN</td>\n",
       "      <td>NaN</td>\n",
       "      <td>NaN</td>\n",
       "      <td>NaN</td>\n",
       "      <td>NaN</td>\n",
       "    </tr>\n",
       "    <tr>\n",
       "      <th>187348</th>\n",
       "      <td>317181</td>\n",
       "      <td>0</td>\n",
       "      <td>1</td>\n",
       "      <td>0</td>\n",
       "      <td>0</td>\n",
       "      <td>1</td>\n",
       "      <td>0</td>\n",
       "      <td>202500.0</td>\n",
       "      <td>585000.0</td>\n",
       "      <td>29250.0</td>\n",
       "      <td>...</td>\n",
       "      <td>0</td>\n",
       "      <td>0</td>\n",
       "      <td>0</td>\n",
       "      <td>0</td>\n",
       "      <td>0.0</td>\n",
       "      <td>0.0</td>\n",
       "      <td>0.0</td>\n",
       "      <td>0.0</td>\n",
       "      <td>0.0</td>\n",
       "      <td>1.0</td>\n",
       "    </tr>\n",
       "    <tr>\n",
       "      <th>11287</th>\n",
       "      <td>113148</td>\n",
       "      <td>0</td>\n",
       "      <td>1</td>\n",
       "      <td>0</td>\n",
       "      <td>0</td>\n",
       "      <td>1</td>\n",
       "      <td>4</td>\n",
       "      <td>225000.0</td>\n",
       "      <td>135000.0</td>\n",
       "      <td>6750.0</td>\n",
       "      <td>...</td>\n",
       "      <td>0</td>\n",
       "      <td>0</td>\n",
       "      <td>0</td>\n",
       "      <td>0</td>\n",
       "      <td>0.0</td>\n",
       "      <td>0.0</td>\n",
       "      <td>0.0</td>\n",
       "      <td>1.0</td>\n",
       "      <td>0.0</td>\n",
       "      <td>2.0</td>\n",
       "    </tr>\n",
       "  </tbody>\n",
       "</table>\n",
       "<p>3 rows × 122 columns</p>\n",
       "</div>"
      ],
      "text/plain": [
       "        SK_ID_CURR  TARGET  NAME_CONTRACT_TYPE  CODE_GENDER  FLAG_OWN_CAR  \\\n",
       "41982       148605       0                   1            1             0   \n",
       "187348      317181       0                   1            0             0   \n",
       "11287       113148       0                   1            0             0   \n",
       "\n",
       "        FLAG_OWN_REALTY  CNT_CHILDREN  AMT_INCOME_TOTAL  AMT_CREDIT  \\\n",
       "41982                 1             0          450000.0    675000.0   \n",
       "187348                1             0          202500.0    585000.0   \n",
       "11287                 1             4          225000.0    135000.0   \n",
       "\n",
       "        AMT_ANNUITY             ...              FLAG_DOCUMENT_18  \\\n",
       "41982       33750.0             ...                             0   \n",
       "187348      29250.0             ...                             0   \n",
       "11287        6750.0             ...                             0   \n",
       "\n",
       "       FLAG_DOCUMENT_19 FLAG_DOCUMENT_20 FLAG_DOCUMENT_21  \\\n",
       "41982                 0                0                0   \n",
       "187348                0                0                0   \n",
       "11287                 0                0                0   \n",
       "\n",
       "       AMT_REQ_CREDIT_BUREAU_HOUR AMT_REQ_CREDIT_BUREAU_DAY  \\\n",
       "41982                         NaN                       NaN   \n",
       "187348                        0.0                       0.0   \n",
       "11287                         0.0                       0.0   \n",
       "\n",
       "        AMT_REQ_CREDIT_BUREAU_WEEK  AMT_REQ_CREDIT_BUREAU_MON  \\\n",
       "41982                          NaN                        NaN   \n",
       "187348                         0.0                        0.0   \n",
       "11287                          0.0                        1.0   \n",
       "\n",
       "        AMT_REQ_CREDIT_BUREAU_QRT  AMT_REQ_CREDIT_BUREAU_YEAR  \n",
       "41982                         NaN                         NaN  \n",
       "187348                        0.0                         1.0  \n",
       "11287                         0.0                         2.0  \n",
       "\n",
       "[3 rows x 122 columns]"
      ]
     },
     "execution_count": 118,
     "metadata": {},
     "output_type": "execute_result"
    }
   ],
   "source": [
    "prep_train[prep_train[col_to_analyse].isnull()]"
   ]
  },
  {
   "cell_type": "markdown",
   "metadata": {},
   "source": [
    "After analysing the three entries with missing values, no concrete \"neighbour\" with the above used filters were found. At this point we could just delete the three occurencies, instead we decided to fill manually the missing feature with the most frequent. "
   ]
  },
  {
   "cell_type": "code",
   "execution_count": 119,
   "metadata": {},
   "outputs": [],
   "source": [
    "IDX_OF_SK_ID_CURR = prep_train[prep_train.SK_ID_CURR == 113148].index[0]\n",
    "prep_train.at[IDX_OF_SK_ID_CURR, col_to_analyse] = 'Unaccompanied'\n",
    "\n",
    "IDX_OF_SK_ID_CURR = prep_train[prep_train.SK_ID_CURR == 148605].index[0]\n",
    "prep_train.at[IDX_OF_SK_ID_CURR, col_to_analyse] = 'Unaccompanied'\n",
    "\n",
    "IDX_OF_SK_ID_CURR = prep_train[prep_train.SK_ID_CURR == 317181].index[0]\n",
    "prep_train.at[IDX_OF_SK_ID_CURR, col_to_analyse] = 'Unaccompanied'"
   ]
  },
  {
   "cell_type": "code",
   "execution_count": 120,
   "metadata": {},
   "outputs": [
    {
     "data": {
      "text/plain": [
       "0"
      ]
     },
     "execution_count": 120,
     "metadata": {},
     "output_type": "execute_result"
    }
   ],
   "source": [
    "prep_train[col_to_analyse].isnull().sum()"
   ]
  },
  {
   "cell_type": "markdown",
   "metadata": {},
   "source": [
    "Now we handle the missing values for the test dataset."
   ]
  },
  {
   "cell_type": "code",
   "execution_count": 121,
   "metadata": {},
   "outputs": [
    {
     "name": "stdout",
     "output_type": "stream",
     "text": [
      "Missing Values for NAME_TYPE_SUITE, application_test: 911 prep_test: 911.\n"
     ]
    }
   ],
   "source": [
    "# Show missing values for test dataset\n",
    "print(\"Missing Values for NAME_TYPE_SUITE, application_test: {} prep_test: {}.\".format(application_test[col_to_analyse].isnull().sum(),\n",
    "                                                                                        prep_test[col_to_analyse].isnull().sum()))"
   ]
  },
  {
   "cell_type": "code",
   "execution_count": 122,
   "metadata": {},
   "outputs": [],
   "source": [
    "prep_test = handle_missing_values_NAME_TYPE_SUITE(prep_test)"
   ]
  },
  {
   "cell_type": "code",
   "execution_count": 123,
   "metadata": {},
   "outputs": [
    {
     "name": "stdout",
     "output_type": "stream",
     "text": [
      "Missing Values for NAME_TYPE_SUITE, application_test: 911 prep_test: 0.\n"
     ]
    }
   ],
   "source": [
    "# Show missing values for test dataset\n",
    "print(\"Missing Values for NAME_TYPE_SUITE, application_test: {} prep_test: {}.\".format(application_test[col_to_analyse].isnull().sum(),\n",
    "                                                                                        prep_test[col_to_analyse].isnull().sum()))"
   ]
  },
  {
   "cell_type": "markdown",
   "metadata": {},
   "source": [
    "Now we want to analyse if th correlation between this feature lableencoded and this feature with only a flag that says if the coustumer was companied or not is different."
   ]
  },
  {
   "cell_type": "code",
   "execution_count": 124,
   "metadata": {},
   "outputs": [
    {
     "data": {
      "text/plain": [
       "LabelEncoder()"
      ]
     },
     "execution_count": 124,
     "metadata": {},
     "output_type": "execute_result"
    }
   ],
   "source": [
    "le_NAME_TYPE_SUITE = LabelEncoder()\n",
    "le_NAME_TYPE_SUITE.fit(prep_train[col_to_analyse])"
   ]
  },
  {
   "cell_type": "code",
   "execution_count": 125,
   "metadata": {},
   "outputs": [],
   "source": [
    "lableencoded_name_type_suite = pd.Series(le_NAME_TYPE_SUITE.transform(prep_train[col_to_analyse]))"
   ]
  },
  {
   "cell_type": "code",
   "execution_count": 126,
   "metadata": {},
   "outputs": [
    {
     "data": {
      "text/plain": [
       "0.0035527043575502826"
      ]
     },
     "execution_count": 126,
     "metadata": {},
     "output_type": "execute_result"
    }
   ],
   "source": [
    "prep_train.TARGET.corr(lableencoded_name_type_suite)"
   ]
  },
  {
   "cell_type": "code",
   "execution_count": 127,
   "metadata": {},
   "outputs": [],
   "source": [
    "FLAG_NAME_TYPE_SUITE = pd.DataFrame(prep_train[col_to_analyse])\n",
    "FLAG_NAME_TYPE_SUITE[FLAG_NAME_TYPE_SUITE[col_to_analyse] == 'Unaccompanied'] = 0\n",
    "FLAG_NAME_TYPE_SUITE[FLAG_NAME_TYPE_SUITE[col_to_analyse] != 0] = 1"
   ]
  },
  {
   "cell_type": "code",
   "execution_count": 128,
   "metadata": {
    "scrolled": true
   },
   "outputs": [
    {
     "data": {
      "text/plain": [
       "-0.0073170560293389295"
      ]
     },
     "execution_count": 128,
     "metadata": {},
     "output_type": "execute_result"
    }
   ],
   "source": [
    "prep_train.TARGET.corr(FLAG_NAME_TYPE_SUITE.NAME_TYPE_SUITE)"
   ]
  },
  {
   "cell_type": "markdown",
   "metadata": {},
   "source": [
    "We can see that the correlation is not much different, but a lableencoding means that the different categories get a different weight while training a classifier. So we decide to use a feature with a flag that says if the coustumer was companied or no."
   ]
  },
  {
   "cell_type": "code",
   "execution_count": 129,
   "metadata": {},
   "outputs": [],
   "source": [
    "prep_train.loc[prep_train[col_to_analyse] == 'Unaccompanied', col_to_analyse] = 0\n",
    "prep_train.loc[prep_train[col_to_analyse] != 0, col_to_analyse] = 1\n",
    "\n",
    "prep_test.loc[prep_test[col_to_analyse] == 'Unaccompanied', col_to_analyse] = 0\n",
    "prep_test.loc[prep_test[col_to_analyse] != 0, col_to_analyse] = 1"
   ]
  },
  {
   "cell_type": "code",
   "execution_count": 130,
   "metadata": {},
   "outputs": [
    {
     "data": {
      "text/plain": [
       "-0.0073170560293389295"
      ]
     },
     "execution_count": 130,
     "metadata": {},
     "output_type": "execute_result"
    }
   ],
   "source": [
    "prep_train.TARGET.corr(prep_train[col_to_analyse])"
   ]
  },
  {
   "cell_type": "code",
   "execution_count": 131,
   "metadata": {},
   "outputs": [
    {
     "name": "stdout",
     "output_type": "stream",
     "text": [
      "Shape TRAIN: (307506, 122)\n",
      "Shape  TEST: (48744, 121)\n"
     ]
    }
   ],
   "source": [
    "print_data_dimensions(prep_train, prep_test)"
   ]
  },
  {
   "cell_type": "markdown",
   "metadata": {},
   "source": [
    "### NAME_INCOME_TYPE\n",
    "\n",
    "Clients income type (businessman, working, maternity leave)\n",
    "\n",
    "__Different Categories__"
   ]
  },
  {
   "cell_type": "code",
   "execution_count": 132,
   "metadata": {},
   "outputs": [],
   "source": [
    "col_to_analyse = 'NAME_INCOME_TYPE'"
   ]
  },
  {
   "cell_type": "code",
   "execution_count": 133,
   "metadata": {},
   "outputs": [
    {
     "data": {
      "text/plain": [
       "Working                 158774\n",
       "Commercial associate     71617\n",
       "Pensioner                55362\n",
       "State servant            21703\n",
       "Unemployed                  22\n",
       "Student                     18\n",
       "Businessman                 10\n",
       "Maternity leave              5\n",
       "Name: NAME_INCOME_TYPE, dtype: int64"
      ]
     },
     "execution_count": 133,
     "metadata": {},
     "output_type": "execute_result"
    }
   ],
   "source": [
    "application_train[col_to_analyse].value_counts()"
   ]
  },
  {
   "cell_type": "code",
   "execution_count": 134,
   "metadata": {},
   "outputs": [
    {
     "data": {
      "text/plain": [
       "Working                 143550\n",
       "Commercial associate     66257\n",
       "Pensioner                52380\n",
       "State servant            20454\n",
       "Student                     18\n",
       "Unemployed                  14\n",
       "Businessman                 10\n",
       "Maternity leave              3\n",
       "Name: NAME_INCOME_TYPE, dtype: int64"
      ]
     },
     "execution_count": 134,
     "metadata": {},
     "output_type": "execute_result"
    }
   ],
   "source": [
    "# Values for Class 0\n",
    "application_train[application_train.TARGET == 0][col_to_analyse].value_counts()\n",
    "#app_train_target_zero[col_to_analyse].value_counts()"
   ]
  },
  {
   "cell_type": "code",
   "execution_count": 135,
   "metadata": {},
   "outputs": [
    {
     "data": {
      "text/plain": [
       "Working                 15224\n",
       "Commercial associate     5360\n",
       "Pensioner                2982\n",
       "State servant            1249\n",
       "Unemployed                  8\n",
       "Maternity leave             2\n",
       "Name: NAME_INCOME_TYPE, dtype: int64"
      ]
     },
     "execution_count": 135,
     "metadata": {},
     "output_type": "execute_result"
    }
   ],
   "source": [
    "application_train[application_train.TARGET == 1][col_to_analyse].value_counts()"
   ]
  },
  {
   "cell_type": "markdown",
   "metadata": {},
   "source": [
    "Show the missing values for train and test data"
   ]
  },
  {
   "cell_type": "code",
   "execution_count": 136,
   "metadata": {},
   "outputs": [
    {
     "name": "stdout",
     "output_type": "stream",
     "text": [
      "Missing Values for NAME_INCOME_TYPE:\n",
      "application_train: 0\n",
      "application_test: 0\n"
     ]
    }
   ],
   "source": [
    "# Show missing values for test dataset\n",
    "print(\"Missing Values for NAME_INCOME_TYPE:\\napplication_train: {}\\napplication_test: {}\"\n",
    "      .format(application_train[col_to_analyse].isnull().sum(),\n",
    "              application_test[col_to_analyse].isnull().sum()))"
   ]
  },
  {
   "cell_type": "code",
   "execution_count": 137,
   "metadata": {},
   "outputs": [],
   "source": [
    "one_hot_encoded_NAME_INCOME_TYPE = pd.get_dummies(prep_train.NAME_INCOME_TYPE, prefix=col_to_analyse)"
   ]
  },
  {
   "cell_type": "code",
   "execution_count": 138,
   "metadata": {},
   "outputs": [
    {
     "name": "stdout",
     "output_type": "stream",
     "text": [
      "NAME_INCOME_TYPE_Businessman corr: -0.0016899235894631348\n",
      "NAME_INCOME_TYPE_Commercial associate corr: -0.011899745200012257\n",
      "NAME_INCOME_TYPE_Maternity leave corr: 0.004725989225510632\n",
      "NAME_INCOME_TYPE_Pensioner corr: -0.04620705144440399\n",
      "NAME_INCOME_TYPE_State servant corr: -0.023445349340859595\n",
      "NAME_INCOME_TYPE_Student corr: -0.002267299907599607\n",
      "NAME_INCOME_TYPE_Unemployed corr: 0.008784483275365079\n",
      "NAME_INCOME_TYPE_Working corr: 0.057473913113825784\n"
     ]
    }
   ],
   "source": [
    "for column in one_hot_encoded_NAME_INCOME_TYPE:\n",
    "    print(\"{} corr: {}\".format(column,application_train.TARGET.corr(one_hot_encoded_NAME_INCOME_TYPE[column])))"
   ]
  },
  {
   "cell_type": "markdown",
   "metadata": {},
   "source": [
    "We decide to add those columns to our dataset and remove the original column NAME_INCOME_TYPE. "
   ]
  },
  {
   "cell_type": "code",
   "execution_count": 139,
   "metadata": {},
   "outputs": [],
   "source": [
    "prep_train = pd.concat([prep_train, one_hot_encoded_NAME_INCOME_TYPE], axis=1).drop([col_to_analyse], axis=1)"
   ]
  },
  {
   "cell_type": "code",
   "execution_count": 140,
   "metadata": {},
   "outputs": [],
   "source": [
    "one_hot_encoded_NAME_INCOME_TYPE_test = pd.get_dummies(prep_test.NAME_INCOME_TYPE, prefix=col_to_analyse)"
   ]
  },
  {
   "cell_type": "code",
   "execution_count": 141,
   "metadata": {},
   "outputs": [
    {
     "name": "stdout",
     "output_type": "stream",
     "text": [
      "NAME_INCOME_TYPE_Businessman\n",
      "NAME_INCOME_TYPE_Commercial associate\n",
      "NAME_INCOME_TYPE_Pensioner\n",
      "NAME_INCOME_TYPE_State servant\n",
      "NAME_INCOME_TYPE_Student\n",
      "NAME_INCOME_TYPE_Unemployed\n",
      "NAME_INCOME_TYPE_Working\n"
     ]
    }
   ],
   "source": [
    "for column in one_hot_encoded_NAME_INCOME_TYPE_test:\n",
    "    print(\"{}\".format(column))"
   ]
  },
  {
   "cell_type": "markdown",
   "metadata": {},
   "source": [
    "We decide to add those columns to our dataset and remove the original column NAME_INCOME_TYPE. "
   ]
  },
  {
   "cell_type": "code",
   "execution_count": 142,
   "metadata": {},
   "outputs": [],
   "source": [
    "prep_test = pd.concat([prep_test, one_hot_encoded_NAME_INCOME_TYPE_test], axis=1).drop([col_to_analyse], axis=1)"
   ]
  },
  {
   "cell_type": "code",
   "execution_count": 143,
   "metadata": {},
   "outputs": [],
   "source": [
    "prep_test[\"NAME_INCOME_TYPE_Maternity leave\"] = 0"
   ]
  },
  {
   "cell_type": "code",
   "execution_count": 144,
   "metadata": {},
   "outputs": [
    {
     "name": "stdout",
     "output_type": "stream",
     "text": [
      "Shape TRAIN: (307506, 129)\n",
      "Shape  TEST: (48744, 128)\n"
     ]
    }
   ],
   "source": [
    "print_data_dimensions(prep_train, prep_test)"
   ]
  },
  {
   "cell_type": "markdown",
   "metadata": {},
   "source": [
    "### NAME_EDUCATION_TYPE\n",
    "\n",
    "Level of highest education the client achieved.\n",
    "\n",
    "__Different Categories__"
   ]
  },
  {
   "cell_type": "code",
   "execution_count": 145,
   "metadata": {},
   "outputs": [],
   "source": [
    "col_to_analyse = 'NAME_EDUCATION_TYPE'"
   ]
  },
  {
   "cell_type": "code",
   "execution_count": 146,
   "metadata": {},
   "outputs": [
    {
     "data": {
      "text/plain": [
       "Secondary / secondary special    218391\n",
       "Higher education                  74863\n",
       "Incomplete higher                 10277\n",
       "Lower secondary                    3816\n",
       "Academic degree                     164\n",
       "Name: NAME_EDUCATION_TYPE, dtype: int64"
      ]
     },
     "execution_count": 146,
     "metadata": {},
     "output_type": "execute_result"
    }
   ],
   "source": [
    "application_train[col_to_analyse].value_counts()"
   ]
  },
  {
   "cell_type": "code",
   "execution_count": 147,
   "metadata": {},
   "outputs": [
    {
     "data": {
      "text/plain": [
       "Secondary / secondary special    198867\n",
       "Higher education                  70854\n",
       "Incomplete higher                  9405\n",
       "Lower secondary                    3399\n",
       "Academic degree                     161\n",
       "Name: NAME_EDUCATION_TYPE, dtype: int64"
      ]
     },
     "execution_count": 147,
     "metadata": {},
     "output_type": "execute_result"
    }
   ],
   "source": [
    "# Values for Class 0\n",
    "application_train[application_train.TARGET == 0][col_to_analyse].value_counts()"
   ]
  },
  {
   "cell_type": "code",
   "execution_count": 148,
   "metadata": {},
   "outputs": [
    {
     "data": {
      "text/plain": [
       "Secondary / secondary special    19524\n",
       "Higher education                  4009\n",
       "Incomplete higher                  872\n",
       "Lower secondary                    417\n",
       "Academic degree                      3\n",
       "Name: NAME_EDUCATION_TYPE, dtype: int64"
      ]
     },
     "execution_count": 148,
     "metadata": {},
     "output_type": "execute_result"
    }
   ],
   "source": [
    "# Values for Class 1\n",
    "application_train[application_train.TARGET == 1][col_to_analyse].value_counts()"
   ]
  },
  {
   "cell_type": "markdown",
   "metadata": {},
   "source": [
    "Show the missing values for train and test data"
   ]
  },
  {
   "cell_type": "code",
   "execution_count": 149,
   "metadata": {},
   "outputs": [
    {
     "name": "stdout",
     "output_type": "stream",
     "text": [
      "Missing Values for NAME_EDUCATION_TYPE:\n",
      "application_train: 0\n",
      "application_test: 0\n"
     ]
    }
   ],
   "source": [
    "# Show missing values for test dataset\n",
    "print(\"Missing Values for {}:\\napplication_train: {}\\napplication_test: {}\"\n",
    "      .format(col_to_analyse, application_train[col_to_analyse].isnull().sum(),\n",
    "              application_test[col_to_analyse].isnull().sum()))"
   ]
  },
  {
   "cell_type": "code",
   "execution_count": 150,
   "metadata": {},
   "outputs": [],
   "source": [
    "one_hot_encoded_NAME_EDUCATION_TYPE = pd.get_dummies(prep_train[col_to_analyse], prefix=col_to_analyse)"
   ]
  },
  {
   "cell_type": "code",
   "execution_count": 151,
   "metadata": {},
   "outputs": [
    {
     "name": "stdout",
     "output_type": "stream",
     "text": [
      "NAME_EDUCATION_TYPE_Academic degree corr: -0.005294221829046523\n",
      "NAME_EDUCATION_TYPE_Higher education corr: -0.05658784481831752\n",
      "NAME_EDUCATION_TYPE_Incomplete higher corr: 0.0028196414947554566\n",
      "NAME_EDUCATION_TYPE_Lower secondary corr: 0.011747931202088523\n",
      "NAME_EDUCATION_TYPE_Secondary / secondary special corr: 0.04981638194000645\n"
     ]
    }
   ],
   "source": [
    "for column in one_hot_encoded_NAME_EDUCATION_TYPE:\n",
    "    print(\"{} corr: {}\".format(column,application_train.TARGET.corr(one_hot_encoded_NAME_EDUCATION_TYPE[column])))"
   ]
  },
  {
   "cell_type": "markdown",
   "metadata": {},
   "source": [
    "We decide to add those columns to our dataset and remove the original column NAME_EDUCATION_TYPE. "
   ]
  },
  {
   "cell_type": "code",
   "execution_count": 152,
   "metadata": {},
   "outputs": [],
   "source": [
    "prep_train = pd.concat([prep_train, one_hot_encoded_NAME_EDUCATION_TYPE], axis=1).drop([col_to_analyse], axis=1)"
   ]
  },
  {
   "cell_type": "markdown",
   "metadata": {},
   "source": [
    "Same for Test"
   ]
  },
  {
   "cell_type": "code",
   "execution_count": 153,
   "metadata": {},
   "outputs": [],
   "source": [
    "one_hot_encoded_NAME_EDUCATION_TYPE_test = pd.get_dummies(prep_test[col_to_analyse], prefix=col_to_analyse)"
   ]
  },
  {
   "cell_type": "code",
   "execution_count": 154,
   "metadata": {},
   "outputs": [
    {
     "name": "stdout",
     "output_type": "stream",
     "text": [
      "NAME_EDUCATION_TYPE_Academic degree\n",
      "NAME_EDUCATION_TYPE_Higher education\n",
      "NAME_EDUCATION_TYPE_Incomplete higher\n",
      "NAME_EDUCATION_TYPE_Lower secondary\n",
      "NAME_EDUCATION_TYPE_Secondary / secondary special\n"
     ]
    }
   ],
   "source": [
    "for column in one_hot_encoded_NAME_EDUCATION_TYPE_test:\n",
    "    print(\"{}\".format(column))"
   ]
  },
  {
   "cell_type": "markdown",
   "metadata": {},
   "source": [
    "We decide to add those columns to our dataset and remove the original column NAME_EDUCATION_TYPE. "
   ]
  },
  {
   "cell_type": "code",
   "execution_count": 155,
   "metadata": {},
   "outputs": [],
   "source": [
    "prep_test = pd.concat([prep_test, one_hot_encoded_NAME_EDUCATION_TYPE_test], axis=1).drop([col_to_analyse], axis=1)"
   ]
  },
  {
   "cell_type": "code",
   "execution_count": 156,
   "metadata": {},
   "outputs": [
    {
     "name": "stdout",
     "output_type": "stream",
     "text": [
      "Shape TRAIN: (307506, 133)\n",
      "Shape  TEST: (48744, 132)\n"
     ]
    }
   ],
   "source": [
    "print_data_dimensions(prep_train, prep_test)"
   ]
  },
  {
   "cell_type": "markdown",
   "metadata": {},
   "source": [
    "### NAME_FAMILY_STATUS\n",
    "\n",
    "Family status of the client.\n",
    "\n",
    "__Different Categories__"
   ]
  },
  {
   "cell_type": "code",
   "execution_count": 157,
   "metadata": {},
   "outputs": [],
   "source": [
    "col_to_analyse = 'NAME_FAMILY_STATUS'"
   ]
  },
  {
   "cell_type": "code",
   "execution_count": 158,
   "metadata": {},
   "outputs": [
    {
     "data": {
      "text/plain": [
       "Married                 196432\n",
       "Single / not married     45444\n",
       "Civil marriage           29775\n",
       "Separated                19770\n",
       "Widow                    16088\n",
       "Unknown                      2\n",
       "Name: NAME_FAMILY_STATUS, dtype: int64"
      ]
     },
     "execution_count": 158,
     "metadata": {},
     "output_type": "execute_result"
    }
   ],
   "source": [
    "application_train[col_to_analyse].value_counts()"
   ]
  },
  {
   "cell_type": "code",
   "execution_count": 159,
   "metadata": {},
   "outputs": [
    {
     "data": {
      "text/plain": [
       "Married                 181582\n",
       "Single / not married     40987\n",
       "Civil marriage           26814\n",
       "Separated                18150\n",
       "Widow                    15151\n",
       "Unknown                      2\n",
       "Name: NAME_FAMILY_STATUS, dtype: int64"
      ]
     },
     "execution_count": 159,
     "metadata": {},
     "output_type": "execute_result"
    }
   ],
   "source": [
    "# Values for Class 0\n",
    "application_train[application_train.TARGET == 0][col_to_analyse].value_counts()"
   ]
  },
  {
   "cell_type": "code",
   "execution_count": 160,
   "metadata": {},
   "outputs": [
    {
     "data": {
      "text/plain": [
       "Married                 14850\n",
       "Single / not married     4457\n",
       "Civil marriage           2961\n",
       "Separated                1620\n",
       "Widow                     937\n",
       "Name: NAME_FAMILY_STATUS, dtype: int64"
      ]
     },
     "execution_count": 160,
     "metadata": {},
     "output_type": "execute_result"
    }
   ],
   "source": [
    "# Values for Class 1\n",
    "application_train[application_train.TARGET == 1][col_to_analyse].value_counts()"
   ]
  },
  {
   "cell_type": "code",
   "execution_count": 161,
   "metadata": {},
   "outputs": [
    {
     "data": {
      "text/plain": [
       "AMT_GOODS_PRICE               2\n",
       "NAME_TYPE_SUITE               2\n",
       "OWN_CAR_AGE                   2\n",
       "CNT_FAM_MEMBERS               2\n",
       "LANDAREA_MEDI                 2\n",
       "LANDAREA_AVG                  2\n",
       "LANDAREA_MODE                 2\n",
       "AMT_REQ_CREDIT_BUREAU_YEAR    1\n",
       "LIVINGAPARTMENTS_MODE         1\n",
       "COMMONAREA_MODE               1\n",
       "ELEVATORS_MODE                1\n",
       "ENTRANCES_MODE                1\n",
       "FLOORSMAX_MODE                1\n",
       "FLOORSMIN_MODE                1\n",
       "NONLIVINGAREA_MODE            1\n",
       "LIVINGAREA_MODE               1\n",
       "NONLIVINGAPARTMENTS_MODE      1\n",
       "AMT_REQ_CREDIT_BUREAU_QRT     1\n",
       "APARTMENTS_MEDI               1\n",
       "BASEMENTAREA_MEDI             1\n",
       "dtype: int64"
      ]
     },
     "execution_count": 161,
     "metadata": {},
     "output_type": "execute_result"
    }
   ],
   "source": [
    "application_train[application_train[col_to_analyse] == 'Unknown'].isnull().sum().sort_values(ascending = False).head(20)"
   ]
  },
  {
   "cell_type": "markdown",
   "metadata": {},
   "source": [
    "The 2 entries with NAME_FAMILY_STATUS == 'Unknown' seem to have a lot of other missing values. This is why we decide to remove those entries."
   ]
  },
  {
   "cell_type": "code",
   "execution_count": 162,
   "metadata": {},
   "outputs": [],
   "source": [
    "index_to_drop_NAME_FAMILY_STATUS = application_train[application_train[col_to_analyse] == 'Unknown'].index"
   ]
  },
  {
   "cell_type": "code",
   "execution_count": 163,
   "metadata": {},
   "outputs": [],
   "source": [
    "prep_train = prep_train.drop(index_to_drop_NAME_FAMILY_STATUS)"
   ]
  },
  {
   "cell_type": "markdown",
   "metadata": {},
   "source": [
    "Show the missing values for train and test data"
   ]
  },
  {
   "cell_type": "code",
   "execution_count": 164,
   "metadata": {},
   "outputs": [
    {
     "name": "stdout",
     "output_type": "stream",
     "text": [
      "Missing Values for NAME_FAMILY_STATUS:\n",
      "application_train: 0\n",
      "application_test: 0\n"
     ]
    }
   ],
   "source": [
    "# Show missing values for test dataset\n",
    "print(\"Missing Values for {}:\\napplication_train: {}\\napplication_test: {}\"\n",
    "      .format(col_to_analyse, application_train[col_to_analyse].isnull().sum(),\n",
    "              application_test[col_to_analyse].isnull().sum()))"
   ]
  },
  {
   "cell_type": "code",
   "execution_count": 165,
   "metadata": {},
   "outputs": [],
   "source": [
    "one_hot_encoded_NAME_FAMILY_STATUS = pd.get_dummies(prep_train[col_to_analyse], prefix=col_to_analyse)"
   ]
  },
  {
   "cell_type": "code",
   "execution_count": 166,
   "metadata": {},
   "outputs": [
    {
     "name": "stdout",
     "output_type": "stream",
     "text": [
      "NAME_FAMILY_STATUS_Civil marriage corr: 0.022502027373722984\n",
      "NAME_FAMILY_STATUS_Married corr: -0.02505353116242089\n",
      "NAME_FAMILY_STATUS_Separated corr: 0.0011690334943526535\n",
      "NAME_FAMILY_STATUS_Single / not married corr: 0.026520910401816793\n",
      "NAME_FAMILY_STATUS_Widow corr: -0.019393632005744534\n"
     ]
    }
   ],
   "source": [
    "for column in one_hot_encoded_NAME_FAMILY_STATUS:\n",
    "    print(\"{} corr: {}\".format(column,application_train.TARGET.corr(one_hot_encoded_NAME_FAMILY_STATUS[column])))"
   ]
  },
  {
   "cell_type": "markdown",
   "metadata": {},
   "source": [
    "We decide to add those columns to our dataset and remove the original column NAME_EDUCATION_TYPE. "
   ]
  },
  {
   "cell_type": "code",
   "execution_count": 167,
   "metadata": {},
   "outputs": [],
   "source": [
    "prep_train = pd.concat([prep_train, one_hot_encoded_NAME_FAMILY_STATUS], axis=1).drop([col_to_analyse], axis=1)"
   ]
  },
  {
   "cell_type": "code",
   "execution_count": 168,
   "metadata": {},
   "outputs": [],
   "source": [
    "one_hot_encoded_NAME_FAMILY_STATUS_test = pd.get_dummies(prep_test[col_to_analyse], prefix=col_to_analyse)"
   ]
  },
  {
   "cell_type": "code",
   "execution_count": 169,
   "metadata": {},
   "outputs": [
    {
     "name": "stdout",
     "output_type": "stream",
     "text": [
      "NAME_FAMILY_STATUS_Civil marriage\n",
      "NAME_FAMILY_STATUS_Married\n",
      "NAME_FAMILY_STATUS_Separated\n",
      "NAME_FAMILY_STATUS_Single / not married\n",
      "NAME_FAMILY_STATUS_Widow\n"
     ]
    }
   ],
   "source": [
    "for column in one_hot_encoded_NAME_FAMILY_STATUS_test:\n",
    "    print(\"{}\".format(column))"
   ]
  },
  {
   "cell_type": "markdown",
   "metadata": {},
   "source": [
    "We decide to add those columns to our dataset and remove the original column NAME_EDUCATION_TYPE. "
   ]
  },
  {
   "cell_type": "code",
   "execution_count": 170,
   "metadata": {},
   "outputs": [],
   "source": [
    "prep_test = pd.concat([prep_test, one_hot_encoded_NAME_FAMILY_STATUS_test], axis=1).drop([col_to_analyse], axis=1)"
   ]
  },
  {
   "cell_type": "code",
   "execution_count": 171,
   "metadata": {},
   "outputs": [
    {
     "name": "stdout",
     "output_type": "stream",
     "text": [
      "Shape TRAIN: (307504, 137)\n",
      "Shape  TEST: (48744, 136)\n"
     ]
    }
   ],
   "source": [
    "print_data_dimensions(prep_train, prep_test)"
   ]
  },
  {
   "cell_type": "markdown",
   "metadata": {},
   "source": [
    "### NAME_HOUSING_TYPE\n",
    "\n",
    "What is the housing situation of the client (renting, living with parents, ...).\n",
    "\n",
    "__Different Categories__"
   ]
  },
  {
   "cell_type": "code",
   "execution_count": 172,
   "metadata": {},
   "outputs": [],
   "source": [
    "col_to_analyse = 'NAME_HOUSING_TYPE'"
   ]
  },
  {
   "cell_type": "code",
   "execution_count": 173,
   "metadata": {},
   "outputs": [
    {
     "data": {
      "text/plain": [
       "House / apartment      272868\n",
       "With parents            14840\n",
       "Municipal apartment     11183\n",
       "Rented apartment         4881\n",
       "Office apartment         2617\n",
       "Co-op apartment          1122\n",
       "Name: NAME_HOUSING_TYPE, dtype: int64"
      ]
     },
     "execution_count": 173,
     "metadata": {},
     "output_type": "execute_result"
    }
   ],
   "source": [
    "application_train[col_to_analyse].value_counts()"
   ]
  },
  {
   "cell_type": "code",
   "execution_count": 174,
   "metadata": {},
   "outputs": [
    {
     "data": {
      "text/plain": [
       "House / apartment      251596\n",
       "With parents            13104\n",
       "Municipal apartment     10228\n",
       "Rented apartment         4280\n",
       "Office apartment         2445\n",
       "Co-op apartment          1033\n",
       "Name: NAME_HOUSING_TYPE, dtype: int64"
      ]
     },
     "execution_count": 174,
     "metadata": {},
     "output_type": "execute_result"
    }
   ],
   "source": [
    "# Values for Class 0\n",
    "application_train[application_train.TARGET == 0][col_to_analyse].value_counts()"
   ]
  },
  {
   "cell_type": "code",
   "execution_count": 175,
   "metadata": {},
   "outputs": [
    {
     "data": {
      "text/plain": [
       "House / apartment      21272\n",
       "With parents            1736\n",
       "Municipal apartment      955\n",
       "Rented apartment         601\n",
       "Office apartment         172\n",
       "Co-op apartment           89\n",
       "Name: NAME_HOUSING_TYPE, dtype: int64"
      ]
     },
     "execution_count": 175,
     "metadata": {},
     "output_type": "execute_result"
    }
   ],
   "source": [
    "# Values for Class 1\n",
    "application_train[application_train.TARGET == 1][col_to_analyse].value_counts()"
   ]
  },
  {
   "cell_type": "markdown",
   "metadata": {},
   "source": [
    "Show the missing values for train and test data"
   ]
  },
  {
   "cell_type": "code",
   "execution_count": 176,
   "metadata": {},
   "outputs": [
    {
     "name": "stdout",
     "output_type": "stream",
     "text": [
      "Missing Values for NAME_HOUSING_TYPE:\n",
      "application_train: 0\n",
      "application_test: 0\n"
     ]
    }
   ],
   "source": [
    "# Show missing values for test dataset\n",
    "print(\"Missing Values for {}:\\napplication_train: {}\\napplication_test: {}\"\n",
    "      .format(col_to_analyse, application_train[col_to_analyse].isnull().sum(),\n",
    "              application_test[col_to_analyse].isnull().sum()))"
   ]
  },
  {
   "cell_type": "code",
   "execution_count": 177,
   "metadata": {},
   "outputs": [],
   "source": [
    "one_hot_encoded_NAME_HOUSING_TYPE = pd.get_dummies(prep_train[col_to_analyse], prefix=col_to_analyse)"
   ]
  },
  {
   "cell_type": "code",
   "execution_count": 178,
   "metadata": {},
   "outputs": [
    {
     "name": "stdout",
     "output_type": "stream",
     "text": [
      "NAME_HOUSING_TYPE_Co-op apartment corr: -0.00031205881596045425\n",
      "NAME_HOUSING_TYPE_House / apartment corr: -0.02856415291152673\n",
      "NAME_HOUSING_TYPE_Municipal apartment corr: 0.0033409263293164002\n",
      "NAME_HOUSING_TYPE_Office apartment corr: -0.005102539349220174\n",
      "NAME_HOUSING_TYPE_Rented apartment corr: 0.019768258047419978\n",
      "NAME_HOUSING_TYPE_With parents corr: 0.02996762352842596\n"
     ]
    }
   ],
   "source": [
    "for column in one_hot_encoded_NAME_HOUSING_TYPE:\n",
    "    print(\"{} corr: {}\".format(column,application_train.TARGET.corr(one_hot_encoded_NAME_HOUSING_TYPE[column])))"
   ]
  },
  {
   "cell_type": "markdown",
   "metadata": {},
   "source": [
    "We decide to add those columns to our dataset and remove the original column NAME_HOUSING_TYPE. "
   ]
  },
  {
   "cell_type": "code",
   "execution_count": 179,
   "metadata": {},
   "outputs": [],
   "source": [
    "prep_train = pd.concat([prep_train, one_hot_encoded_NAME_HOUSING_TYPE], axis=1).drop([col_to_analyse], axis=1)"
   ]
  },
  {
   "cell_type": "code",
   "execution_count": 180,
   "metadata": {},
   "outputs": [],
   "source": [
    "one_hot_encoded_NAME_HOUSING_TYPE_test = pd.get_dummies(prep_test[col_to_analyse], prefix=col_to_analyse)"
   ]
  },
  {
   "cell_type": "code",
   "execution_count": 181,
   "metadata": {},
   "outputs": [
    {
     "name": "stdout",
     "output_type": "stream",
     "text": [
      "NAME_HOUSING_TYPE_Co-op apartment\n",
      "NAME_HOUSING_TYPE_House / apartment\n",
      "NAME_HOUSING_TYPE_Municipal apartment\n",
      "NAME_HOUSING_TYPE_Office apartment\n",
      "NAME_HOUSING_TYPE_Rented apartment\n",
      "NAME_HOUSING_TYPE_With parents\n"
     ]
    }
   ],
   "source": [
    "for column in one_hot_encoded_NAME_HOUSING_TYPE_test:\n",
    "    print(\"{}\".format(column))"
   ]
  },
  {
   "cell_type": "markdown",
   "metadata": {},
   "source": [
    "We decide to add those columns to our dataset and remove the original column NAME_HOUSING_TYPE. "
   ]
  },
  {
   "cell_type": "code",
   "execution_count": 182,
   "metadata": {},
   "outputs": [],
   "source": [
    "prep_test = pd.concat([prep_test, one_hot_encoded_NAME_HOUSING_TYPE_test], axis=1).drop([col_to_analyse], axis=1)"
   ]
  },
  {
   "cell_type": "code",
   "execution_count": 183,
   "metadata": {},
   "outputs": [
    {
     "name": "stdout",
     "output_type": "stream",
     "text": [
      "Shape TRAIN: (307504, 142)\n",
      "Shape  TEST: (48744, 141)\n"
     ]
    }
   ],
   "source": [
    "print_data_dimensions(prep_train, prep_test)"
   ]
  },
  {
   "cell_type": "markdown",
   "metadata": {},
   "source": [
    "### REGION_POPULATION_RELATIVE\n",
    "\n",
    "Normalized population of region where client lives (higher number means the client lives in more populated region).\n",
    "\n",
    "__numeric value__"
   ]
  },
  {
   "cell_type": "code",
   "execution_count": 184,
   "metadata": {},
   "outputs": [],
   "source": [
    "col_to_analyse = 'REGION_POPULATION_RELATIVE'"
   ]
  },
  {
   "cell_type": "code",
   "execution_count": 185,
   "metadata": {},
   "outputs": [
    {
     "data": {
      "text/plain": [
       "count    307511.000000\n",
       "mean          0.020868\n",
       "std           0.013831\n",
       "min           0.000290\n",
       "25%           0.010006\n",
       "50%           0.018850\n",
       "75%           0.028663\n",
       "max           0.072508\n",
       "Name: REGION_POPULATION_RELATIVE, dtype: float64"
      ]
     },
     "execution_count": 185,
     "metadata": {},
     "output_type": "execute_result"
    }
   ],
   "source": [
    "application_train[col_to_analyse].describe()"
   ]
  },
  {
   "cell_type": "code",
   "execution_count": 186,
   "metadata": {},
   "outputs": [
    {
     "data": {
      "text/plain": [
       "<matplotlib.axes._subplots.AxesSubplot at 0x6249fd0>"
      ]
     },
     "execution_count": 186,
     "metadata": {},
     "output_type": "execute_result"
    },
    {
     "data": {
      "image/png": "[encoded data removed]",
      "text/plain": [
       "<Figure size 432x288 with 1 Axes>"
      ]
     },
     "metadata": {},
     "output_type": "display_data"
    }
   ],
   "source": [
    "application_train[col_to_analyse].plot.hist(bins=20)"
   ]
  },
  {
   "cell_type": "markdown",
   "metadata": {},
   "source": [
    "Show the missing values for train and test data"
   ]
  },
  {
   "cell_type": "code",
   "execution_count": 187,
   "metadata": {},
   "outputs": [
    {
     "name": "stdout",
     "output_type": "stream",
     "text": [
      "Missing Values for REGION_POPULATION_RELATIVE:\n",
      "prep_train: 0\n",
      "prep_test: 0\n"
     ]
    }
   ],
   "source": [
    "# Show missing values for test dataset\n",
    "print(\"Missing Values for {}:\\nprep_train: {}\\nprep_test: {}\"\n",
    "      .format(col_to_analyse, prep_train[col_to_analyse].isnull().sum(),\n",
    "              prep_test[col_to_analyse].isnull().sum()))"
   ]
  },
  {
   "cell_type": "code",
   "execution_count": 188,
   "metadata": {
    "scrolled": false
   },
   "outputs": [
    {
     "data": {
      "text/plain": [
       "-0.037217196342622"
      ]
     },
     "execution_count": 188,
     "metadata": {},
     "output_type": "execute_result"
    }
   ],
   "source": [
    "prep_train.TARGET.corr(prep_train[col_to_analyse])"
   ]
  },
  {
   "cell_type": "code",
   "execution_count": 189,
   "metadata": {},
   "outputs": [
    {
     "name": "stdout",
     "output_type": "stream",
     "text": [
      "Shape TRAIN: (307504, 142)\n",
      "Shape  TEST: (48744, 141)\n"
     ]
    }
   ],
   "source": [
    "print_data_dimensions(prep_train, prep_test)"
   ]
  },
  {
   "cell_type": "markdown",
   "metadata": {},
   "source": [
    "### DAYS_BIRTH\n",
    "\n",
    "Client's age in days at the time of application.\n",
    "\n",
    "__numeric value__"
   ]
  },
  {
   "cell_type": "code",
   "execution_count": 190,
   "metadata": {},
   "outputs": [],
   "source": [
    "col_to_analyse = 'DAYS_BIRTH'"
   ]
  },
  {
   "cell_type": "markdown",
   "metadata": {},
   "source": [
    "Bevor we plot information about this feature, we want to convert the DAYS_BIRTH to age in years."
   ]
  },
  {
   "cell_type": "code",
   "execution_count": 191,
   "metadata": {},
   "outputs": [],
   "source": [
    "prep_train[col_to_analyse] = np.floor(prep_train[col_to_analyse] / -365).astype('int32')"
   ]
  },
  {
   "cell_type": "code",
   "execution_count": 192,
   "metadata": {},
   "outputs": [],
   "source": [
    "prep_test[col_to_analyse] = np.floor(prep_test[col_to_analyse] / -365).astype('int32')"
   ]
  },
  {
   "cell_type": "code",
   "execution_count": 193,
   "metadata": {},
   "outputs": [
    {
     "data": {
      "text/plain": [
       "count    307504.000000\n",
       "mean         43.436147\n",
       "std          11.954599\n",
       "min          20.000000\n",
       "25%          34.000000\n",
       "50%          43.000000\n",
       "75%          53.000000\n",
       "max          69.000000\n",
       "Name: DAYS_BIRTH, dtype: float64"
      ]
     },
     "execution_count": 193,
     "metadata": {},
     "output_type": "execute_result"
    }
   ],
   "source": [
    "prep_train[col_to_analyse].describe()"
   ]
  },
  {
   "cell_type": "code",
   "execution_count": 194,
   "metadata": {},
   "outputs": [
    {
     "data": {
      "text/plain": [
       "<matplotlib.axes._subplots.AxesSubplot at 0x1b56b8d0>"
      ]
     },
     "execution_count": 194,
     "metadata": {},
     "output_type": "execute_result"
    },
    {
     "data": {
      "image/png": "[encoded data removed]",
      "text/plain": [
       "<Figure size 432x288 with 1 Axes>"
      ]
     },
     "metadata": {},
     "output_type": "display_data"
    }
   ],
   "source": [
    "prep_train[col_to_analyse].plot.hist(bins=20)"
   ]
  },
  {
   "cell_type": "markdown",
   "metadata": {},
   "source": [
    "Show the missing values for train and test data"
   ]
  },
  {
   "cell_type": "code",
   "execution_count": 195,
   "metadata": {},
   "outputs": [
    {
     "name": "stdout",
     "output_type": "stream",
     "text": [
      "Missing Values for DAYS_BIRTH:\n",
      "prep_train: 0\n",
      "prep_test: 0\n"
     ]
    }
   ],
   "source": [
    "# Show missing values for test dataset\n",
    "print(\"Missing Values for {}:\\nprep_train: {}\\nprep_test: {}\"\n",
    "      .format(col_to_analyse, prep_train[col_to_analyse].isnull().sum(),\n",
    "              prep_test[col_to_analyse].isnull().sum()))"
   ]
  },
  {
   "cell_type": "code",
   "execution_count": 196,
   "metadata": {},
   "outputs": [
    {
     "data": {
      "text/plain": [
       "-0.0782315644899955"
      ]
     },
     "execution_count": 196,
     "metadata": {},
     "output_type": "execute_result"
    }
   ],
   "source": [
    "prep_train.TARGET.corr(prep_train[col_to_analyse])"
   ]
  },
  {
   "cell_type": "code",
   "execution_count": 197,
   "metadata": {},
   "outputs": [
    {
     "name": "stdout",
     "output_type": "stream",
     "text": [
      "Shape TRAIN: (307504, 142)\n",
      "Shape  TEST: (48744, 141)\n"
     ]
    }
   ],
   "source": [
    "print_data_dimensions(prep_train, prep_test)"
   ]
  },
  {
   "cell_type": "markdown",
   "metadata": {},
   "source": [
    "### DAYS_EMPLOYED\n",
    "\n",
    "How many days before the application the person started current employment.\n",
    "\n",
    "__numeric value__"
   ]
  },
  {
   "cell_type": "code",
   "execution_count": 198,
   "metadata": {},
   "outputs": [],
   "source": [
    "col_to_analyse = 'DAYS_EMPLOYED'"
   ]
  },
  {
   "cell_type": "code",
   "execution_count": 199,
   "metadata": {},
   "outputs": [
    {
     "data": {
      "text/plain": [
       "Pensioner     55352\n",
       "Unemployed       22\n",
       "Name: NAME_INCOME_TYPE, dtype: int64"
      ]
     },
     "execution_count": 199,
     "metadata": {},
     "output_type": "execute_result"
    }
   ],
   "source": [
    "application_train[application_train[col_to_analyse] == 365243].NAME_INCOME_TYPE.value_counts()"
   ]
  },
  {
   "cell_type": "markdown",
   "metadata": {},
   "source": [
    "Bevor we plot information about this feature, we want to convert the days to age in years."
   ]
  },
  {
   "cell_type": "code",
   "execution_count": 200,
   "metadata": {},
   "outputs": [],
   "source": [
    "prep_train[col_to_analyse] = np.floor(prep_train[col_to_analyse] / -365).astype('int32')"
   ]
  },
  {
   "cell_type": "code",
   "execution_count": 201,
   "metadata": {},
   "outputs": [],
   "source": [
    "prep_test[col_to_analyse] = np.floor(prep_test[col_to_analyse] / -365).astype('int32')"
   ]
  },
  {
   "cell_type": "code",
   "execution_count": 202,
   "metadata": {},
   "outputs": [
    {
     "data": {
      "text/plain": [
       "count    307504.000000\n",
       "mean       -175.305911\n",
       "std         386.998704\n",
       "min       -1001.000000\n",
       "25%           0.000000\n",
       "50%           3.000000\n",
       "75%           7.000000\n",
       "max          49.000000\n",
       "Name: DAYS_EMPLOYED, dtype: float64"
      ]
     },
     "execution_count": 202,
     "metadata": {},
     "output_type": "execute_result"
    }
   ],
   "source": [
    "prep_train[col_to_analyse].describe()"
   ]
  },
  {
   "cell_type": "markdown",
   "metadata": {},
   "source": [
    "Now we want to replace the values -1001 with -1 to have lower oscillation."
   ]
  },
  {
   "cell_type": "code",
   "execution_count": 203,
   "metadata": {},
   "outputs": [],
   "source": [
    "prep_train.loc[prep_train[col_to_analyse] < 0, col_to_analyse] = -1"
   ]
  },
  {
   "cell_type": "code",
   "execution_count": 204,
   "metadata": {},
   "outputs": [],
   "source": [
    "prep_test.loc[prep_test[col_to_analyse] < 0, col_to_analyse] = -1"
   ]
  },
  {
   "cell_type": "code",
   "execution_count": 205,
   "metadata": {},
   "outputs": [
    {
     "data": {
      "text/plain": [
       "<matplotlib.axes._subplots.AxesSubplot at 0x157909e8>"
      ]
     },
     "execution_count": 205,
     "metadata": {},
     "output_type": "execute_result"
    },
    {
     "data": {
      "image/png": "[encoded data removed]",
      "text/plain": [
       "<Figure size 432x288 with 1 Axes>"
      ]
     },
     "metadata": {},
     "output_type": "display_data"
    }
   ],
   "source": [
    "prep_train[col_to_analyse].plot.hist(bins=60)"
   ]
  },
  {
   "cell_type": "markdown",
   "metadata": {},
   "source": [
    "Show the missing values for train and test data"
   ]
  },
  {
   "cell_type": "code",
   "execution_count": 206,
   "metadata": {},
   "outputs": [
    {
     "name": "stdout",
     "output_type": "stream",
     "text": [
      "Missing Values for DAYS_EMPLOYED:\n",
      "prep_train: 0\n",
      "prep_test: 0\n"
     ]
    }
   ],
   "source": [
    "# Show missing values for test dataset\n",
    "print(\"Missing Values for {}:\\nprep_train: {}\\nprep_test: {}\"\n",
    "      .format(col_to_analyse, prep_train[col_to_analyse].isnull().sum(),\n",
    "              prep_test[col_to_analyse].isnull().sum()))"
   ]
  },
  {
   "cell_type": "code",
   "execution_count": 207,
   "metadata": {
    "scrolled": false
   },
   "outputs": [
    {
     "data": {
      "text/plain": [
       "-0.04395009275792172"
      ]
     },
     "execution_count": 207,
     "metadata": {},
     "output_type": "execute_result"
    }
   ],
   "source": [
    "prep_train.TARGET.corr(prep_train[col_to_analyse])"
   ]
  },
  {
   "cell_type": "code",
   "execution_count": 208,
   "metadata": {},
   "outputs": [
    {
     "name": "stdout",
     "output_type": "stream",
     "text": [
      "Shape TRAIN: (307504, 142)\n",
      "Shape  TEST: (48744, 141)\n"
     ]
    }
   ],
   "source": [
    "print_data_dimensions(prep_train, prep_test)"
   ]
  },
  {
   "cell_type": "markdown",
   "metadata": {},
   "source": [
    "### DAYS_REGISTRATION\n",
    "\n",
    "How many days before the application did client change his registration.\n",
    "\n",
    "__numeric value__"
   ]
  },
  {
   "cell_type": "code",
   "execution_count": 209,
   "metadata": {},
   "outputs": [],
   "source": [
    "col_to_analyse = 'DAYS_REGISTRATION'"
   ]
  },
  {
   "cell_type": "code",
   "execution_count": 210,
   "metadata": {},
   "outputs": [
    {
     "data": {
      "text/plain": [
       "count    307504.000000\n",
       "mean      -4986.142219\n",
       "std        3522.892090\n",
       "min      -24672.000000\n",
       "25%       -7480.000000\n",
       "50%       -4504.000000\n",
       "75%       -2010.000000\n",
       "max           0.000000\n",
       "Name: DAYS_REGISTRATION, dtype: float64"
      ]
     },
     "execution_count": 210,
     "metadata": {},
     "output_type": "execute_result"
    }
   ],
   "source": [
    "prep_train[col_to_analyse].describe()"
   ]
  },
  {
   "cell_type": "code",
   "execution_count": 211,
   "metadata": {},
   "outputs": [],
   "source": [
    "prep_train[col_to_analyse] = np.floor(prep_train[col_to_analyse] / -365).astype('int32')"
   ]
  },
  {
   "cell_type": "code",
   "execution_count": 212,
   "metadata": {},
   "outputs": [],
   "source": [
    "prep_test[col_to_analyse] = np.floor(prep_test[col_to_analyse] / -365).astype('int32')"
   ]
  },
  {
   "cell_type": "code",
   "execution_count": 213,
   "metadata": {},
   "outputs": [
    {
     "data": {
      "text/plain": [
       "count    307504.000000\n",
       "mean         13.168743\n",
       "std           9.646858\n",
       "min           0.000000\n",
       "25%           5.000000\n",
       "50%          12.000000\n",
       "75%          20.000000\n",
       "max          67.000000\n",
       "Name: DAYS_REGISTRATION, dtype: float64"
      ]
     },
     "execution_count": 213,
     "metadata": {},
     "output_type": "execute_result"
    }
   ],
   "source": [
    "prep_train[col_to_analyse].describe()"
   ]
  },
  {
   "cell_type": "code",
   "execution_count": 214,
   "metadata": {},
   "outputs": [
    {
     "data": {
      "text/plain": [
       "<matplotlib.axes._subplots.AxesSubplot at 0x1586d6d8>"
      ]
     },
     "execution_count": 214,
     "metadata": {},
     "output_type": "execute_result"
    },
    {
     "data": {
      "image/png": "[encoded data removed]",
      "text/plain": [
       "<Figure size 432x288 with 1 Axes>"
      ]
     },
     "metadata": {},
     "output_type": "display_data"
    }
   ],
   "source": [
    "prep_train[col_to_analyse].plot.hist(bins=60)"
   ]
  },
  {
   "cell_type": "markdown",
   "metadata": {},
   "source": [
    "Show the missing values for train and test data"
   ]
  },
  {
   "cell_type": "code",
   "execution_count": 215,
   "metadata": {},
   "outputs": [
    {
     "name": "stdout",
     "output_type": "stream",
     "text": [
      "Missing Values for DAYS_REGISTRATION:\n",
      "prep_train: 0\n",
      "prep_test: 0\n"
     ]
    }
   ],
   "source": [
    "# Show missing values for test dataset\n",
    "print(\"Missing Values for {}:\\nprep_train: {}\\nprep_test: {}\"\n",
    "      .format(col_to_analyse, prep_train[col_to_analyse].isnull().sum(),\n",
    "              prep_test[col_to_analyse].isnull().sum()))"
   ]
  },
  {
   "cell_type": "code",
   "execution_count": 216,
   "metadata": {
    "scrolled": false
   },
   "outputs": [
    {
     "data": {
      "text/plain": [
       "-0.041984399148372396"
      ]
     },
     "execution_count": 216,
     "metadata": {},
     "output_type": "execute_result"
    }
   ],
   "source": [
    "prep_train.TARGET.corr(prep_train[col_to_analyse])"
   ]
  },
  {
   "cell_type": "code",
   "execution_count": 217,
   "metadata": {},
   "outputs": [
    {
     "name": "stdout",
     "output_type": "stream",
     "text": [
      "Shape TRAIN: (307504, 142)\n",
      "Shape  TEST: (48744, 141)\n"
     ]
    }
   ],
   "source": [
    "print_data_dimensions(prep_train, prep_test)"
   ]
  },
  {
   "cell_type": "markdown",
   "metadata": {},
   "source": [
    "### DAYS_ID_PUBLISH\n",
    "\n",
    "How many days before the application did client change the identity document with which he applied for the loan.\n",
    "\n",
    "__numeric value__"
   ]
  },
  {
   "cell_type": "code",
   "execution_count": 218,
   "metadata": {},
   "outputs": [],
   "source": [
    "col_to_analyse = 'DAYS_ID_PUBLISH'"
   ]
  },
  {
   "cell_type": "code",
   "execution_count": 219,
   "metadata": {},
   "outputs": [
    {
     "data": {
      "text/plain": [
       "count    307504.000000\n",
       "mean      -2994.199327\n",
       "std        1509.456887\n",
       "min       -7197.000000\n",
       "25%       -4299.000000\n",
       "50%       -3254.000000\n",
       "75%       -1720.000000\n",
       "max           0.000000\n",
       "Name: DAYS_ID_PUBLISH, dtype: float64"
      ]
     },
     "execution_count": 219,
     "metadata": {},
     "output_type": "execute_result"
    }
   ],
   "source": [
    "prep_train[col_to_analyse].describe()"
   ]
  },
  {
   "cell_type": "code",
   "execution_count": 220,
   "metadata": {},
   "outputs": [],
   "source": [
    "prep_train[col_to_analyse] = np.floor(prep_train[col_to_analyse] / -365).astype('int32')"
   ]
  },
  {
   "cell_type": "code",
   "execution_count": 221,
   "metadata": {},
   "outputs": [],
   "source": [
    "prep_test[col_to_analyse] = np.floor(prep_test[col_to_analyse] / -365).astype('int32')"
   ]
  },
  {
   "cell_type": "code",
   "execution_count": 222,
   "metadata": {},
   "outputs": [
    {
     "data": {
      "text/plain": [
       "count    307504.000000\n",
       "mean          7.713467\n",
       "std           4.134534\n",
       "min           0.000000\n",
       "25%           4.000000\n",
       "50%           8.000000\n",
       "75%          11.000000\n",
       "max          19.000000\n",
       "Name: DAYS_ID_PUBLISH, dtype: float64"
      ]
     },
     "execution_count": 222,
     "metadata": {},
     "output_type": "execute_result"
    }
   ],
   "source": [
    "prep_train[col_to_analyse].describe()"
   ]
  },
  {
   "cell_type": "code",
   "execution_count": 223,
   "metadata": {},
   "outputs": [
    {
     "data": {
      "text/plain": [
       "<matplotlib.axes._subplots.AxesSubplot at 0x15c092e8>"
      ]
     },
     "execution_count": 223,
     "metadata": {},
     "output_type": "execute_result"
    },
    {
     "data": {
      "image/png": "[encoded data removed]",
      "text/plain": [
       "<Figure size 432x288 with 1 Axes>"
      ]
     },
     "metadata": {},
     "output_type": "display_data"
    }
   ],
   "source": [
    "prep_train[col_to_analyse].plot.hist(bins=30)"
   ]
  },
  {
   "cell_type": "markdown",
   "metadata": {},
   "source": [
    "Show the missing values for train and test data"
   ]
  },
  {
   "cell_type": "code",
   "execution_count": 224,
   "metadata": {},
   "outputs": [
    {
     "name": "stdout",
     "output_type": "stream",
     "text": [
      "Missing Values for DAYS_ID_PUBLISH:\n",
      "prep_train: 0\n",
      "prep_test: 0\n"
     ]
    }
   ],
   "source": [
    "# Show missing values for test dataset\n",
    "print(\"Missing Values for {}:\\nprep_train: {}\\nprep_test: {}\"\n",
    "      .format(col_to_analyse, prep_train[col_to_analyse].isnull().sum(),\n",
    "              prep_test[col_to_analyse].isnull().sum()))"
   ]
  },
  {
   "cell_type": "code",
   "execution_count": 225,
   "metadata": {
    "scrolled": false
   },
   "outputs": [
    {
     "data": {
      "text/plain": [
       "-0.05112847514106122"
      ]
     },
     "execution_count": 225,
     "metadata": {},
     "output_type": "execute_result"
    }
   ],
   "source": [
    "prep_train.TARGET.corr(prep_train[col_to_analyse])"
   ]
  },
  {
   "cell_type": "code",
   "execution_count": 226,
   "metadata": {},
   "outputs": [
    {
     "name": "stdout",
     "output_type": "stream",
     "text": [
      "Shape TRAIN: (307504, 142)\n",
      "Shape  TEST: (48744, 141)\n"
     ]
    }
   ],
   "source": [
    "print_data_dimensions(prep_train, prep_test)"
   ]
  },
  {
   "cell_type": "markdown",
   "metadata": {},
   "source": [
    "### OWN_CAR_AGE\n",
    "\n",
    "Age of client's car.\n",
    "\n",
    "__numeric value__"
   ]
  },
  {
   "cell_type": "code",
   "execution_count": 227,
   "metadata": {},
   "outputs": [],
   "source": [
    "col_to_analyse = 'OWN_CAR_AGE'"
   ]
  },
  {
   "cell_type": "code",
   "execution_count": 228,
   "metadata": {},
   "outputs": [
    {
     "data": {
      "text/plain": [
       "count    104580.000000\n",
       "mean         12.061121\n",
       "std          11.944919\n",
       "min           0.000000\n",
       "25%           5.000000\n",
       "50%           9.000000\n",
       "75%          15.000000\n",
       "max          91.000000\n",
       "Name: OWN_CAR_AGE, dtype: float64"
      ]
     },
     "execution_count": 228,
     "metadata": {},
     "output_type": "execute_result"
    }
   ],
   "source": [
    "prep_train[col_to_analyse].describe()"
   ]
  },
  {
   "cell_type": "code",
   "execution_count": 229,
   "metadata": {},
   "outputs": [
    {
     "data": {
      "text/plain": [
       "<matplotlib.axes._subplots.AxesSubplot at 0x18560a20>"
      ]
     },
     "execution_count": 229,
     "metadata": {},
     "output_type": "execute_result"
    },
    {
     "data": {
      "image/png": "[encoded data removed]",
      "text/plain": [
       "<Figure size 432x288 with 1 Axes>"
      ]
     },
     "metadata": {},
     "output_type": "display_data"
    }
   ],
   "source": [
    "prep_train[col_to_analyse].plot.hist(bins=30)"
   ]
  },
  {
   "cell_type": "markdown",
   "metadata": {},
   "source": [
    "Show the missing values for train and test data"
   ]
  },
  {
   "cell_type": "code",
   "execution_count": 230,
   "metadata": {},
   "outputs": [
    {
     "name": "stdout",
     "output_type": "stream",
     "text": [
      "Missing Values for OWN_CAR_AGE:\n",
      "prep_train: 202924\n",
      "prep_test: 32312\n"
     ]
    }
   ],
   "source": [
    "# Show missing values for test dataset\n",
    "print(\"Missing Values for {}:\\nprep_train: {}\\nprep_test: {}\"\n",
    "      .format(col_to_analyse, prep_train[col_to_analyse].isnull().sum(),\n",
    "              prep_test[col_to_analyse].isnull().sum()))"
   ]
  },
  {
   "cell_type": "code",
   "execution_count": 231,
   "metadata": {},
   "outputs": [],
   "source": [
    "prep_train.loc[prep_train[col_to_analyse].isnull(), col_to_analyse] = -1"
   ]
  },
  {
   "cell_type": "code",
   "execution_count": 232,
   "metadata": {},
   "outputs": [],
   "source": [
    "prep_test.loc[prep_test[col_to_analyse].isnull(), col_to_analyse] = -1"
   ]
  },
  {
   "cell_type": "code",
   "execution_count": 233,
   "metadata": {
    "scrolled": false
   },
   "outputs": [
    {
     "data": {
      "text/plain": [
       "0.0011042416017870565"
      ]
     },
     "execution_count": 233,
     "metadata": {},
     "output_type": "execute_result"
    }
   ],
   "source": [
    "prep_train.TARGET.corr(prep_train[col_to_analyse])"
   ]
  },
  {
   "cell_type": "code",
   "execution_count": 234,
   "metadata": {},
   "outputs": [
    {
     "name": "stdout",
     "output_type": "stream",
     "text": [
      "Shape TRAIN: (307504, 142)\n",
      "Shape  TEST: (48744, 141)\n"
     ]
    }
   ],
   "source": [
    "print_data_dimensions(prep_train, prep_test)"
   ]
  },
  {
   "cell_type": "markdown",
   "metadata": {},
   "source": [
    "### FLAG_MOBIL\n",
    "\n",
    "Did client provide mobile phone (1=YES, 0=NO).\n",
    "\n",
    "__numeric value__"
   ]
  },
  {
   "cell_type": "code",
   "execution_count": 235,
   "metadata": {},
   "outputs": [],
   "source": [
    "col_to_analyse = 'FLAG_MOBIL'"
   ]
  },
  {
   "cell_type": "code",
   "execution_count": 236,
   "metadata": {},
   "outputs": [
    {
     "data": {
      "text/plain": [
       "count    307504.000000\n",
       "mean          0.999997\n",
       "std           0.001803\n",
       "min           0.000000\n",
       "25%           1.000000\n",
       "50%           1.000000\n",
       "75%           1.000000\n",
       "max           1.000000\n",
       "Name: FLAG_MOBIL, dtype: float64"
      ]
     },
     "execution_count": 236,
     "metadata": {},
     "output_type": "execute_result"
    }
   ],
   "source": [
    "prep_train[col_to_analyse].describe()"
   ]
  },
  {
   "cell_type": "code",
   "execution_count": 237,
   "metadata": {},
   "outputs": [
    {
     "data": {
      "text/plain": [
       "1    307503\n",
       "0         1\n",
       "Name: FLAG_MOBIL, dtype: int64"
      ]
     },
     "execution_count": 237,
     "metadata": {},
     "output_type": "execute_result"
    }
   ],
   "source": [
    "prep_train[col_to_analyse].value_counts()"
   ]
  },
  {
   "cell_type": "markdown",
   "metadata": {},
   "source": [
    "Show the missing values for train and test data"
   ]
  },
  {
   "cell_type": "code",
   "execution_count": 238,
   "metadata": {},
   "outputs": [
    {
     "name": "stdout",
     "output_type": "stream",
     "text": [
      "Missing Values for FLAG_MOBIL:\n",
      "prep_train: 0\n",
      "prep_test: 0\n"
     ]
    }
   ],
   "source": [
    "# Show missing values for test dataset\n",
    "print(\"Missing Values for {}:\\nprep_train: {}\\nprep_test: {}\"\n",
    "      .format(col_to_analyse, prep_train[col_to_analyse].isnull().sum(),\n",
    "              prep_test[col_to_analyse].isnull().sum()))"
   ]
  },
  {
   "cell_type": "code",
   "execution_count": 239,
   "metadata": {
    "scrolled": false
   },
   "outputs": [
    {
     "data": {
      "text/plain": [
       "0.0005343965693041863"
      ]
     },
     "execution_count": 239,
     "metadata": {},
     "output_type": "execute_result"
    }
   ],
   "source": [
    "prep_train.TARGET.corr(prep_train[col_to_analyse])"
   ]
  },
  {
   "cell_type": "code",
   "execution_count": 240,
   "metadata": {},
   "outputs": [
    {
     "name": "stdout",
     "output_type": "stream",
     "text": [
      "Shape TRAIN: (307504, 142)\n",
      "Shape  TEST: (48744, 141)\n"
     ]
    }
   ],
   "source": [
    "print_data_dimensions(prep_train, prep_test)"
   ]
  },
  {
   "cell_type": "markdown",
   "metadata": {},
   "source": [
    "### FLAG_EMP_PHONE\n",
    "\n",
    "Did client provide work phone (1=YES, 0=NO).\n",
    "\n",
    "__numeric value__"
   ]
  },
  {
   "cell_type": "code",
   "execution_count": 241,
   "metadata": {},
   "outputs": [],
   "source": [
    "col_to_analyse = 'FLAG_EMP_PHONE'"
   ]
  },
  {
   "cell_type": "code",
   "execution_count": 242,
   "metadata": {},
   "outputs": [
    {
     "data": {
      "text/plain": [
       "count    307504.000000\n",
       "mean          0.819885\n",
       "std           0.384284\n",
       "min           0.000000\n",
       "25%           1.000000\n",
       "50%           1.000000\n",
       "75%           1.000000\n",
       "max           1.000000\n",
       "Name: FLAG_EMP_PHONE, dtype: float64"
      ]
     },
     "execution_count": 242,
     "metadata": {},
     "output_type": "execute_result"
    }
   ],
   "source": [
    "prep_train[col_to_analyse].describe()"
   ]
  },
  {
   "cell_type": "code",
   "execution_count": 243,
   "metadata": {},
   "outputs": [
    {
     "data": {
      "text/plain": [
       "1    252118\n",
       "0     55386\n",
       "Name: FLAG_EMP_PHONE, dtype: int64"
      ]
     },
     "execution_count": 243,
     "metadata": {},
     "output_type": "execute_result"
    }
   ],
   "source": [
    "prep_train[col_to_analyse].value_counts()"
   ]
  },
  {
   "cell_type": "markdown",
   "metadata": {},
   "source": [
    "Show the missing values for train and test data"
   ]
  },
  {
   "cell_type": "code",
   "execution_count": 244,
   "metadata": {},
   "outputs": [
    {
     "name": "stdout",
     "output_type": "stream",
     "text": [
      "Missing Values for FLAG_EMP_PHONE:\n",
      "prep_train: 0\n",
      "prep_test: 0\n"
     ]
    }
   ],
   "source": [
    "# Show missing values for test dataset\n",
    "print(\"Missing Values for {}:\\nprep_train: {}\\nprep_test: {}\"\n",
    "      .format(col_to_analyse, prep_train[col_to_analyse].isnull().sum(),\n",
    "              prep_test[col_to_analyse].isnull().sum()))"
   ]
  },
  {
   "cell_type": "code",
   "execution_count": 245,
   "metadata": {
    "scrolled": false
   },
   "outputs": [
    {
     "data": {
      "text/plain": [
       "0.04598079213679263"
      ]
     },
     "execution_count": 245,
     "metadata": {},
     "output_type": "execute_result"
    }
   ],
   "source": [
    "prep_train.TARGET.corr(prep_train[col_to_analyse])"
   ]
  },
  {
   "cell_type": "code",
   "execution_count": 246,
   "metadata": {},
   "outputs": [
    {
     "name": "stdout",
     "output_type": "stream",
     "text": [
      "Shape TRAIN: (307504, 142)\n",
      "Shape  TEST: (48744, 141)\n"
     ]
    }
   ],
   "source": [
    "print_data_dimensions(prep_train, prep_test)"
   ]
  },
  {
   "cell_type": "markdown",
   "metadata": {},
   "source": [
    "### FLAG_WORK_PHONE\n",
    "\n",
    "Did client provide work phone (1=YES, 0=NO).\n",
    "\n",
    "__numeric value__"
   ]
  },
  {
   "cell_type": "code",
   "execution_count": 247,
   "metadata": {},
   "outputs": [],
   "source": [
    "col_to_analyse = 'FLAG_WORK_PHONE'"
   ]
  },
  {
   "cell_type": "code",
   "execution_count": 248,
   "metadata": {},
   "outputs": [
    {
     "data": {
      "text/plain": [
       "count    307504.000000\n",
       "mean          0.199357\n",
       "std           0.399517\n",
       "min           0.000000\n",
       "25%           0.000000\n",
       "50%           0.000000\n",
       "75%           0.000000\n",
       "max           1.000000\n",
       "Name: FLAG_WORK_PHONE, dtype: float64"
      ]
     },
     "execution_count": 248,
     "metadata": {},
     "output_type": "execute_result"
    }
   ],
   "source": [
    "prep_train[col_to_analyse].describe()"
   ]
  },
  {
   "cell_type": "code",
   "execution_count": 249,
   "metadata": {},
   "outputs": [
    {
     "data": {
      "text/plain": [
       "0    246201\n",
       "1     61303\n",
       "Name: FLAG_WORK_PHONE, dtype: int64"
      ]
     },
     "execution_count": 249,
     "metadata": {},
     "output_type": "execute_result"
    }
   ],
   "source": [
    "prep_train[col_to_analyse].value_counts()"
   ]
  },
  {
   "cell_type": "markdown",
   "metadata": {},
   "source": [
    "Show the missing values for train and test data"
   ]
  },
  {
   "cell_type": "code",
   "execution_count": 250,
   "metadata": {},
   "outputs": [
    {
     "name": "stdout",
     "output_type": "stream",
     "text": [
      "Missing Values for FLAG_WORK_PHONE:\n",
      "prep_train: 0\n",
      "prep_test: 0\n"
     ]
    }
   ],
   "source": [
    "# Show missing values for test dataset\n",
    "print(\"Missing Values for {}:\\nprep_train: {}\\nprep_test: {}\"\n",
    "      .format(col_to_analyse, prep_train[col_to_analyse].isnull().sum(),\n",
    "              prep_test[col_to_analyse].isnull().sum()))"
   ]
  },
  {
   "cell_type": "code",
   "execution_count": 251,
   "metadata": {
    "scrolled": false
   },
   "outputs": [
    {
     "data": {
      "text/plain": [
       "0.02854048089480389"
      ]
     },
     "execution_count": 251,
     "metadata": {},
     "output_type": "execute_result"
    }
   ],
   "source": [
    "prep_train.TARGET.corr(prep_train[col_to_analyse])"
   ]
  },
  {
   "cell_type": "code",
   "execution_count": 252,
   "metadata": {},
   "outputs": [
    {
     "name": "stdout",
     "output_type": "stream",
     "text": [
      "Shape TRAIN: (307504, 142)\n",
      "Shape  TEST: (48744, 141)\n"
     ]
    }
   ],
   "source": [
    "print_data_dimensions(prep_train, prep_test)"
   ]
  },
  {
   "cell_type": "markdown",
   "metadata": {},
   "source": [
    "### FLAG_CONT_MOBILE\n",
    "\n",
    "Was mobile phone reachable (1=YES, 0=NO).\n",
    "\n",
    "__numeric value__"
   ]
  },
  {
   "cell_type": "code",
   "execution_count": 253,
   "metadata": {},
   "outputs": [],
   "source": [
    "col_to_analyse = 'FLAG_CONT_MOBILE'"
   ]
  },
  {
   "cell_type": "code",
   "execution_count": 254,
   "metadata": {},
   "outputs": [
    {
     "data": {
      "text/plain": [
       "count    307504.000000\n",
       "mean          0.998133\n",
       "std           0.043164\n",
       "min           0.000000\n",
       "25%           1.000000\n",
       "50%           1.000000\n",
       "75%           1.000000\n",
       "max           1.000000\n",
       "Name: FLAG_CONT_MOBILE, dtype: float64"
      ]
     },
     "execution_count": 254,
     "metadata": {},
     "output_type": "execute_result"
    }
   ],
   "source": [
    "prep_train[col_to_analyse].describe()"
   ]
  },
  {
   "cell_type": "code",
   "execution_count": 255,
   "metadata": {},
   "outputs": [
    {
     "data": {
      "text/plain": [
       "1    306930\n",
       "0       574\n",
       "Name: FLAG_CONT_MOBILE, dtype: int64"
      ]
     },
     "execution_count": 255,
     "metadata": {},
     "output_type": "execute_result"
    }
   ],
   "source": [
    "prep_train[col_to_analyse].value_counts()"
   ]
  },
  {
   "cell_type": "markdown",
   "metadata": {},
   "source": [
    "Show the missing values for train and test data"
   ]
  },
  {
   "cell_type": "code",
   "execution_count": 256,
   "metadata": {},
   "outputs": [
    {
     "name": "stdout",
     "output_type": "stream",
     "text": [
      "Missing Values for FLAG_CONT_MOBILE:\n",
      "prep_train: 0\n",
      "prep_test: 0\n"
     ]
    }
   ],
   "source": [
    "# Show missing values for test dataset\n",
    "print(\"Missing Values for {}:\\nprep_train: {}\\nprep_test: {}\"\n",
    "      .format(col_to_analyse, prep_train[col_to_analyse].isnull().sum(),\n",
    "              prep_test[col_to_analyse].isnull().sum()))"
   ]
  },
  {
   "cell_type": "code",
   "execution_count": 257,
   "metadata": {
    "scrolled": false
   },
   "outputs": [
    {
     "data": {
      "text/plain": [
       "0.0003699094679478691"
      ]
     },
     "execution_count": 257,
     "metadata": {},
     "output_type": "execute_result"
    }
   ],
   "source": [
    "prep_train.TARGET.corr(prep_train[col_to_analyse])"
   ]
  },
  {
   "cell_type": "code",
   "execution_count": 258,
   "metadata": {},
   "outputs": [
    {
     "name": "stdout",
     "output_type": "stream",
     "text": [
      "Shape TRAIN: (307504, 142)\n",
      "Shape  TEST: (48744, 141)\n"
     ]
    }
   ],
   "source": [
    "print_data_dimensions(prep_train, prep_test)"
   ]
  },
  {
   "cell_type": "markdown",
   "metadata": {},
   "source": [
    "### FLAG_PHONE\n",
    "\n",
    "Did client provide home phone (1=YES, 0=NO).\n",
    "\n",
    "__numeric value__"
   ]
  },
  {
   "cell_type": "code",
   "execution_count": 259,
   "metadata": {},
   "outputs": [],
   "source": [
    "col_to_analyse = 'FLAG_PHONE'"
   ]
  },
  {
   "cell_type": "code",
   "execution_count": 260,
   "metadata": {},
   "outputs": [
    {
     "data": {
      "text/plain": [
       "count    307504.000000\n",
       "mean          0.281057\n",
       "std           0.449516\n",
       "min           0.000000\n",
       "25%           0.000000\n",
       "50%           0.000000\n",
       "75%           1.000000\n",
       "max           1.000000\n",
       "Name: FLAG_PHONE, dtype: float64"
      ]
     },
     "execution_count": 260,
     "metadata": {},
     "output_type": "execute_result"
    }
   ],
   "source": [
    "prep_train[col_to_analyse].describe()"
   ]
  },
  {
   "cell_type": "code",
   "execution_count": 261,
   "metadata": {},
   "outputs": [
    {
     "data": {
      "text/plain": [
       "0    221078\n",
       "1     86426\n",
       "Name: FLAG_PHONE, dtype: int64"
      ]
     },
     "execution_count": 261,
     "metadata": {},
     "output_type": "execute_result"
    }
   ],
   "source": [
    "prep_train[col_to_analyse].value_counts()"
   ]
  },
  {
   "cell_type": "markdown",
   "metadata": {},
   "source": [
    "Show the missing values for train and test data"
   ]
  },
  {
   "cell_type": "code",
   "execution_count": 262,
   "metadata": {},
   "outputs": [
    {
     "name": "stdout",
     "output_type": "stream",
     "text": [
      "Missing Values for FLAG_PHONE:\n",
      "prep_train: 0\n",
      "prep_test: 0\n"
     ]
    }
   ],
   "source": [
    "# Show missing values for test dataset\n",
    "print(\"Missing Values for {}:\\nprep_train: {}\\nprep_test: {}\"\n",
    "      .format(col_to_analyse, prep_train[col_to_analyse].isnull().sum(),\n",
    "              prep_test[col_to_analyse].isnull().sum()))"
   ]
  },
  {
   "cell_type": "code",
   "execution_count": 263,
   "metadata": {
    "scrolled": false
   },
   "outputs": [
    {
     "data": {
      "text/plain": [
       "-0.0237932934131653"
      ]
     },
     "execution_count": 263,
     "metadata": {},
     "output_type": "execute_result"
    }
   ],
   "source": [
    "prep_train.TARGET.corr(prep_train[col_to_analyse])"
   ]
  },
  {
   "cell_type": "code",
   "execution_count": 264,
   "metadata": {},
   "outputs": [
    {
     "name": "stdout",
     "output_type": "stream",
     "text": [
      "Shape TRAIN: (307504, 142)\n",
      "Shape  TEST: (48744, 141)\n"
     ]
    }
   ],
   "source": [
    "print_data_dimensions(prep_train, prep_test)"
   ]
  },
  {
   "cell_type": "markdown",
   "metadata": {},
   "source": [
    "### FLAG_EMAIL\n",
    "\n",
    "Did client provide email (1=YES, 0=NO).\n",
    "\n",
    "__numeric value__"
   ]
  },
  {
   "cell_type": "code",
   "execution_count": 265,
   "metadata": {},
   "outputs": [],
   "source": [
    "col_to_analyse = 'FLAG_EMAIL'"
   ]
  },
  {
   "cell_type": "code",
   "execution_count": 266,
   "metadata": {},
   "outputs": [
    {
     "data": {
      "text/plain": [
       "count    307504.000000\n",
       "mean          0.056721\n",
       "std           0.231310\n",
       "min           0.000000\n",
       "25%           0.000000\n",
       "50%           0.000000\n",
       "75%           0.000000\n",
       "max           1.000000\n",
       "Name: FLAG_EMAIL, dtype: float64"
      ]
     },
     "execution_count": 266,
     "metadata": {},
     "output_type": "execute_result"
    }
   ],
   "source": [
    "prep_train[col_to_analyse].describe()"
   ]
  },
  {
   "cell_type": "code",
   "execution_count": 267,
   "metadata": {},
   "outputs": [
    {
     "data": {
      "text/plain": [
       "0    290062\n",
       "1     17442\n",
       "Name: FLAG_EMAIL, dtype: int64"
      ]
     },
     "execution_count": 267,
     "metadata": {},
     "output_type": "execute_result"
    }
   ],
   "source": [
    "prep_train[col_to_analyse].value_counts()"
   ]
  },
  {
   "cell_type": "markdown",
   "metadata": {},
   "source": [
    "Show the missing values for train and test data"
   ]
  },
  {
   "cell_type": "code",
   "execution_count": 268,
   "metadata": {},
   "outputs": [
    {
     "name": "stdout",
     "output_type": "stream",
     "text": [
      "Missing Values for FLAG_EMAIL:\n",
      "prep_train: 0\n",
      "prep_test: 0\n"
     ]
    }
   ],
   "source": [
    "# Show missing values for test dataset\n",
    "print(\"Missing Values for {}:\\nprep_train: {}\\nprep_test: {}\"\n",
    "      .format(col_to_analyse, prep_train[col_to_analyse].isnull().sum(),\n",
    "              prep_test[col_to_analyse].isnull().sum()))"
   ]
  },
  {
   "cell_type": "code",
   "execution_count": 269,
   "metadata": {
    "scrolled": false
   },
   "outputs": [
    {
     "data": {
      "text/plain": [
       "-0.0017571456149743673"
      ]
     },
     "execution_count": 269,
     "metadata": {},
     "output_type": "execute_result"
    }
   ],
   "source": [
    "prep_train.TARGET.corr(prep_train[col_to_analyse])"
   ]
  },
  {
   "cell_type": "code",
   "execution_count": 270,
   "metadata": {},
   "outputs": [
    {
     "name": "stdout",
     "output_type": "stream",
     "text": [
      "Shape TRAIN: (307504, 142)\n",
      "Shape  TEST: (48744, 141)\n"
     ]
    }
   ],
   "source": [
    "print_data_dimensions(prep_train, prep_test)"
   ]
  },
  {
   "cell_type": "markdown",
   "metadata": {},
   "source": [
    "### OCCUPATION_TYPE\n",
    "\n",
    "What kind of occupation does the client have.\n",
    "\n",
    "__Different Categories__"
   ]
  },
  {
   "cell_type": "code",
   "execution_count": 271,
   "metadata": {},
   "outputs": [],
   "source": [
    "col_to_analyse = 'OCCUPATION_TYPE'"
   ]
  },
  {
   "cell_type": "code",
   "execution_count": 272,
   "metadata": {},
   "outputs": [
    {
     "data": {
      "text/plain": [
       "Laborers                 55186\n",
       "Sales staff              32102\n",
       "Core staff               27570\n",
       "Managers                 21371\n",
       "Drivers                  18603\n",
       "High skill tech staff    11380\n",
       "Accountants               9813\n",
       "Medicine staff            8537\n",
       "Security staff            6721\n",
       "Cooking staff             5946\n",
       "Cleaning staff            4653\n",
       "Private service staff     2652\n",
       "Low-skill Laborers        2093\n",
       "Waiters/barmen staff      1348\n",
       "Secretaries               1305\n",
       "Realty agents              751\n",
       "HR staff                   563\n",
       "IT staff                   526\n",
       "Name: OCCUPATION_TYPE, dtype: int64"
      ]
     },
     "execution_count": 272,
     "metadata": {},
     "output_type": "execute_result"
    }
   ],
   "source": [
    "application_train[col_to_analyse].value_counts()"
   ]
  },
  {
   "cell_type": "code",
   "execution_count": 273,
   "metadata": {},
   "outputs": [
    {
     "data": {
      "text/plain": [
       "Laborers                 49348\n",
       "Sales staff              29010\n",
       "Core staff               25832\n",
       "Managers                 20043\n",
       "Drivers                  16496\n",
       "High skill tech staff    10679\n",
       "Accountants               9339\n",
       "Medicine staff            7965\n",
       "Security staff            5999\n",
       "Cooking staff             5325\n",
       "Cleaning staff            4206\n",
       "Private service staff     2477\n",
       "Low-skill Laborers        1734\n",
       "Secretaries               1213\n",
       "Waiters/barmen staff      1196\n",
       "Realty agents              692\n",
       "HR staff                   527\n",
       "IT staff                   492\n",
       "Name: OCCUPATION_TYPE, dtype: int64"
      ]
     },
     "execution_count": 273,
     "metadata": {},
     "output_type": "execute_result"
    }
   ],
   "source": [
    "# Values for Class 0\n",
    "application_train[application_train.TARGET == 0][col_to_analyse].value_counts()"
   ]
  },
  {
   "cell_type": "code",
   "execution_count": 274,
   "metadata": {},
   "outputs": [
    {
     "data": {
      "text/plain": [
       "Laborers                 5838\n",
       "Sales staff              3092\n",
       "Drivers                  2107\n",
       "Core staff               1738\n",
       "Managers                 1328\n",
       "Security staff            722\n",
       "High skill tech staff     701\n",
       "Cooking staff             621\n",
       "Medicine staff            572\n",
       "Accountants               474\n",
       "Cleaning staff            447\n",
       "Low-skill Laborers        359\n",
       "Private service staff     175\n",
       "Waiters/barmen staff      152\n",
       "Secretaries                92\n",
       "Realty agents              59\n",
       "HR staff                   36\n",
       "IT staff                   34\n",
       "Name: OCCUPATION_TYPE, dtype: int64"
      ]
     },
     "execution_count": 274,
     "metadata": {},
     "output_type": "execute_result"
    }
   ],
   "source": [
    "# Values for Class 1\n",
    "application_train[application_train.TARGET == 1][col_to_analyse].value_counts()"
   ]
  },
  {
   "cell_type": "markdown",
   "metadata": {},
   "source": [
    "Show the missing values for train and test data"
   ]
  },
  {
   "cell_type": "code",
   "execution_count": 275,
   "metadata": {},
   "outputs": [
    {
     "name": "stdout",
     "output_type": "stream",
     "text": [
      "Missing Values for OCCUPATION_TYPE:\n",
      "prep_train: 96389\n",
      "prep_test: 15605\n"
     ]
    }
   ],
   "source": [
    "# Show missing values for test dataset\n",
    "print(\"Missing Values for {}:\\nprep_train: {}\\nprep_test: {}\"\n",
    "      .format(col_to_analyse, prep_train[col_to_analyse].isnull().sum(),\n",
    "              prep_test[col_to_analyse].isnull().sum()))"
   ]
  },
  {
   "cell_type": "code",
   "execution_count": 276,
   "metadata": {},
   "outputs": [],
   "source": [
    "one_hot_encoded_OCCUPATION_TYPE = pd.get_dummies(prep_train[col_to_analyse], prefix=col_to_analyse, dummy_na = True)"
   ]
  },
  {
   "cell_type": "code",
   "execution_count": 277,
   "metadata": {},
   "outputs": [
    {
     "name": "stdout",
     "output_type": "stream",
     "text": [
      "OCCUPATION_TYPE_Accountants corr: -0.02160553263765021\n",
      "OCCUPATION_TYPE_Cleaning staff corr: 0.0069796680892837614\n",
      "OCCUPATION_TYPE_Cooking staff corr: 0.012222856513430101\n",
      "OCCUPATION_TYPE_Core staff corr: -0.020373640077792448\n",
      "OCCUPATION_TYPE_Drivers corr: 0.03030542658509146\n",
      "OCCUPATION_TYPE_HR staff corr: -0.0026387355305109044\n",
      "OCCUPATION_TYPE_High skill tech staff corr: -0.013764920045706631\n",
      "OCCUPATION_TYPE_IT staff corr: -0.0024446992440291223\n",
      "OCCUPATION_TYPE_Laborers corr: 0.0429940305720526\n",
      "OCCUPATION_TYPE_Low-skill Laborers corr: 0.027610057320108367\n",
      "OCCUPATION_TYPE_Managers corr: -0.018643569564306482\n",
      "OCCUPATION_TYPE_Medicine staff corr: -0.008513712547085798\n",
      "OCCUPATION_TYPE_Private service staff corr: -0.005046514148461772\n",
      "OCCUPATION_TYPE_Realty agents corr: -0.00039332235693145253\n",
      "OCCUPATION_TYPE_Sales staff corr: 0.019539441855228788\n",
      "OCCUPATION_TYPE_Secretaries corr: -0.0024514188471093535\n",
      "OCCUPATION_TYPE_Security staff corr: 0.014649456050558729\n",
      "OCCUPATION_TYPE_Waiters/barmen staff corr: 0.007802399764557696\n",
      "OCCUPATION_TYPE_nan corr: -0.03868304139144354\n"
     ]
    }
   ],
   "source": [
    "for column in one_hot_encoded_OCCUPATION_TYPE:\n",
    "    print(\"{} corr: {}\".format(column, prep_train.TARGET.corr(one_hot_encoded_OCCUPATION_TYPE[column])))"
   ]
  },
  {
   "cell_type": "markdown",
   "metadata": {},
   "source": [
    "We decide to add those columns to our dataset and remove the original column OCCUPATION_TYPE. "
   ]
  },
  {
   "cell_type": "code",
   "execution_count": 278,
   "metadata": {},
   "outputs": [],
   "source": [
    "prep_train = pd.concat([prep_train, one_hot_encoded_OCCUPATION_TYPE], axis=1).drop([col_to_analyse], axis=1)"
   ]
  },
  {
   "cell_type": "code",
   "execution_count": 279,
   "metadata": {},
   "outputs": [],
   "source": [
    "one_hot_encoded_OCCUPATION_TYPE_test = pd.get_dummies(prep_test[col_to_analyse], prefix=col_to_analyse, dummy_na = True)"
   ]
  },
  {
   "cell_type": "code",
   "execution_count": 280,
   "metadata": {},
   "outputs": [
    {
     "name": "stdout",
     "output_type": "stream",
     "text": [
      "OCCUPATION_TYPE_Accountants\n",
      "OCCUPATION_TYPE_Cleaning staff\n",
      "OCCUPATION_TYPE_Cooking staff\n",
      "OCCUPATION_TYPE_Core staff\n",
      "OCCUPATION_TYPE_Drivers\n",
      "OCCUPATION_TYPE_HR staff\n",
      "OCCUPATION_TYPE_High skill tech staff\n",
      "OCCUPATION_TYPE_IT staff\n",
      "OCCUPATION_TYPE_Laborers\n",
      "OCCUPATION_TYPE_Low-skill Laborers\n",
      "OCCUPATION_TYPE_Managers\n",
      "OCCUPATION_TYPE_Medicine staff\n",
      "OCCUPATION_TYPE_Private service staff\n",
      "OCCUPATION_TYPE_Realty agents\n",
      "OCCUPATION_TYPE_Sales staff\n",
      "OCCUPATION_TYPE_Secretaries\n",
      "OCCUPATION_TYPE_Security staff\n",
      "OCCUPATION_TYPE_Waiters/barmen staff\n",
      "OCCUPATION_TYPE_nan\n"
     ]
    }
   ],
   "source": [
    "for column in one_hot_encoded_OCCUPATION_TYPE_test:\n",
    "    print(\"{}\".format(column))"
   ]
  },
  {
   "cell_type": "markdown",
   "metadata": {},
   "source": [
    "We decide to add those columns to our dataset and remove the original column OCCUPATION_TYPE. "
   ]
  },
  {
   "cell_type": "code",
   "execution_count": 281,
   "metadata": {},
   "outputs": [],
   "source": [
    "prep_test = pd.concat([prep_test, one_hot_encoded_OCCUPATION_TYPE_test], axis=1).drop([col_to_analyse], axis=1)"
   ]
  },
  {
   "cell_type": "code",
   "execution_count": 282,
   "metadata": {},
   "outputs": [
    {
     "name": "stdout",
     "output_type": "stream",
     "text": [
      "Shape TRAIN: (307504, 160)\n",
      "Shape  TEST: (48744, 159)\n"
     ]
    }
   ],
   "source": [
    "print_data_dimensions(prep_train, prep_test)"
   ]
  },
  {
   "cell_type": "markdown",
   "metadata": {},
   "source": [
    "### CNT_FAM_MEMBERS\n",
    "\n",
    "How many family members does client have.\n",
    "\n",
    "__numeric value__"
   ]
  },
  {
   "cell_type": "code",
   "execution_count": 283,
   "metadata": {},
   "outputs": [],
   "source": [
    "col_to_analyse = 'CNT_FAM_MEMBERS'"
   ]
  },
  {
   "cell_type": "code",
   "execution_count": 284,
   "metadata": {},
   "outputs": [
    {
     "data": {
      "text/plain": [
       "count    307504.000000\n",
       "mean          2.152655\n",
       "std           0.910680\n",
       "min           1.000000\n",
       "25%           2.000000\n",
       "50%           2.000000\n",
       "75%           3.000000\n",
       "max          20.000000\n",
       "Name: CNT_FAM_MEMBERS, dtype: float64"
      ]
     },
     "execution_count": 284,
     "metadata": {},
     "output_type": "execute_result"
    }
   ],
   "source": [
    "prep_train[col_to_analyse].describe()"
   ]
  },
  {
   "cell_type": "code",
   "execution_count": 285,
   "metadata": {},
   "outputs": [
    {
     "data": {
      "text/plain": [
       "<matplotlib.axes._subplots.AxesSubplot at 0x15a0f128>"
      ]
     },
     "execution_count": 285,
     "metadata": {},
     "output_type": "execute_result"
    },
    {
     "data": {
      "image/png": "[encoded data removed]",
      "text/plain": [
       "<Figure size 432x288 with 1 Axes>"
      ]
     },
     "metadata": {},
     "output_type": "display_data"
    }
   ],
   "source": [
    "prep_train[col_to_analyse].plot.hist(bins=30)"
   ]
  },
  {
   "cell_type": "markdown",
   "metadata": {},
   "source": [
    "Show the missing values for train and test data"
   ]
  },
  {
   "cell_type": "code",
   "execution_count": 286,
   "metadata": {},
   "outputs": [
    {
     "name": "stdout",
     "output_type": "stream",
     "text": [
      "Missing Values for CNT_FAM_MEMBERS:\n",
      "prep_train: 0\n",
      "prep_test: 0\n"
     ]
    }
   ],
   "source": [
    "# Show missing values for test dataset\n",
    "print(\"Missing Values for {}:\\nprep_train: {}\\nprep_test: {}\"\n",
    "      .format(col_to_analyse, prep_train[col_to_analyse].isnull().sum(),\n",
    "              prep_test[col_to_analyse].isnull().sum()))"
   ]
  },
  {
   "cell_type": "code",
   "execution_count": 287,
   "metadata": {
    "scrolled": false
   },
   "outputs": [
    {
     "data": {
      "text/plain": [
       "0.009300369225758661"
      ]
     },
     "execution_count": 287,
     "metadata": {},
     "output_type": "execute_result"
    }
   ],
   "source": [
    "prep_train.TARGET.corr(prep_train[col_to_analyse])"
   ]
  },
  {
   "cell_type": "code",
   "execution_count": 288,
   "metadata": {},
   "outputs": [
    {
     "name": "stdout",
     "output_type": "stream",
     "text": [
      "Shape TRAIN: (307504, 160)\n",
      "Shape  TEST: (48744, 159)\n"
     ]
    }
   ],
   "source": [
    "print_data_dimensions(prep_train, prep_test)"
   ]
  },
  {
   "cell_type": "markdown",
   "metadata": {},
   "source": [
    "### REGION_RATING_CLIENT\n",
    "\n",
    "Our rating of the region where client lives (1,2,3).\n",
    "\n",
    "__numeric value__"
   ]
  },
  {
   "cell_type": "code",
   "execution_count": 289,
   "metadata": {},
   "outputs": [],
   "source": [
    "col_to_analyse = 'REGION_RATING_CLIENT'"
   ]
  },
  {
   "cell_type": "code",
   "execution_count": 290,
   "metadata": {},
   "outputs": [
    {
     "data": {
      "text/plain": [
       "2    226978\n",
       "3     48329\n",
       "1     32197\n",
       "Name: REGION_RATING_CLIENT, dtype: int64"
      ]
     },
     "execution_count": 290,
     "metadata": {},
     "output_type": "execute_result"
    }
   ],
   "source": [
    "prep_train[col_to_analyse].value_counts()"
   ]
  },
  {
   "cell_type": "code",
   "execution_count": 291,
   "metadata": {},
   "outputs": [
    {
     "data": {
      "text/plain": [
       "<matplotlib.axes._subplots.AxesSubplot at 0x1b26c198>"
      ]
     },
     "execution_count": 291,
     "metadata": {},
     "output_type": "execute_result"
    },
    {
     "data": {
      "image/png": "[encoded data removed]",
      "text/plain": [
       "<Figure size 432x288 with 1 Axes>"
      ]
     },
     "metadata": {},
     "output_type": "display_data"
    }
   ],
   "source": [
    "prep_train[col_to_analyse].plot.hist(bins=30)"
   ]
  },
  {
   "cell_type": "markdown",
   "metadata": {},
   "source": [
    "Show the missing values for train and test data"
   ]
  },
  {
   "cell_type": "code",
   "execution_count": 292,
   "metadata": {},
   "outputs": [
    {
     "name": "stdout",
     "output_type": "stream",
     "text": [
      "Missing Values for REGION_RATING_CLIENT:\n",
      "prep_train: 0\n",
      "prep_test: 0\n"
     ]
    }
   ],
   "source": [
    "# Show missing values for test dataset\n",
    "print(\"Missing Values for {}:\\nprep_train: {}\\nprep_test: {}\"\n",
    "      .format(col_to_analyse, prep_train[col_to_analyse].isnull().sum(),\n",
    "              prep_test[col_to_analyse].isnull().sum()))"
   ]
  },
  {
   "cell_type": "code",
   "execution_count": 293,
   "metadata": {},
   "outputs": [],
   "source": [
    "one_hot_encoded_REGION_RATING_CLIENT = pd.get_dummies(prep_train[col_to_analyse], prefix=col_to_analyse)"
   ]
  },
  {
   "cell_type": "code",
   "execution_count": 294,
   "metadata": {},
   "outputs": [
    {
     "name": "stdout",
     "output_type": "stream",
     "text": [
      "REGION_RATING_CLIENT_1 corr: -0.04082934987658307\n",
      "REGION_RATING_CLIENT_2 corr: -0.011331896147840142\n",
      "REGION_RATING_CLIENT_3 corr: 0.0480356584500622\n"
     ]
    }
   ],
   "source": [
    "for column in one_hot_encoded_REGION_RATING_CLIENT:\n",
    "    print(\"{} corr: {}\".format(column, application_train.TARGET.corr(one_hot_encoded_REGION_RATING_CLIENT[column])))"
   ]
  },
  {
   "cell_type": "markdown",
   "metadata": {},
   "source": [
    "We decide to add those columns to our dataset and remove the original column REGION_RATING_CLIENT. "
   ]
  },
  {
   "cell_type": "code",
   "execution_count": 295,
   "metadata": {},
   "outputs": [],
   "source": [
    "prep_train = pd.concat([prep_train, one_hot_encoded_REGION_RATING_CLIENT], axis=1).drop([col_to_analyse], axis=1)"
   ]
  },
  {
   "cell_type": "code",
   "execution_count": 296,
   "metadata": {},
   "outputs": [],
   "source": [
    "one_hot_encoded_REGION_RATING_CLIENT_test = pd.get_dummies(prep_test[col_to_analyse], prefix=col_to_analyse)"
   ]
  },
  {
   "cell_type": "code",
   "execution_count": 297,
   "metadata": {},
   "outputs": [
    {
     "name": "stdout",
     "output_type": "stream",
     "text": [
      "REGION_RATING_CLIENT_1\n",
      "REGION_RATING_CLIENT_2\n",
      "REGION_RATING_CLIENT_3\n"
     ]
    }
   ],
   "source": [
    "for column in one_hot_encoded_REGION_RATING_CLIENT_test:\n",
    "    print(\"{}\".format(column))"
   ]
  },
  {
   "cell_type": "markdown",
   "metadata": {},
   "source": [
    "We decide to add those columns to our dataset and remove the original column REGION_RATING_CLIENT. "
   ]
  },
  {
   "cell_type": "code",
   "execution_count": 298,
   "metadata": {},
   "outputs": [],
   "source": [
    "prep_test = pd.concat([prep_test, one_hot_encoded_REGION_RATING_CLIENT_test], axis=1).drop([col_to_analyse], axis=1)"
   ]
  },
  {
   "cell_type": "code",
   "execution_count": 299,
   "metadata": {},
   "outputs": [
    {
     "name": "stdout",
     "output_type": "stream",
     "text": [
      "Shape TRAIN: (307504, 162)\n",
      "Shape  TEST: (48744, 161)\n"
     ]
    }
   ],
   "source": [
    "print_data_dimensions(prep_train, prep_test)"
   ]
  },
  {
   "cell_type": "markdown",
   "metadata": {},
   "source": [
    "### REGION_RATING_CLIENT_W_CITY\n",
    "\n",
    "Our rating of the region where client lives with taking city into account (1,2,3).\n",
    "\n",
    "__numeric value__"
   ]
  },
  {
   "cell_type": "code",
   "execution_count": 300,
   "metadata": {},
   "outputs": [],
   "source": [
    "col_to_analyse = 'REGION_RATING_CLIENT_W_CITY'"
   ]
  },
  {
   "cell_type": "code",
   "execution_count": 301,
   "metadata": {},
   "outputs": [
    {
     "data": {
      "text/plain": [
       "2    229478\n",
       "3     43859\n",
       "1     34167\n",
       "Name: REGION_RATING_CLIENT_W_CITY, dtype: int64"
      ]
     },
     "execution_count": 301,
     "metadata": {},
     "output_type": "execute_result"
    }
   ],
   "source": [
    "prep_train[col_to_analyse].value_counts()"
   ]
  },
  {
   "cell_type": "markdown",
   "metadata": {},
   "source": [
    "Show the missing values for train and test data"
   ]
  },
  {
   "cell_type": "code",
   "execution_count": 302,
   "metadata": {},
   "outputs": [
    {
     "name": "stdout",
     "output_type": "stream",
     "text": [
      "Missing Values for REGION_RATING_CLIENT_W_CITY:\n",
      "prep_train: 0\n",
      "prep_test: 0\n"
     ]
    }
   ],
   "source": [
    "# Show missing values for test dataset\n",
    "print(\"Missing Values for {}:\\nprep_train: {}\\nprep_test: {}\"\n",
    "      .format(col_to_analyse, prep_train[col_to_analyse].isnull().sum(),\n",
    "              prep_test[col_to_analyse].isnull().sum()))"
   ]
  },
  {
   "cell_type": "code",
   "execution_count": 303,
   "metadata": {},
   "outputs": [],
   "source": [
    "one_hot_encoded_REGION_RATING_CLIENT_W_CITY = pd.get_dummies(prep_train[col_to_analyse], prefix=col_to_analyse)"
   ]
  },
  {
   "cell_type": "code",
   "execution_count": 304,
   "metadata": {},
   "outputs": [
    {
     "name": "stdout",
     "output_type": "stream",
     "text": [
      "REGION_RATING_CLIENT_W_CITY_1 corr: -0.04194378961694845\n",
      "REGION_RATING_CLIENT_W_CITY_2 corr: -0.009770719329539325\n",
      "REGION_RATING_CLIENT_W_CITY_3 corr: 0.04985320922054096\n"
     ]
    }
   ],
   "source": [
    "for column in one_hot_encoded_REGION_RATING_CLIENT_W_CITY:\n",
    "    print(\"{} corr: {}\".format(column, prep_train.TARGET.corr(one_hot_encoded_REGION_RATING_CLIENT_W_CITY[column])))"
   ]
  },
  {
   "cell_type": "markdown",
   "metadata": {},
   "source": [
    "We decide to add those columns to our dataset and remove the original column REGION_RATING_CLIENT_W_CITY. "
   ]
  },
  {
   "cell_type": "code",
   "execution_count": 305,
   "metadata": {},
   "outputs": [],
   "source": [
    "prep_train = pd.concat([prep_train, one_hot_encoded_REGION_RATING_CLIENT_W_CITY], axis=1).drop([col_to_analyse], axis=1)"
   ]
  },
  {
   "cell_type": "code",
   "execution_count": 306,
   "metadata": {},
   "outputs": [],
   "source": [
    "one_hot_encoded_REGION_RATING_CLIENT_W_CITY_test = pd.get_dummies(prep_test[col_to_analyse], prefix=col_to_analyse)"
   ]
  },
  {
   "cell_type": "code",
   "execution_count": 307,
   "metadata": {},
   "outputs": [
    {
     "name": "stdout",
     "output_type": "stream",
     "text": [
      "REGION_RATING_CLIENT_W_CITY_-1\n",
      "REGION_RATING_CLIENT_W_CITY_1\n",
      "REGION_RATING_CLIENT_W_CITY_2\n",
      "REGION_RATING_CLIENT_W_CITY_3\n"
     ]
    }
   ],
   "source": [
    "for column in one_hot_encoded_REGION_RATING_CLIENT_W_CITY_test:\n",
    "    print(\"{}\".format(column))"
   ]
  },
  {
   "cell_type": "code",
   "execution_count": 308,
   "metadata": {},
   "outputs": [
    {
     "data": {
      "text/html": [
       "<div>\n",
       "<style scoped>\n",
       "    .dataframe tbody tr th:only-of-type {\n",
       "        vertical-align: middle;\n",
       "    }\n",
       "\n",
       "    .dataframe tbody tr th {\n",
       "        vertical-align: top;\n",
       "    }\n",
       "\n",
       "    .dataframe thead th {\n",
       "        text-align: right;\n",
       "    }\n",
       "</style>\n",
       "<table border=\"1\" class=\"dataframe\">\n",
       "  <thead>\n",
       "    <tr style=\"text-align: right;\">\n",
       "      <th></th>\n",
       "      <th>SK_ID_CURR</th>\n",
       "      <th>NAME_CONTRACT_TYPE</th>\n",
       "      <th>CODE_GENDER</th>\n",
       "      <th>FLAG_OWN_CAR</th>\n",
       "      <th>FLAG_OWN_REALTY</th>\n",
       "      <th>CNT_CHILDREN</th>\n",
       "      <th>AMT_INCOME_TOTAL</th>\n",
       "      <th>AMT_CREDIT</th>\n",
       "      <th>AMT_ANNUITY</th>\n",
       "      <th>AMT_GOODS_PRICE</th>\n",
       "      <th>...</th>\n",
       "      <th>OCCUPATION_TYPE_Private service staff</th>\n",
       "      <th>OCCUPATION_TYPE_Realty agents</th>\n",
       "      <th>OCCUPATION_TYPE_Sales staff</th>\n",
       "      <th>OCCUPATION_TYPE_Secretaries</th>\n",
       "      <th>OCCUPATION_TYPE_Security staff</th>\n",
       "      <th>OCCUPATION_TYPE_Waiters/barmen staff</th>\n",
       "      <th>OCCUPATION_TYPE_nan</th>\n",
       "      <th>REGION_RATING_CLIENT_1</th>\n",
       "      <th>REGION_RATING_CLIENT_2</th>\n",
       "      <th>REGION_RATING_CLIENT_3</th>\n",
       "    </tr>\n",
       "  </thead>\n",
       "  <tbody>\n",
       "    <tr>\n",
       "      <th>17177</th>\n",
       "      <td>224393</td>\n",
       "      <td>0</td>\n",
       "      <td>0</td>\n",
       "      <td>0</td>\n",
       "      <td>0</td>\n",
       "      <td>0</td>\n",
       "      <td>270000.0</td>\n",
       "      <td>385164.0</td>\n",
       "      <td>16321.5</td>\n",
       "      <td>292500.0</td>\n",
       "      <td>...</td>\n",
       "      <td>0</td>\n",
       "      <td>0</td>\n",
       "      <td>0</td>\n",
       "      <td>0</td>\n",
       "      <td>0</td>\n",
       "      <td>0</td>\n",
       "      <td>0</td>\n",
       "      <td>0</td>\n",
       "      <td>1</td>\n",
       "      <td>0</td>\n",
       "    </tr>\n",
       "  </tbody>\n",
       "</table>\n",
       "<p>1 rows × 161 columns</p>\n",
       "</div>"
      ],
      "text/plain": [
       "       SK_ID_CURR  NAME_CONTRACT_TYPE  CODE_GENDER  FLAG_OWN_CAR  \\\n",
       "17177      224393                   0            0             0   \n",
       "\n",
       "       FLAG_OWN_REALTY  CNT_CHILDREN  AMT_INCOME_TOTAL  AMT_CREDIT  \\\n",
       "17177                0             0          270000.0    385164.0   \n",
       "\n",
       "       AMT_ANNUITY  AMT_GOODS_PRICE           ...            \\\n",
       "17177      16321.5         292500.0           ...             \n",
       "\n",
       "       OCCUPATION_TYPE_Private service staff  OCCUPATION_TYPE_Realty agents  \\\n",
       "17177                                      0                              0   \n",
       "\n",
       "       OCCUPATION_TYPE_Sales staff  OCCUPATION_TYPE_Secretaries  \\\n",
       "17177                            0                            0   \n",
       "\n",
       "       OCCUPATION_TYPE_Security staff  OCCUPATION_TYPE_Waiters/barmen staff  \\\n",
       "17177                               0                                     0   \n",
       "\n",
       "       OCCUPATION_TYPE_nan  REGION_RATING_CLIENT_1  REGION_RATING_CLIENT_2  \\\n",
       "17177                    0                       0                       1   \n",
       "\n",
       "       REGION_RATING_CLIENT_3  \n",
       "17177                       0  \n",
       "\n",
       "[1 rows x 161 columns]"
      ]
     },
     "execution_count": 308,
     "metadata": {},
     "output_type": "execute_result"
    }
   ],
   "source": [
    "prep_test[prep_test[col_to_analyse] == -1]"
   ]
  },
  {
   "cell_type": "markdown",
   "metadata": {},
   "source": [
    "We have one entry in the test data which has a value of -1. This probably means the information was not given. We decide to encode the unknown value as zero for the other columns.  "
   ]
  },
  {
   "cell_type": "code",
   "execution_count": 309,
   "metadata": {},
   "outputs": [],
   "source": [
    "one_hot_encoded_REGION_RATING_CLIENT_W_CITY_test.drop(\"REGION_RATING_CLIENT_W_CITY_-1\", axis=1, inplace = True)"
   ]
  },
  {
   "cell_type": "code",
   "execution_count": 310,
   "metadata": {},
   "outputs": [],
   "source": [
    "prep_test = pd.concat([prep_test, one_hot_encoded_REGION_RATING_CLIENT_W_CITY_test], axis=1).drop([col_to_analyse], axis=1)"
   ]
  },
  {
   "cell_type": "code",
   "execution_count": 311,
   "metadata": {},
   "outputs": [
    {
     "name": "stdout",
     "output_type": "stream",
     "text": [
      "Shape TRAIN: (307504, 164)\n",
      "Shape  TEST: (48744, 163)\n"
     ]
    }
   ],
   "source": [
    "print_data_dimensions(prep_train, prep_test)"
   ]
  },
  {
   "cell_type": "markdown",
   "metadata": {},
   "source": [
    "### WEEKDAY_APPR_PROCESS_START\n",
    "\n",
    "On which day of the week did the client apply for the loan.\n",
    "\n",
    "__categorical values__"
   ]
  },
  {
   "cell_type": "code",
   "execution_count": 312,
   "metadata": {},
   "outputs": [],
   "source": [
    "col_to_analyse = 'WEEKDAY_APPR_PROCESS_START'"
   ]
  },
  {
   "cell_type": "code",
   "execution_count": 313,
   "metadata": {},
   "outputs": [
    {
     "data": {
      "text/plain": [
       "TUESDAY      53899\n",
       "WEDNESDAY    51934\n",
       "MONDAY       50714\n",
       "THURSDAY     50589\n",
       "FRIDAY       50335\n",
       "SATURDAY     33852\n",
       "SUNDAY       16181\n",
       "Name: WEEKDAY_APPR_PROCESS_START, dtype: int64"
      ]
     },
     "execution_count": 313,
     "metadata": {},
     "output_type": "execute_result"
    }
   ],
   "source": [
    "prep_train[col_to_analyse].value_counts()"
   ]
  },
  {
   "cell_type": "markdown",
   "metadata": {},
   "source": [
    "Show the missing values for train and test data"
   ]
  },
  {
   "cell_type": "code",
   "execution_count": 314,
   "metadata": {},
   "outputs": [
    {
     "name": "stdout",
     "output_type": "stream",
     "text": [
      "Missing Values for WEEKDAY_APPR_PROCESS_START:\n",
      "prep_train: 0\n",
      "prep_test: 0\n"
     ]
    }
   ],
   "source": [
    "# Show missing values for test dataset\n",
    "print(\"Missing Values for {}:\\nprep_train: {}\\nprep_test: {}\"\n",
    "      .format(col_to_analyse, prep_train[col_to_analyse].isnull().sum(),\n",
    "              prep_test[col_to_analyse].isnull().sum()))"
   ]
  },
  {
   "cell_type": "code",
   "execution_count": 315,
   "metadata": {},
   "outputs": [],
   "source": [
    "one_hot_encoded_WEEKDAY_APPR_PROCESS_START = pd.get_dummies(prep_train[col_to_analyse], prefix=col_to_analyse)"
   ]
  },
  {
   "cell_type": "code",
   "execution_count": 316,
   "metadata": {},
   "outputs": [
    {
     "name": "stdout",
     "output_type": "stream",
     "text": [
      "WEEKDAY_APPR_PROCESS_START_FRIDAY corr: 0.0012126900457715983\n",
      "WEEKDAY_APPR_PROCESS_START_MONDAY corr: -0.005147074683283934\n",
      "WEEKDAY_APPR_PROCESS_START_SATURDAY corr: -0.00239455974923191\n",
      "WEEKDAY_APPR_PROCESS_START_SUNDAY corr: -0.0012430909682605838\n",
      "WEEKDAY_APPR_PROCESS_START_THURSDAY corr: 0.0004534060516787676\n",
      "WEEKDAY_APPR_PROCESS_START_TUESDAY corr: 0.004674290981758656\n",
      "WEEKDAY_APPR_PROCESS_START_WEDNESDAY corr: 0.001449859703374999\n"
     ]
    }
   ],
   "source": [
    "for column in one_hot_encoded_WEEKDAY_APPR_PROCESS_START:\n",
    "    print(\"{} corr: {}\".format(column, application_train.TARGET.corr(one_hot_encoded_WEEKDAY_APPR_PROCESS_START[column])))"
   ]
  },
  {
   "cell_type": "markdown",
   "metadata": {},
   "source": [
    "We want to see how a seperation in week and weekend corralates with the target. "
   ]
  },
  {
   "cell_type": "code",
   "execution_count": 317,
   "metadata": {},
   "outputs": [],
   "source": [
    "new_week_col = prep_train.copy()\n",
    "new_week_col.loc[(prep_train[col_to_analyse] != \"SATURDAY\") & (prep_train[col_to_analyse] != \"SUNDAY\"), col_to_analyse] = 1"
   ]
  },
  {
   "cell_type": "code",
   "execution_count": 318,
   "metadata": {},
   "outputs": [],
   "source": [
    "new_week_col.loc[(prep_train[col_to_analyse] == \"SATURDAY\") | (prep_train[col_to_analyse] == \"SUNDAY\"), col_to_analyse] = 0"
   ]
  },
  {
   "cell_type": "code",
   "execution_count": 319,
   "metadata": {},
   "outputs": [
    {
     "data": {
      "text/plain": [
       "0.0027825716589323733"
      ]
     },
     "execution_count": 319,
     "metadata": {},
     "output_type": "execute_result"
    }
   ],
   "source": [
    "new_week_col.TARGET.corr(new_week_col[col_to_analyse])"
   ]
  },
  {
   "cell_type": "markdown",
   "metadata": {},
   "source": [
    "There's really a very low correlation for this feature. There's also no logical reason for this feature to have some importance on the TARGET. Since we have already a very high amount of features (even without taking the other files in count) we decided to just ad-hoc remove this feautre for now. We should analyse later if it haves any negative effect on the score."
   ]
  },
  {
   "cell_type": "code",
   "execution_count": 320,
   "metadata": {},
   "outputs": [],
   "source": [
    "# Use this line to add the new feature\n",
    "# prep_train = pd.concat([prep_train, one_hot_encoded_WEEKDAY_APPR_PROCESS_START], axis=1).drop([col_to_analyse], axis=1)"
   ]
  },
  {
   "cell_type": "code",
   "execution_count": 321,
   "metadata": {},
   "outputs": [],
   "source": [
    "# drop column\n",
    "prep_train.drop(columns=[col_to_analyse], inplace=True)\n",
    "prep_test.drop(columns=[col_to_analyse], inplace=True)"
   ]
  },
  {
   "cell_type": "code",
   "execution_count": 322,
   "metadata": {},
   "outputs": [
    {
     "name": "stdout",
     "output_type": "stream",
     "text": [
      "Shape TRAIN: (307504, 163)\n",
      "Shape  TEST: (48744, 162)\n"
     ]
    }
   ],
   "source": [
    "print_data_dimensions(prep_train, prep_test)"
   ]
  },
  {
   "cell_type": "markdown",
   "metadata": {},
   "source": [
    "### HOUR_APPR_PROCESS_START\n",
    "\n",
    "Approximately at what hour did the client apply for the loan"
   ]
  },
  {
   "cell_type": "code",
   "execution_count": 323,
   "metadata": {},
   "outputs": [],
   "source": [
    "col_to_analyse = 'HOUR_APPR_PROCESS_START'"
   ]
  },
  {
   "cell_type": "markdown",
   "metadata": {},
   "source": [
    "Show the missing values for train and test data"
   ]
  },
  {
   "cell_type": "code",
   "execution_count": 324,
   "metadata": {},
   "outputs": [
    {
     "name": "stdout",
     "output_type": "stream",
     "text": [
      "Missing Values for HOUR_APPR_PROCESS_START:\n",
      "prep_train: 0\n",
      "prep_test: 0\n"
     ]
    }
   ],
   "source": [
    "# Show missing values for test dataset\n",
    "print(\"Missing Values for {}:\\nprep_train: {}\\nprep_test: {}\"\n",
    "      .format(col_to_analyse, prep_train[col_to_analyse].isnull().sum(),\n",
    "              prep_test[col_to_analyse].isnull().sum()))"
   ]
  },
  {
   "cell_type": "markdown",
   "metadata": {},
   "source": [
    "We take basically the same argumentation as above to drop this feature"
   ]
  },
  {
   "cell_type": "code",
   "execution_count": 325,
   "metadata": {},
   "outputs": [],
   "source": [
    "prep_train.drop(columns=[col_to_analyse], inplace=True)\n",
    "prep_test.drop(columns=[col_to_analyse], inplace=True)"
   ]
  },
  {
   "cell_type": "code",
   "execution_count": 326,
   "metadata": {},
   "outputs": [
    {
     "name": "stdout",
     "output_type": "stream",
     "text": [
      "Shape TRAIN: (307504, 162)\n",
      "Shape  TEST: (48744, 161)\n"
     ]
    }
   ],
   "source": [
    "print_data_dimensions(prep_train, prep_test)"
   ]
  },
  {
   "cell_type": "markdown",
   "metadata": {},
   "source": [
    "### Flags - REG_REGION_NOT_LIVE_REGION, REG_REGION_NOT_LIVE_REGION ,REG_REGION_NOT_WORK_REGION, LIVE_REGION_NOT_WORK_REGION, REG_CITY_NOT_LIVE_CITY, REG_CITY_NOT_WORK_CITY, LIVE_CITY_NOT_WORK_CITY\n",
    "\n",
    "Flag if client's permanent address does not match contact address (1=different, 0=same, at region level)"
   ]
  },
  {
   "cell_type": "code",
   "execution_count": 327,
   "metadata": {},
   "outputs": [],
   "source": [
    "col_to_analyse = ['REG_REGION_NOT_LIVE_REGION',\n",
    "                  'REG_REGION_NOT_WORK_REGION',\n",
    "                  'LIVE_REGION_NOT_WORK_REGION',\n",
    "                  'REG_CITY_NOT_LIVE_CITY',\n",
    "                  'REG_CITY_NOT_WORK_CITY',\n",
    "                  'LIVE_CITY_NOT_WORK_CITY']"
   ]
  },
  {
   "cell_type": "code",
   "execution_count": 328,
   "metadata": {},
   "outputs": [
    {
     "name": "stdout",
     "output_type": "stream",
     "text": [
      "REG_REGION_NOT_LIVE_REGION\n",
      "0    302847\n",
      "1      4657\n",
      "Name: REG_REGION_NOT_LIVE_REGION, dtype: int64\n",
      "------------------------------\n",
      "REG_REGION_NOT_WORK_REGION\n",
      "0    291893\n",
      "1     15611\n",
      "Name: REG_REGION_NOT_WORK_REGION, dtype: int64\n",
      "------------------------------\n",
      "LIVE_REGION_NOT_WORK_REGION\n",
      "0    295002\n",
      "1     12502\n",
      "Name: LIVE_REGION_NOT_WORK_REGION, dtype: int64\n",
      "------------------------------\n",
      "REG_CITY_NOT_LIVE_CITY\n",
      "0    283465\n",
      "1     24039\n",
      "Name: REG_CITY_NOT_LIVE_CITY, dtype: int64\n",
      "------------------------------\n",
      "REG_CITY_NOT_WORK_CITY\n",
      "0    236638\n",
      "1     70866\n",
      "Name: REG_CITY_NOT_WORK_CITY, dtype: int64\n",
      "------------------------------\n",
      "LIVE_CITY_NOT_WORK_CITY\n",
      "0    252290\n",
      "1     55214\n",
      "Name: LIVE_CITY_NOT_WORK_CITY, dtype: int64\n",
      "------------------------------\n"
     ]
    }
   ],
   "source": [
    "# show present values of features\n",
    "for col in col_to_analyse:\n",
    "    print(\"{}\".format(col))\n",
    "    print(\"{}\".format(prep_train[col].value_counts()))\n",
    "    print(\"------------------------------\")"
   ]
  },
  {
   "cell_type": "markdown",
   "metadata": {},
   "source": [
    "All columns are binary!"
   ]
  },
  {
   "cell_type": "markdown",
   "metadata": {},
   "source": [
    "Show the missing values for train and test data"
   ]
  },
  {
   "cell_type": "code",
   "execution_count": 329,
   "metadata": {},
   "outputs": [
    {
     "name": "stdout",
     "output_type": "stream",
     "text": [
      "Missing Values for REG_REGION_NOT_LIVE_REGION:\n",
      "prep_train: 0\n",
      "prep_test: 0\n",
      "------------------------------\n",
      "Missing Values for REG_REGION_NOT_WORK_REGION:\n",
      "prep_train: 0\n",
      "prep_test: 0\n",
      "------------------------------\n",
      "Missing Values for LIVE_REGION_NOT_WORK_REGION:\n",
      "prep_train: 0\n",
      "prep_test: 0\n",
      "------------------------------\n",
      "Missing Values for REG_CITY_NOT_LIVE_CITY:\n",
      "prep_train: 0\n",
      "prep_test: 0\n",
      "------------------------------\n",
      "Missing Values for REG_CITY_NOT_WORK_CITY:\n",
      "prep_train: 0\n",
      "prep_test: 0\n",
      "------------------------------\n",
      "Missing Values for LIVE_CITY_NOT_WORK_CITY:\n",
      "prep_train: 0\n",
      "prep_test: 0\n",
      "------------------------------\n"
     ]
    }
   ],
   "source": [
    "# Show missing values for test dataset\n",
    "for col in col_to_analyse:\n",
    "    print(\"Missing Values for {}:\\nprep_train: {}\\nprep_test: {}\"\n",
    "          .format(col, prep_train[col].isnull().sum(),\n",
    "                  prep_test[col].isnull().sum()))\n",
    "    print(\"------------------------------\")"
   ]
  },
  {
   "cell_type": "markdown",
   "metadata": {},
   "source": [
    "No missing values for the feature. No work needed fo this features."
   ]
  },
  {
   "cell_type": "code",
   "execution_count": 330,
   "metadata": {},
   "outputs": [
    {
     "name": "stdout",
     "output_type": "stream",
     "text": [
      "Shape TRAIN: (307504, 162)\n",
      "Shape  TEST: (48744, 161)\n"
     ]
    }
   ],
   "source": [
    "print_data_dimensions(prep_train, prep_test)"
   ]
  },
  {
   "cell_type": "markdown",
   "metadata": {},
   "source": [
    "### ORGANIZATION_TYPE\n",
    "\n",
    "Type of organization where client works"
   ]
  },
  {
   "cell_type": "code",
   "execution_count": 331,
   "metadata": {},
   "outputs": [],
   "source": [
    "col_to_analyse = 'ORGANIZATION_TYPE'"
   ]
  },
  {
   "cell_type": "markdown",
   "metadata": {},
   "source": [
    "Show the missing values for train and test data."
   ]
  },
  {
   "cell_type": "code",
   "execution_count": 332,
   "metadata": {},
   "outputs": [
    {
     "name": "stdout",
     "output_type": "stream",
     "text": [
      "Missing Values for ORGANIZATION_TYPE:\n",
      "prep_train: 0\n",
      "prep_test: 0\n"
     ]
    }
   ],
   "source": [
    "# Show missing values for test dataset\n",
    "print(\"Missing Values for {}:\\nprep_train: {}\\nprep_test: {}\"\n",
    "      .format(col_to_analyse, prep_train[col_to_analyse].isnull().sum(),\n",
    "              prep_test[col_to_analyse].isnull().sum()))"
   ]
  },
  {
   "cell_type": "code",
   "execution_count": 333,
   "metadata": {},
   "outputs": [
    {
     "data": {
      "text/plain": [
       "Business Entity Type 3    67991\n",
       "XNA                       55374\n",
       "Self-employed             38412\n",
       "Other                     16683\n",
       "Medicine                  11192\n",
       "Business Entity Type 2    10552\n",
       "Government                10404\n",
       "School                     8893\n",
       "Trade: type 7              7831\n",
       "Kindergarten               6879\n",
       "Construction               6721\n",
       "Business Entity Type 1     5983\n",
       "Transport: type 4          5398\n",
       "Trade: type 3              3492\n",
       "Industry: type 9           3368\n",
       "Industry: type 3           3277\n",
       "Security                   3247\n",
       "Housing                    2958\n",
       "Industry: type 11          2704\n",
       "Military                   2634\n",
       "Bank                       2507\n",
       "Agriculture                2454\n",
       "Police                     2341\n",
       "Transport: type 2          2204\n",
       "Postal                     2157\n",
       "Security Ministries        1974\n",
       "Trade: type 2              1900\n",
       "Restaurant                 1811\n",
       "Services                   1575\n",
       "University                 1327\n",
       "Industry: type 7           1307\n",
       "Transport: type 3          1187\n",
       "Industry: type 1           1039\n",
       "Hotel                       966\n",
       "Electricity                 950\n",
       "Industry: type 4            877\n",
       "Trade: type 6               631\n",
       "Industry: type 5            599\n",
       "Insurance                   596\n",
       "Telecom                     577\n",
       "Emergency                   560\n",
       "Industry: type 2            458\n",
       "Advertising                 429\n",
       "Realtor                     396\n",
       "Culture                     379\n",
       "Industry: type 12           369\n",
       "Trade: type 1               348\n",
       "Mobile                      317\n",
       "Legal Services              305\n",
       "Cleaning                    260\n",
       "Transport: type 1           201\n",
       "Industry: type 6            112\n",
       "Industry: type 10           109\n",
       "Religion                     85\n",
       "Industry: type 13            67\n",
       "Trade: type 4                64\n",
       "Trade: type 5                49\n",
       "Industry: type 8             24\n",
       "Name: ORGANIZATION_TYPE, dtype: int64"
      ]
     },
     "execution_count": 333,
     "metadata": {},
     "output_type": "execute_result"
    }
   ],
   "source": [
    "prep_train[col_to_analyse].value_counts()"
   ]
  },
  {
   "cell_type": "code",
   "execution_count": 334,
   "metadata": {},
   "outputs": [
    {
     "data": {
      "text/plain": [
       "(58,)"
      ]
     },
     "execution_count": 334,
     "metadata": {},
     "output_type": "execute_result"
    }
   ],
   "source": [
    "prep_train[col_to_analyse].value_counts().shape"
   ]
  },
  {
   "cell_type": "markdown",
   "metadata": {},
   "source": [
    "There's a lot of categories for this feature (total of 58). We can see that a category is represented by various types. We could do one-hot-enconding, but this would add a lot of dimensions to our data... So first let's see what the correlation of each category is."
   ]
  },
  {
   "cell_type": "code",
   "execution_count": 335,
   "metadata": {},
   "outputs": [],
   "source": [
    "one_hot_encoded_ORGANIZATION_TYPE = pd.get_dummies(prep_train[col_to_analyse], prefix=col_to_analyse)"
   ]
  },
  {
   "cell_type": "code",
   "execution_count": 336,
   "metadata": {},
   "outputs": [
    {
     "name": "stdout",
     "output_type": "stream",
     "text": [
      "ORGANIZATION_TYPE_Advertising corr: 0.00011767852856641196\n",
      "ORGANIZATION_TYPE_Agriculture corr: 0.007901737416163975\n",
      "ORGANIZATION_TYPE_Bank corr: -0.009609097579105127\n",
      "ORGANIZATION_TYPE_Business Entity Type 1 corr: 0.000346393486475668\n",
      "ORGANIZATION_TYPE_Business Entity Type 2 corr: 0.003158516636295332\n",
      "ORGANIZATION_TYPE_Business Entity Type 3 corr: 0.023969511463521345\n",
      "ORGANIZATION_TYPE_Cleaning corr: 0.003290174287291313\n",
      "ORGANIZATION_TYPE_Construction corr: 0.019793021912756066\n",
      "ORGANIZATION_TYPE_Culture corr: -0.003264872384943765\n",
      "ORGANIZATION_TYPE_Electricity corr: -0.002945020542505442\n",
      "ORGANIZATION_TYPE_Emergency corr: -0.0014580092155974974\n",
      "ORGANIZATION_TYPE_Government corr: -0.00751957894920703\n",
      "ORGANIZATION_TYPE_Hotel corr: -0.003409463524954041\n",
      "ORGANIZATION_TYPE_Housing corr: -0.0004637369639769764\n",
      "ORGANIZATION_TYPE_Industry: type 1 corr: 0.006402766915092236\n",
      "ORGANIZATION_TYPE_Industry: type 10 corr: -0.0011410539533094719\n",
      "ORGANIZATION_TYPE_Industry: type 11 corr: 0.0020091774591303986\n",
      "ORGANIZATION_TYPE_Industry: type 12 corr: -0.005444123562513327\n",
      "ORGANIZATION_TYPE_Industry: type 13 corr: 0.002904686009896335\n",
      "ORGANIZATION_TYPE_Industry: type 2 corr: -0.001229894951310935\n",
      "ORGANIZATION_TYPE_Industry: type 3 corr: 0.00970262709145593\n",
      "ORGANIZATION_TYPE_Industry: type 4 corr: 0.00407458169624605\n",
      "ORGANIZATION_TYPE_Industry: type 5 corr: -0.001991484308796746\n",
      "ORGANIZATION_TYPE_Industry: type 6 corr: -0.0006515662203394769\n",
      "ORGANIZATION_TYPE_Industry: type 7 corr: -9.371534924304003e-05\n",
      "ORGANIZATION_TYPE_Industry: type 8 corr: 0.0014358183795144747\n",
      "ORGANIZATION_TYPE_Industry: type 9 corr: -0.005378073122637327\n",
      "ORGANIZATION_TYPE_Insurance corr: -0.0038306799652937135\n",
      "ORGANIZATION_TYPE_Kindergarten corr: -0.00575740448307224\n",
      "ORGANIZATION_TYPE_Legal Services corr: -0.00023583005776278145\n",
      "ORGANIZATION_TYPE_Medicine corr: -0.010613436648437918\n",
      "ORGANIZATION_TYPE_Military corr: -0.010056924385391542\n",
      "ORGANIZATION_TYPE_Mobile corr: 0.0012682820799828304\n",
      "ORGANIZATION_TYPE_Other corr: -0.003782617343832062\n",
      "ORGANIZATION_TYPE_Police corr: -0.009886208669351144\n",
      "ORGANIZATION_TYPE_Postal corr: 0.0011258347334551179\n",
      "ORGANIZATION_TYPE_Realtor corr: 0.0033393307906794526\n",
      "ORGANIZATION_TYPE_Religion corr: -0.0013370031312594998\n",
      "ORGANIZATION_TYPE_Restaurant corr: 0.010266180256147566\n",
      "ORGANIZATION_TYPE_School corr: -0.013670525888221508\n",
      "ORGANIZATION_TYPE_Security corr: 0.007226749336392891\n",
      "ORGANIZATION_TYPE_Security Ministries corr: -0.009470085330897274\n",
      "ORGANIZATION_TYPE_Self-employed corr: 0.029141389496089777\n",
      "ORGANIZATION_TYPE_Services corr: -0.0038706720143888177\n",
      "ORGANIZATION_TYPE_Telecom corr: -0.0007115955915660169\n",
      "ORGANIZATION_TYPE_Trade: type 1 corr: 0.0010321023983909906\n",
      "ORGANIZATION_TYPE_Trade: type 2 corr: -0.003104983625927118\n",
      "ORGANIZATION_TYPE_Trade: type 3 corr: 0.008911705101759588\n",
      "ORGANIZATION_TYPE_Trade: type 4 corr: -0.0026204993915204763\n",
      "ORGANIZATION_TYPE_Trade: type 5 corr: -0.0009038037586395071\n",
      "ORGANIZATION_TYPE_Trade: type 6 corr: -0.0057874867614600865\n",
      "ORGANIZATION_TYPE_Trade: type 7 corr: 0.008170509096897852\n",
      "ORGANIZATION_TYPE_Transport: type 1 corr: -0.0033751758328342744\n",
      "ORGANIZATION_TYPE_Transport: type 2 corr: -0.0008382134396731637\n",
      "ORGANIZATION_TYPE_Transport: type 3 corr: 0.017552528544087738\n",
      "ORGANIZATION_TYPE_Transport: type 4 corr: 0.005929822469661212\n",
      "ORGANIZATION_TYPE_University corr: -0.007671640916136676\n",
      "ORGANIZATION_TYPE_XNA corr: -0.04598565123318769\n"
     ]
    }
   ],
   "source": [
    "for column in one_hot_encoded_ORGANIZATION_TYPE:\n",
    "    print(\"{} corr: {}\".format(column, application_train.TARGET.corr(one_hot_encoded_ORGANIZATION_TYPE[column])))"
   ]
  },
  {
   "cell_type": "code",
   "execution_count": 337,
   "metadata": {},
   "outputs": [],
   "source": [
    "prep_train = pd.concat([prep_train, one_hot_encoded_ORGANIZATION_TYPE], axis=1).drop([col_to_analyse], axis=1)"
   ]
  },
  {
   "cell_type": "code",
   "execution_count": 338,
   "metadata": {},
   "outputs": [],
   "source": [
    "one_hot_encoded_ORGANIZATION_TYPE_test = pd.get_dummies(prep_test[col_to_analyse], prefix=col_to_analyse)"
   ]
  },
  {
   "cell_type": "code",
   "execution_count": 339,
   "metadata": {},
   "outputs": [
    {
     "name": "stdout",
     "output_type": "stream",
     "text": [
      "ORGANIZATION_TYPE_Advertising\n",
      "ORGANIZATION_TYPE_Agriculture\n",
      "ORGANIZATION_TYPE_Bank\n",
      "ORGANIZATION_TYPE_Business Entity Type 1\n",
      "ORGANIZATION_TYPE_Business Entity Type 2\n",
      "ORGANIZATION_TYPE_Business Entity Type 3\n",
      "ORGANIZATION_TYPE_Cleaning\n",
      "ORGANIZATION_TYPE_Construction\n",
      "ORGANIZATION_TYPE_Culture\n",
      "ORGANIZATION_TYPE_Electricity\n",
      "ORGANIZATION_TYPE_Emergency\n",
      "ORGANIZATION_TYPE_Government\n",
      "ORGANIZATION_TYPE_Hotel\n",
      "ORGANIZATION_TYPE_Housing\n",
      "ORGANIZATION_TYPE_Industry: type 1\n",
      "ORGANIZATION_TYPE_Industry: type 10\n",
      "ORGANIZATION_TYPE_Industry: type 11\n",
      "ORGANIZATION_TYPE_Industry: type 12\n",
      "ORGANIZATION_TYPE_Industry: type 13\n",
      "ORGANIZATION_TYPE_Industry: type 2\n",
      "ORGANIZATION_TYPE_Industry: type 3\n",
      "ORGANIZATION_TYPE_Industry: type 4\n",
      "ORGANIZATION_TYPE_Industry: type 5\n",
      "ORGANIZATION_TYPE_Industry: type 6\n",
      "ORGANIZATION_TYPE_Industry: type 7\n",
      "ORGANIZATION_TYPE_Industry: type 8\n",
      "ORGANIZATION_TYPE_Industry: type 9\n",
      "ORGANIZATION_TYPE_Insurance\n",
      "ORGANIZATION_TYPE_Kindergarten\n",
      "ORGANIZATION_TYPE_Legal Services\n",
      "ORGANIZATION_TYPE_Medicine\n",
      "ORGANIZATION_TYPE_Military\n",
      "ORGANIZATION_TYPE_Mobile\n",
      "ORGANIZATION_TYPE_Other\n",
      "ORGANIZATION_TYPE_Police\n",
      "ORGANIZATION_TYPE_Postal\n",
      "ORGANIZATION_TYPE_Realtor\n",
      "ORGANIZATION_TYPE_Religion\n",
      "ORGANIZATION_TYPE_Restaurant\n",
      "ORGANIZATION_TYPE_School\n",
      "ORGANIZATION_TYPE_Security\n",
      "ORGANIZATION_TYPE_Security Ministries\n",
      "ORGANIZATION_TYPE_Self-employed\n",
      "ORGANIZATION_TYPE_Services\n",
      "ORGANIZATION_TYPE_Telecom\n",
      "ORGANIZATION_TYPE_Trade: type 1\n",
      "ORGANIZATION_TYPE_Trade: type 2\n",
      "ORGANIZATION_TYPE_Trade: type 3\n",
      "ORGANIZATION_TYPE_Trade: type 4\n",
      "ORGANIZATION_TYPE_Trade: type 5\n",
      "ORGANIZATION_TYPE_Trade: type 6\n",
      "ORGANIZATION_TYPE_Trade: type 7\n",
      "ORGANIZATION_TYPE_Transport: type 1\n",
      "ORGANIZATION_TYPE_Transport: type 2\n",
      "ORGANIZATION_TYPE_Transport: type 3\n",
      "ORGANIZATION_TYPE_Transport: type 4\n",
      "ORGANIZATION_TYPE_University\n",
      "ORGANIZATION_TYPE_XNA\n"
     ]
    }
   ],
   "source": [
    "for column in one_hot_encoded_ORGANIZATION_TYPE_test:\n",
    "    print(\"{}\".format(column))"
   ]
  },
  {
   "cell_type": "code",
   "execution_count": 340,
   "metadata": {},
   "outputs": [],
   "source": [
    "prep_test = pd.concat([prep_test, one_hot_encoded_ORGANIZATION_TYPE_test], axis=1).drop([col_to_analyse], axis=1)"
   ]
  },
  {
   "cell_type": "code",
   "execution_count": 341,
   "metadata": {},
   "outputs": [
    {
     "name": "stdout",
     "output_type": "stream",
     "text": [
      "Shape TRAIN: (307504, 219)\n",
      "Shape  TEST: (48744, 218)\n"
     ]
    }
   ],
   "source": [
    "print_data_dimensions(prep_train, prep_test)"
   ]
  },
  {
   "cell_type": "markdown",
   "metadata": {},
   "source": [
    "### EXT_SOURCE_1\n",
    "\n",
    "Normalized score from external data source.\n",
    "\n",
    "__numeric value__"
   ]
  },
  {
   "cell_type": "code",
   "execution_count": 342,
   "metadata": {},
   "outputs": [],
   "source": [
    "col_to_analyse = 'EXT_SOURCE_1'"
   ]
  },
  {
   "cell_type": "code",
   "execution_count": 343,
   "metadata": {},
   "outputs": [
    {
     "data": {
      "text/plain": [
       "count    134129.000000\n",
       "mean          0.502129\n",
       "std           0.211065\n",
       "min           0.014568\n",
       "25%           0.334007\n",
       "50%           0.505998\n",
       "75%           0.675062\n",
       "max           0.962693\n",
       "Name: EXT_SOURCE_1, dtype: float64"
      ]
     },
     "execution_count": 343,
     "metadata": {},
     "output_type": "execute_result"
    }
   ],
   "source": [
    "prep_train[col_to_analyse].describe()"
   ]
  },
  {
   "cell_type": "code",
   "execution_count": 344,
   "metadata": {},
   "outputs": [
    {
     "data": {
      "text/plain": [
       "<matplotlib.axes._subplots.AxesSubplot at 0x1b91a630>"
      ]
     },
     "execution_count": 344,
     "metadata": {},
     "output_type": "execute_result"
    },
    {
     "data": {
      "image/png": "[encoded data removed]",
      "text/plain": [
       "<Figure size 432x288 with 1 Axes>"
      ]
     },
     "metadata": {},
     "output_type": "display_data"
    }
   ],
   "source": [
    "prep_train[col_to_analyse].plot.hist(bins=30)"
   ]
  },
  {
   "cell_type": "markdown",
   "metadata": {},
   "source": [
    "Show the missing values for train and test data"
   ]
  },
  {
   "cell_type": "code",
   "execution_count": 345,
   "metadata": {},
   "outputs": [
    {
     "name": "stdout",
     "output_type": "stream",
     "text": [
      "Missing Values for EXT_SOURCE_1:\n",
      "prep_train: 173375\n",
      "prep_test: 20532\n"
     ]
    }
   ],
   "source": [
    "# Show missing values for test dataset\n",
    "print(\"Missing Values for {}:\\nprep_train: {}\\nprep_test: {}\"\n",
    "      .format(col_to_analyse, prep_train[col_to_analyse].isnull().sum(),\n",
    "              prep_test[col_to_analyse].isnull().sum()))"
   ]
  },
  {
   "cell_type": "code",
   "execution_count": 346,
   "metadata": {},
   "outputs": [
    {
     "data": {
      "text/plain": [
       "56.38138040480774"
      ]
     },
     "execution_count": 346,
     "metadata": {},
     "output_type": "execute_result"
    }
   ],
   "source": [
    "(prep_train[col_to_analyse].isnull().sum() / prep_train.shape[0]) * 100"
   ]
  },
  {
   "cell_type": "markdown",
   "metadata": {},
   "source": [
    "There are around 56.4% missing values for this column, This is why we want to try different methods to fill the missing values and evaluate the change of the correlation with the TARGET."
   ]
  },
  {
   "cell_type": "code",
   "execution_count": 347,
   "metadata": {},
   "outputs": [
    {
     "data": {
      "text/plain": [
       "-0.1553181218111595"
      ]
     },
     "execution_count": 347,
     "metadata": {},
     "output_type": "execute_result"
    }
   ],
   "source": [
    "prep_train.TARGET.corr(prep_train[col_to_analyse])"
   ]
  },
  {
   "cell_type": "code",
   "execution_count": 348,
   "metadata": {},
   "outputs": [
    {
     "data": {
      "text/plain": [
       "Imputer(axis=0, copy=True, missing_values='NaN', strategy='most_frequent',\n",
       "    verbose=0)"
      ]
     },
     "execution_count": 348,
     "metadata": {},
     "output_type": "execute_result"
    }
   ],
   "source": [
    "from sklearn.preprocessing import Imputer\n",
    "\n",
    "imp = Imputer(strategy='most_frequent')\n",
    "imp.fit(prep_train[[col_to_analyse]])"
   ]
  },
  {
   "cell_type": "code",
   "execution_count": 349,
   "metadata": {},
   "outputs": [
    {
     "data": {
      "text/plain": [
       "0.0012469103888293424"
      ]
     },
     "execution_count": 349,
     "metadata": {},
     "output_type": "execute_result"
    }
   ],
   "source": [
    "test_corr_most_frequent = imp.transform(prep_train[[col_to_analyse]]).ravel()\n",
    "prep_train.TARGET.corr(pd.Series(test_corr_most_frequent))"
   ]
  },
  {
   "cell_type": "code",
   "execution_count": 350,
   "metadata": {},
   "outputs": [
    {
     "data": {
      "text/plain": [
       "Imputer(axis=0, copy=True, missing_values='NaN', strategy='median', verbose=0)"
      ]
     },
     "execution_count": 350,
     "metadata": {},
     "output_type": "execute_result"
    }
   ],
   "source": [
    "imp = Imputer(strategy='median')\n",
    "imp.fit(prep_train[[col_to_analyse]])"
   ]
  },
  {
   "cell_type": "code",
   "execution_count": 351,
   "metadata": {},
   "outputs": [
    {
     "data": {
      "text/plain": [
       "0.0018194919375920744"
      ]
     },
     "execution_count": 351,
     "metadata": {},
     "output_type": "execute_result"
    }
   ],
   "source": [
    "test_corr_median = imp.transform(prep_train[[col_to_analyse]]).ravel()\n",
    "prep_train.TARGET.corr(pd.Series(test_corr_median))"
   ]
  },
  {
   "cell_type": "code",
   "execution_count": 352,
   "metadata": {},
   "outputs": [
    {
     "data": {
      "text/plain": [
       "Imputer(axis=0, copy=True, missing_values='NaN', strategy='mean', verbose=0)"
      ]
     },
     "execution_count": 352,
     "metadata": {},
     "output_type": "execute_result"
    }
   ],
   "source": [
    "imp = Imputer(strategy='mean')\n",
    "imp.fit(prep_train[[col_to_analyse]])"
   ]
  },
  {
   "cell_type": "code",
   "execution_count": 353,
   "metadata": {},
   "outputs": [
    {
     "data": {
      "text/plain": [
       "0.0018089368111360732"
      ]
     },
     "execution_count": 353,
     "metadata": {},
     "output_type": "execute_result"
    }
   ],
   "source": [
    "test_corr_mean = imp.transform(prep_train[[col_to_analyse]]).ravel()\n",
    "prep_train.TARGET.corr(pd.Series(test_corr_mean))"
   ]
  },
  {
   "cell_type": "code",
   "execution_count": 354,
   "metadata": {},
   "outputs": [],
   "source": [
    "#corr = prep_train.corr()"
   ]
  },
  {
   "cell_type": "code",
   "execution_count": 355,
   "metadata": {},
   "outputs": [],
   "source": [
    "#corr.EXT_SOURCE_1.sort_values()"
   ]
  },
  {
   "cell_type": "code",
   "execution_count": 356,
   "metadata": {},
   "outputs": [
    {
     "data": {
      "text/plain": [
       "LinearRegression(copy_X=True, fit_intercept=True, n_jobs=1, normalize=False)"
      ]
     },
     "execution_count": 356,
     "metadata": {},
     "output_type": "execute_result"
    }
   ],
   "source": [
    "from sklearn.linear_model import LinearRegression\n",
    "\n",
    "columns_NN_EXT_1 = [\"DAYS_BIRTH\", \"NAME_INCOME_TYPE_Pensioner\", \"CODE_GENDER\", \"FLAG_EMP_PHONE\"] \n",
    "lreg = LinearRegression()\n",
    "lreg.fit(pd.DataFrame(prep_train.loc[prep_train[col_to_analyse].notnull(), columns_NN_EXT_1]), \n",
    "         pd.DataFrame(prep_train.loc[prep_train[col_to_analyse].notnull(), col_to_analyse]))"
   ]
  },
  {
   "cell_type": "code",
   "execution_count": 357,
   "metadata": {},
   "outputs": [],
   "source": [
    "prep_train.loc[prep_train[col_to_analyse].isnull(), col_to_analyse] = lreg.predict(\n",
    "    pd.DataFrame(prep_train.loc[prep_train[col_to_analyse].isnull(), columns_NN_EXT_1]))"
   ]
  },
  {
   "cell_type": "code",
   "execution_count": 358,
   "metadata": {},
   "outputs": [],
   "source": [
    "prep_test.loc[prep_test[col_to_analyse].isnull(), col_to_analyse] = lreg.predict(\n",
    "    pd.DataFrame(prep_test.loc[prep_test[col_to_analyse].isnull(), columns_NN_EXT_1]))"
   ]
  },
  {
   "cell_type": "code",
   "execution_count": 359,
   "metadata": {},
   "outputs": [
    {
     "name": "stdout",
     "output_type": "stream",
     "text": [
      "Missing Values for EXT_SOURCE_1:\n",
      "prep_train: 0\n",
      "prep_test: 0\n"
     ]
    }
   ],
   "source": [
    "# Show missing values for test dataset\n",
    "print(\"Missing Values for {}:\\nprep_train: {}\\nprep_test: {}\"\n",
    "      .format(col_to_analyse, prep_train[col_to_analyse].isnull().sum(),\n",
    "              prep_test[col_to_analyse].isnull().sum()))"
   ]
  },
  {
   "cell_type": "code",
   "execution_count": 360,
   "metadata": {},
   "outputs": [
    {
     "data": {
      "text/plain": [
       "-0.12421651796050107"
      ]
     },
     "execution_count": 360,
     "metadata": {},
     "output_type": "execute_result"
    }
   ],
   "source": [
    "prep_train.TARGET.corr(prep_train[col_to_analyse])"
   ]
  },
  {
   "cell_type": "code",
   "execution_count": 361,
   "metadata": {},
   "outputs": [
    {
     "name": "stdout",
     "output_type": "stream",
     "text": [
      "Shape TRAIN: (307504, 219)\n",
      "Shape  TEST: (48744, 218)\n"
     ]
    }
   ],
   "source": [
    "print_data_dimensions(prep_train, prep_test)"
   ]
  },
  {
   "cell_type": "markdown",
   "metadata": {},
   "source": [
    "### EXT_SOURCE_2\n",
    "\n",
    "Normalized score from external data source.\n",
    "\n",
    "__numeric value__"
   ]
  },
  {
   "cell_type": "code",
   "execution_count": 362,
   "metadata": {},
   "outputs": [],
   "source": [
    "col_to_analyse = 'EXT_SOURCE_2'"
   ]
  },
  {
   "cell_type": "code",
   "execution_count": 363,
   "metadata": {},
   "outputs": [
    {
     "data": {
      "text/plain": [
       "count    3.068440e+05\n",
       "mean     5.143921e-01\n",
       "std      1.910594e-01\n",
       "min      8.173617e-08\n",
       "25%      3.924574e-01\n",
       "50%      5.659587e-01\n",
       "75%      6.636171e-01\n",
       "max      8.549997e-01\n",
       "Name: EXT_SOURCE_2, dtype: float64"
      ]
     },
     "execution_count": 363,
     "metadata": {},
     "output_type": "execute_result"
    }
   ],
   "source": [
    "prep_train[col_to_analyse].describe()"
   ]
  },
  {
   "cell_type": "code",
   "execution_count": 364,
   "metadata": {},
   "outputs": [
    {
     "data": {
      "text/plain": [
       "<matplotlib.axes._subplots.AxesSubplot at 0x25803390>"
      ]
     },
     "execution_count": 364,
     "metadata": {},
     "output_type": "execute_result"
    },
    {
     "data": {
      "image/png": "[encoded data removed]",
      "text/plain": [
       "<Figure size 432x288 with 1 Axes>"
      ]
     },
     "metadata": {},
     "output_type": "display_data"
    }
   ],
   "source": [
    "prep_train[col_to_analyse].plot.hist(bins=30)"
   ]
  },
  {
   "cell_type": "markdown",
   "metadata": {},
   "source": [
    "Show the missing values for train and test data"
   ]
  },
  {
   "cell_type": "code",
   "execution_count": 365,
   "metadata": {},
   "outputs": [
    {
     "name": "stdout",
     "output_type": "stream",
     "text": [
      "Missing Values for EXT_SOURCE_2:\n",
      "prep_train: 660\n",
      "prep_test: 8\n"
     ]
    }
   ],
   "source": [
    "# Show missing values for test dataset\n",
    "print(\"Missing Values for {}:\\nprep_train: {}\\nprep_test: {}\"\n",
    "      .format(col_to_analyse, prep_train[col_to_analyse].isnull().sum(),\n",
    "              prep_test[col_to_analyse].isnull().sum()))"
   ]
  },
  {
   "cell_type": "code",
   "execution_count": 366,
   "metadata": {},
   "outputs": [
    {
     "data": {
      "text/plain": [
       "0.214631354388886"
      ]
     },
     "execution_count": 366,
     "metadata": {},
     "output_type": "execute_result"
    }
   ],
   "source": [
    "(prep_train[col_to_analyse].isnull().sum() / prep_train.shape[0]) * 100"
   ]
  },
  {
   "cell_type": "markdown",
   "metadata": {},
   "source": [
    "There are around 21.5% missing values for this column, This is why we want to try different methods to fill the missing values and evaluate the change of the correlation with the TARGET."
   ]
  },
  {
   "cell_type": "code",
   "execution_count": 367,
   "metadata": {},
   "outputs": [
    {
     "data": {
      "text/plain": [
       "-0.1604511850262858"
      ]
     },
     "execution_count": 367,
     "metadata": {},
     "output_type": "execute_result"
    }
   ],
   "source": [
    "prep_train.TARGET.corr(prep_train[col_to_analyse])"
   ]
  },
  {
   "cell_type": "code",
   "execution_count": 368,
   "metadata": {},
   "outputs": [],
   "source": [
    "#corr = prep_train.corr()"
   ]
  },
  {
   "cell_type": "code",
   "execution_count": 369,
   "metadata": {},
   "outputs": [],
   "source": [
    "#corr.EXT_SOURCE_2.sort_values()"
   ]
  },
  {
   "cell_type": "code",
   "execution_count": 370,
   "metadata": {},
   "outputs": [
    {
     "data": {
      "text/plain": [
       "LinearRegression(copy_X=True, fit_intercept=True, n_jobs=1, normalize=False)"
      ]
     },
     "execution_count": 370,
     "metadata": {},
     "output_type": "execute_result"
    }
   ],
   "source": [
    "from sklearn.linear_model import LinearRegression\n",
    "\n",
    "columns_NN_EXT_2 = [\"REGION_RATING_CLIENT_1\", \"REGION_RATING_CLIENT_W_CITY_1\",\n",
    "                    \"REGION_RATING_CLIENT_3\", \"REGION_RATING_CLIENT_W_CITY_3\"] \n",
    "lreg = LinearRegression()\n",
    "lreg.fit(pd.DataFrame(prep_train.loc[prep_train[col_to_analyse].notnull(), columns_NN_EXT_2]), \n",
    "         pd.DataFrame(prep_train.loc[prep_train[col_to_analyse].notnull(), col_to_analyse]))"
   ]
  },
  {
   "cell_type": "code",
   "execution_count": 371,
   "metadata": {},
   "outputs": [],
   "source": [
    "prep_train.loc[prep_train[col_to_analyse].isnull(), col_to_analyse] = lreg.predict(\n",
    "    pd.DataFrame(prep_train.loc[prep_train[col_to_analyse].isnull(), columns_NN_EXT_2]))"
   ]
  },
  {
   "cell_type": "code",
   "execution_count": 372,
   "metadata": {},
   "outputs": [],
   "source": [
    "prep_test.loc[prep_test[col_to_analyse].isnull(), col_to_analyse] = lreg.predict(\n",
    "    pd.DataFrame(prep_test.loc[prep_test[col_to_analyse].isnull(), columns_NN_EXT_2]))"
   ]
  },
  {
   "cell_type": "code",
   "execution_count": 373,
   "metadata": {},
   "outputs": [
    {
     "name": "stdout",
     "output_type": "stream",
     "text": [
      "Missing Values for EXT_SOURCE_2:\n",
      "prep_train: 0\n",
      "prep_test: 0\n"
     ]
    }
   ],
   "source": [
    "# Show missing values for test dataset\n",
    "print(\"Missing Values for {}:\\nprep_train: {}\\nprep_test: {}\"\n",
    "      .format(col_to_analyse, prep_train[col_to_analyse].isnull().sum(),\n",
    "              prep_test[col_to_analyse].isnull().sum()))"
   ]
  },
  {
   "cell_type": "code",
   "execution_count": 374,
   "metadata": {},
   "outputs": [
    {
     "data": {
      "text/plain": [
       "-0.16028865931721203"
      ]
     },
     "execution_count": 374,
     "metadata": {},
     "output_type": "execute_result"
    }
   ],
   "source": [
    "prep_train.TARGET.corr(prep_train[col_to_analyse])"
   ]
  },
  {
   "cell_type": "code",
   "execution_count": 375,
   "metadata": {},
   "outputs": [
    {
     "name": "stdout",
     "output_type": "stream",
     "text": [
      "Shape TRAIN: (307504, 219)\n",
      "Shape  TEST: (48744, 218)\n"
     ]
    }
   ],
   "source": [
    "print_data_dimensions(prep_train, prep_test)"
   ]
  },
  {
   "cell_type": "markdown",
   "metadata": {},
   "source": [
    "### EXT_SOURCE_3\n",
    "\n",
    "Normalized score from external data source.\n",
    "\n",
    "__numeric value__"
   ]
  },
  {
   "cell_type": "code",
   "execution_count": 376,
   "metadata": {},
   "outputs": [],
   "source": [
    "col_to_analyse = 'EXT_SOURCE_3'"
   ]
  },
  {
   "cell_type": "code",
   "execution_count": 377,
   "metadata": {},
   "outputs": [
    {
     "data": {
      "text/plain": [
       "count    246540.000000\n",
       "mean          0.510857\n",
       "std           0.194842\n",
       "min           0.000527\n",
       "25%           0.370650\n",
       "50%           0.535276\n",
       "75%           0.669057\n",
       "max           0.896010\n",
       "Name: EXT_SOURCE_3, dtype: float64"
      ]
     },
     "execution_count": 377,
     "metadata": {},
     "output_type": "execute_result"
    }
   ],
   "source": [
    "prep_train[col_to_analyse].describe()"
   ]
  },
  {
   "cell_type": "code",
   "execution_count": 378,
   "metadata": {},
   "outputs": [
    {
     "data": {
      "text/plain": [
       "<matplotlib.axes._subplots.AxesSubplot at 0x25ae7c50>"
      ]
     },
     "execution_count": 378,
     "metadata": {},
     "output_type": "execute_result"
    },
    {
     "data": {
      "image/png": "[encoded data removed]",
      "text/plain": [
       "<Figure size 432x288 with 1 Axes>"
      ]
     },
     "metadata": {},
     "output_type": "display_data"
    }
   ],
   "source": [
    "prep_train[col_to_analyse].plot.hist(bins=30)"
   ]
  },
  {
   "cell_type": "markdown",
   "metadata": {},
   "source": [
    "Show the missing values for train and test data"
   ]
  },
  {
   "cell_type": "code",
   "execution_count": 379,
   "metadata": {},
   "outputs": [
    {
     "name": "stdout",
     "output_type": "stream",
     "text": [
      "Missing Values for EXT_SOURCE_3:\n",
      "prep_train: 60964\n",
      "prep_test: 8668\n"
     ]
    }
   ],
   "source": [
    "# Show missing values for test dataset\n",
    "print(\"Missing Values for {}:\\nprep_train: {}\\nprep_test: {}\"\n",
    "      .format(col_to_analyse, prep_train[col_to_analyse].isnull().sum(),\n",
    "              prep_test[col_to_analyse].isnull().sum()))"
   ]
  },
  {
   "cell_type": "code",
   "execution_count": 380,
   "metadata": {},
   "outputs": [
    {
     "data": {
      "text/plain": [
       "19.82543316509704"
      ]
     },
     "execution_count": 380,
     "metadata": {},
     "output_type": "execute_result"
    }
   ],
   "source": [
    "(prep_train[col_to_analyse].isnull().sum() / prep_train.shape[0]) * 100"
   ]
  },
  {
   "cell_type": "markdown",
   "metadata": {},
   "source": [
    "There are around 19.8% missing values for this column, This is why we want to try different methods to fill the missing values and evaluate the change of the correlation with the TARGET."
   ]
  },
  {
   "cell_type": "code",
   "execution_count": 381,
   "metadata": {},
   "outputs": [
    {
     "data": {
      "text/plain": [
       "-0.1789049621739273"
      ]
     },
     "execution_count": 381,
     "metadata": {},
     "output_type": "execute_result"
    }
   ],
   "source": [
    "prep_train.TARGET.corr(prep_train[col_to_analyse])"
   ]
  },
  {
   "cell_type": "code",
   "execution_count": 382,
   "metadata": {},
   "outputs": [
    {
     "data": {
      "text/plain": [
       "LinearRegression(copy_X=True, fit_intercept=True, n_jobs=1, normalize=False)"
      ]
     },
     "execution_count": 382,
     "metadata": {},
     "output_type": "execute_result"
    }
   ],
   "source": [
    "from sklearn.linear_model import LinearRegression\n",
    "\n",
    "columns_NN_EXT_2 = [\"FLAG_EMP_PHONE\", \"REG_CITY_NOT_WORK_CITY\",\n",
    "                    \"DAYS_BIRTH\", \"EXT_SOURCE_1\"] \n",
    "lreg = LinearRegression()\n",
    "lreg.fit(pd.DataFrame(prep_train.loc[prep_train[col_to_analyse].notnull(), columns_NN_EXT_2]), \n",
    "         pd.DataFrame(prep_train.loc[prep_train[col_to_analyse].notnull(), col_to_analyse]))"
   ]
  },
  {
   "cell_type": "code",
   "execution_count": 383,
   "metadata": {},
   "outputs": [],
   "source": [
    "prep_train.loc[prep_train[col_to_analyse].isnull(), col_to_analyse] = lreg.predict(\n",
    "    pd.DataFrame(prep_train.loc[prep_train[col_to_analyse].isnull(), columns_NN_EXT_2]))"
   ]
  },
  {
   "cell_type": "code",
   "execution_count": 384,
   "metadata": {},
   "outputs": [],
   "source": [
    "prep_test.loc[prep_test[col_to_analyse].isnull(), col_to_analyse] = lreg.predict(\n",
    "    pd.DataFrame(prep_test.loc[prep_test[col_to_analyse].isnull(), columns_NN_EXT_2]))"
   ]
  },
  {
   "cell_type": "code",
   "execution_count": 385,
   "metadata": {},
   "outputs": [
    {
     "data": {
      "text/plain": [
       "-0.1618849723774291"
      ]
     },
     "execution_count": 385,
     "metadata": {},
     "output_type": "execute_result"
    }
   ],
   "source": [
    "prep_train.TARGET.corr(prep_train[col_to_analyse])"
   ]
  },
  {
   "cell_type": "code",
   "execution_count": 386,
   "metadata": {},
   "outputs": [
    {
     "name": "stdout",
     "output_type": "stream",
     "text": [
      "Shape TRAIN: (307504, 219)\n",
      "Shape  TEST: (48744, 218)\n"
     ]
    }
   ],
   "source": [
    "print_data_dimensions(prep_train, prep_test)"
   ]
  },
  {
   "cell_type": "markdown",
   "metadata": {},
   "source": [
    "### DAYS_LAST_PHONE_CHANGE\n",
    "\n",
    "__numeric value__"
   ]
  },
  {
   "cell_type": "code",
   "execution_count": 387,
   "metadata": {},
   "outputs": [],
   "source": [
    "col_to_analyse = 'DAYS_LAST_PHONE_CHANGE'"
   ]
  },
  {
   "cell_type": "code",
   "execution_count": 388,
   "metadata": {},
   "outputs": [
    {
     "data": {
      "text/plain": [
       "count    307503.000000\n",
       "mean       -962.864964\n",
       "std         826.813498\n",
       "min       -4292.000000\n",
       "25%       -1570.000000\n",
       "50%        -757.000000\n",
       "75%        -274.000000\n",
       "max           0.000000\n",
       "Name: DAYS_LAST_PHONE_CHANGE, dtype: float64"
      ]
     },
     "execution_count": 388,
     "metadata": {},
     "output_type": "execute_result"
    }
   ],
   "source": [
    "prep_train[col_to_analyse].describe()"
   ]
  },
  {
   "cell_type": "code",
   "execution_count": 389,
   "metadata": {},
   "outputs": [
    {
     "data": {
      "text/plain": [
       "<matplotlib.axes._subplots.AxesSubplot at 0x309dfda0>"
      ]
     },
     "execution_count": 389,
     "metadata": {},
     "output_type": "execute_result"
    },
    {
     "data": {
      "image/png": "[encoded data removed]",
      "text/plain": [
       "<Figure size 432x288 with 1 Axes>"
      ]
     },
     "metadata": {},
     "output_type": "display_data"
    }
   ],
   "source": [
    "prep_train[col_to_analyse].plot.hist(bins=30)"
   ]
  },
  {
   "cell_type": "markdown",
   "metadata": {},
   "source": [
    "Show the missing values for train and test data"
   ]
  },
  {
   "cell_type": "code",
   "execution_count": 390,
   "metadata": {},
   "outputs": [
    {
     "name": "stdout",
     "output_type": "stream",
     "text": [
      "Missing Values for DAYS_LAST_PHONE_CHANGE:\n",
      "prep_train: 1\n",
      "prep_test: 0\n"
     ]
    }
   ],
   "source": [
    "# Show missing values for test dataset\n",
    "print(\"Missing Values for {}:\\nprep_train: {}\\nprep_test: {}\"\n",
    "      .format(col_to_analyse, prep_train[col_to_analyse].isnull().sum(),\n",
    "              prep_test[col_to_analyse].isnull().sum()))"
   ]
  },
  {
   "cell_type": "code",
   "execution_count": 391,
   "metadata": {},
   "outputs": [
    {
     "data": {
      "text/plain": [
       "0.05520815859566069"
      ]
     },
     "execution_count": 391,
     "metadata": {},
     "output_type": "execute_result"
    }
   ],
   "source": [
    "prep_train.TARGET.corr(prep_train[col_to_analyse])"
   ]
  },
  {
   "cell_type": "code",
   "execution_count": 392,
   "metadata": {},
   "outputs": [
    {
     "data": {
      "text/plain": [
       "Imputer(axis=0, copy=True, missing_values='NaN', strategy='mean', verbose=0)"
      ]
     },
     "execution_count": 392,
     "metadata": {},
     "output_type": "execute_result"
    }
   ],
   "source": [
    "imp_DAYS_LAST_PHONE_CHANGE = Imputer(strategy='mean')\n",
    "imp_DAYS_LAST_PHONE_CHANGE.fit(np.array(prep_train.DAYS_LAST_PHONE_CHANGE).reshape(-1,1))"
   ]
  },
  {
   "cell_type": "code",
   "execution_count": 393,
   "metadata": {},
   "outputs": [],
   "source": [
    "prep_train.DAYS_LAST_PHONE_CHANGE = imp_DAYS_LAST_PHONE_CHANGE.transform(np.array(prep_train.DAYS_LAST_PHONE_CHANGE).reshape(-1,1))\n",
    "prep_test.DAYS_LAST_PHONE_CHANGE = imp_DAYS_LAST_PHONE_CHANGE.transform(np.array(prep_test.DAYS_LAST_PHONE_CHANGE).reshape(-1,1))"
   ]
  },
  {
   "cell_type": "markdown",
   "metadata": {},
   "source": [
    "### Flags - FLAG_DOCUMENT_X\n",
    "\n",
    "Did client provide document X."
   ]
  },
  {
   "cell_type": "code",
   "execution_count": 394,
   "metadata": {},
   "outputs": [],
   "source": [
    "col_to_analyse = ['FLAG_DOCUMENT_2','FLAG_DOCUMENT_3', 'FLAG_DOCUMENT_4','FLAG_DOCUMENT_5', 'FLAG_DOCUMENT_6', 'FLAG_DOCUMENT_7', \n",
    "                  'FLAG_DOCUMENT_8','FLAG_DOCUMENT_9', 'FLAG_DOCUMENT_10','FLAG_DOCUMENT_11', 'FLAG_DOCUMENT_12', 'FLAG_DOCUMENT_13',\n",
    "                  'FLAG_DOCUMENT_14','FLAG_DOCUMENT_15', 'FLAG_DOCUMENT_16','FLAG_DOCUMENT_17', 'FLAG_DOCUMENT_18', 'FLAG_DOCUMENT_19',\n",
    "                  'FLAG_DOCUMENT_20','FLAG_DOCUMENT_21']"
   ]
  },
  {
   "cell_type": "code",
   "execution_count": 395,
   "metadata": {},
   "outputs": [
    {
     "name": "stdout",
     "output_type": "stream",
     "text": [
      "FLAG_DOCUMENT_2\n",
      "0    307491\n",
      "1        13\n",
      "Name: FLAG_DOCUMENT_2, dtype: int64\n",
      "------------------------------\n",
      "FLAG_DOCUMENT_3\n",
      "1    218339\n",
      "0     89165\n",
      "Name: FLAG_DOCUMENT_3, dtype: int64\n",
      "------------------------------\n",
      "FLAG_DOCUMENT_4\n",
      "0    307479\n",
      "1        25\n",
      "Name: FLAG_DOCUMENT_4, dtype: int64\n",
      "------------------------------\n",
      "FLAG_DOCUMENT_5\n",
      "0    302857\n",
      "1      4647\n",
      "Name: FLAG_DOCUMENT_5, dtype: int64\n",
      "------------------------------\n",
      "FLAG_DOCUMENT_6\n",
      "0    280426\n",
      "1     27078\n",
      "Name: FLAG_DOCUMENT_6, dtype: int64\n",
      "------------------------------\n",
      "FLAG_DOCUMENT_7\n",
      "0    307446\n",
      "1        58\n",
      "Name: FLAG_DOCUMENT_7, dtype: int64\n",
      "------------------------------\n",
      "FLAG_DOCUMENT_8\n",
      "0    282480\n",
      "1     25024\n",
      "Name: FLAG_DOCUMENT_8, dtype: int64\n",
      "------------------------------\n",
      "FLAG_DOCUMENT_9\n",
      "0    306306\n",
      "1      1198\n",
      "Name: FLAG_DOCUMENT_9, dtype: int64\n",
      "------------------------------\n",
      "FLAG_DOCUMENT_10\n",
      "0    307497\n",
      "1         7\n",
      "Name: FLAG_DOCUMENT_10, dtype: int64\n",
      "------------------------------\n",
      "FLAG_DOCUMENT_11\n",
      "0    306301\n",
      "1      1203\n",
      "Name: FLAG_DOCUMENT_11, dtype: int64\n",
      "------------------------------\n",
      "FLAG_DOCUMENT_12\n",
      "0    307502\n",
      "1         2\n",
      "Name: FLAG_DOCUMENT_12, dtype: int64\n",
      "------------------------------\n",
      "FLAG_DOCUMENT_13\n",
      "0    306420\n",
      "1      1084\n",
      "Name: FLAG_DOCUMENT_13, dtype: int64\n",
      "------------------------------\n",
      "FLAG_DOCUMENT_14\n",
      "0    306601\n",
      "1       903\n",
      "Name: FLAG_DOCUMENT_14, dtype: int64\n",
      "------------------------------\n",
      "FLAG_DOCUMENT_15\n",
      "0    307132\n",
      "1       372\n",
      "Name: FLAG_DOCUMENT_15, dtype: int64\n",
      "------------------------------\n",
      "FLAG_DOCUMENT_16\n",
      "0    304451\n",
      "1      3053\n",
      "Name: FLAG_DOCUMENT_16, dtype: int64\n",
      "------------------------------\n",
      "FLAG_DOCUMENT_17\n",
      "0    307422\n",
      "1        82\n",
      "Name: FLAG_DOCUMENT_17, dtype: int64\n",
      "------------------------------\n",
      "FLAG_DOCUMENT_18\n",
      "0    305004\n",
      "1      2500\n",
      "Name: FLAG_DOCUMENT_18, dtype: int64\n",
      "------------------------------\n",
      "FLAG_DOCUMENT_19\n",
      "0    307321\n",
      "1       183\n",
      "Name: FLAG_DOCUMENT_19, dtype: int64\n",
      "------------------------------\n",
      "FLAG_DOCUMENT_20\n",
      "0    307348\n",
      "1       156\n",
      "Name: FLAG_DOCUMENT_20, dtype: int64\n",
      "------------------------------\n",
      "FLAG_DOCUMENT_21\n",
      "0    307401\n",
      "1       103\n",
      "Name: FLAG_DOCUMENT_21, dtype: int64\n",
      "------------------------------\n"
     ]
    }
   ],
   "source": [
    "# show present values of features\n",
    "for col in col_to_analyse:\n",
    "    print(\"{}\".format(col))\n",
    "    print(\"{}\".format(prep_train[col].value_counts()))\n",
    "    print(\"------------------------------\")"
   ]
  },
  {
   "cell_type": "markdown",
   "metadata": {},
   "source": [
    "All columns are binary!"
   ]
  },
  {
   "cell_type": "markdown",
   "metadata": {},
   "source": [
    "Show the missing values for train and test data"
   ]
  },
  {
   "cell_type": "code",
   "execution_count": 396,
   "metadata": {},
   "outputs": [
    {
     "name": "stdout",
     "output_type": "stream",
     "text": [
      "Missing Values for FLAG_DOCUMENT_2:\n",
      "prep_train: 0\n",
      "prep_test: 0\n",
      "------------------------------\n",
      "Missing Values for FLAG_DOCUMENT_3:\n",
      "prep_train: 0\n",
      "prep_test: 0\n",
      "------------------------------\n",
      "Missing Values for FLAG_DOCUMENT_4:\n",
      "prep_train: 0\n",
      "prep_test: 0\n",
      "------------------------------\n",
      "Missing Values for FLAG_DOCUMENT_5:\n",
      "prep_train: 0\n",
      "prep_test: 0\n",
      "------------------------------\n",
      "Missing Values for FLAG_DOCUMENT_6:\n",
      "prep_train: 0\n",
      "prep_test: 0\n",
      "------------------------------\n",
      "Missing Values for FLAG_DOCUMENT_7:\n",
      "prep_train: 0\n",
      "prep_test: 0\n",
      "------------------------------\n",
      "Missing Values for FLAG_DOCUMENT_8:\n",
      "prep_train: 0\n",
      "prep_test: 0\n",
      "------------------------------\n",
      "Missing Values for FLAG_DOCUMENT_9:\n",
      "prep_train: 0\n",
      "prep_test: 0\n",
      "------------------------------\n",
      "Missing Values for FLAG_DOCUMENT_10:\n",
      "prep_train: 0\n",
      "prep_test: 0\n",
      "------------------------------\n",
      "Missing Values for FLAG_DOCUMENT_11:\n",
      "prep_train: 0\n",
      "prep_test: 0\n",
      "------------------------------\n",
      "Missing Values for FLAG_DOCUMENT_12:\n",
      "prep_train: 0\n",
      "prep_test: 0\n",
      "------------------------------\n",
      "Missing Values for FLAG_DOCUMENT_13:\n",
      "prep_train: 0\n",
      "prep_test: 0\n",
      "------------------------------\n",
      "Missing Values for FLAG_DOCUMENT_14:\n",
      "prep_train: 0\n",
      "prep_test: 0\n",
      "------------------------------\n",
      "Missing Values for FLAG_DOCUMENT_15:\n",
      "prep_train: 0\n",
      "prep_test: 0\n",
      "------------------------------\n",
      "Missing Values for FLAG_DOCUMENT_16:\n",
      "prep_train: 0\n",
      "prep_test: 0\n",
      "------------------------------\n",
      "Missing Values for FLAG_DOCUMENT_17:\n",
      "prep_train: 0\n",
      "prep_test: 0\n",
      "------------------------------\n",
      "Missing Values for FLAG_DOCUMENT_18:\n",
      "prep_train: 0\n",
      "prep_test: 0\n",
      "------------------------------\n",
      "Missing Values for FLAG_DOCUMENT_19:\n",
      "prep_train: 0\n",
      "prep_test: 0\n",
      "------------------------------\n",
      "Missing Values for FLAG_DOCUMENT_20:\n",
      "prep_train: 0\n",
      "prep_test: 0\n",
      "------------------------------\n",
      "Missing Values for FLAG_DOCUMENT_21:\n",
      "prep_train: 0\n",
      "prep_test: 0\n",
      "------------------------------\n"
     ]
    }
   ],
   "source": [
    "# Show missing values for test dataset\n",
    "for col in col_to_analyse:\n",
    "    print(\"Missing Values for {}:\\nprep_train: {}\\nprep_test: {}\"\n",
    "          .format(col, prep_train[col].isnull().sum(),\n",
    "                  prep_test[col].isnull().sum()))\n",
    "    print(\"------------------------------\")"
   ]
  },
  {
   "cell_type": "code",
   "execution_count": 397,
   "metadata": {},
   "outputs": [
    {
     "name": "stdout",
     "output_type": "stream",
     "text": [
      "Shape TRAIN: (307504, 219)\n",
      "Shape  TEST: (48744, 218)\n"
     ]
    }
   ],
   "source": [
    "print_data_dimensions(prep_train, prep_test)"
   ]
  },
  {
   "cell_type": "markdown",
   "metadata": {},
   "source": [
    "### Delete non used columns "
   ]
  },
  {
   "cell_type": "code",
   "execution_count": 398,
   "metadata": {},
   "outputs": [],
   "source": [
    "cols_to_delete = [\n",
    "'APARTMENTS_AVG',\n",
    "'BASEMENTAREA_AVG',\n",
    "'YEARS_BEGINEXPLUATATION_AVG',\n",
    "'YEARS_BUILD_AVG',\n",
    "'COMMONAREA_AVG',\n",
    "'ELEVATORS_AVG',\n",
    "'ENTRANCES_AVG',\n",
    "'FLOORSMAX_AVG',\n",
    "'FLOORSMIN_AVG',\n",
    "'LANDAREA_AVG',\n",
    "'LIVINGAPARTMENTS_AVG',\n",
    "'LIVINGAREA_AVG',\n",
    "'NONLIVINGAPARTMENTS_AVG',\n",
    "'NONLIVINGAREA_AVG',\n",
    "'APARTMENTS_MODE',\n",
    "'BASEMENTAREA_MODE',\n",
    "'YEARS_BEGINEXPLUATATION_MODE',\n",
    "'YEARS_BUILD_MODE',\n",
    "'COMMONAREA_MODE',\n",
    "'ELEVATORS_MODE',\n",
    "'ENTRANCES_MODE',\n",
    "'FLOORSMAX_MODE',\n",
    "'FLOORSMIN_MODE',\n",
    "'LANDAREA_MODE',\n",
    "'LIVINGAPARTMENTS_MODE',\n",
    "'LIVINGAREA_MODE',\n",
    "'NONLIVINGAPARTMENTS_MODE',\n",
    "'NONLIVINGAREA_MODE',\n",
    "'APARTMENTS_MEDI',\n",
    "'BASEMENTAREA_MEDI',\n",
    "'YEARS_BEGINEXPLUATATION_MEDI',\n",
    "'YEARS_BUILD_MEDI',\n",
    "'COMMONAREA_MEDI',\n",
    "'ELEVATORS_MEDI',\n",
    "'ENTRANCES_MEDI',\n",
    "'FLOORSMAX_MEDI',\n",
    "'FLOORSMIN_MEDI',\n",
    "'LANDAREA_MEDI',\n",
    "'LIVINGAPARTMENTS_MEDI',\n",
    "'LIVINGAREA_MEDI',\n",
    "'NONLIVINGAPARTMENTS_MEDI',\n",
    "'NONLIVINGAREA_MEDI',\n",
    "'FONDKAPREMONT_MODE',\n",
    "'HOUSETYPE_MODE',\n",
    "'TOTALAREA_MODE',\n",
    "'WALLSMATERIAL_MODE',\n",
    "'EMERGENCYSTATE_MODE',\n",
    "'OBS_30_CNT_SOCIAL_CIRCLE',\n",
    "'DEF_30_CNT_SOCIAL_CIRCLE',\n",
    "'OBS_60_CNT_SOCIAL_CIRCLE',\n",
    "'DEF_60_CNT_SOCIAL_CIRCLE',\n",
    "'AMT_REQ_CREDIT_BUREAU_HOUR',\n",
    "'AMT_REQ_CREDIT_BUREAU_DAY',\n",
    "'AMT_REQ_CREDIT_BUREAU_WEEK',\n",
    "'AMT_REQ_CREDIT_BUREAU_MON',\n",
    "'AMT_REQ_CREDIT_BUREAU_QRT',\n",
    "'AMT_REQ_CREDIT_BUREAU_YEAR'\n",
    "]\n",
    "\n",
    "prep_train.drop(columns=cols_to_delete, inplace=True)\n",
    "prep_test.drop(columns=cols_to_delete, inplace=True)"
   ]
  },
  {
   "cell_type": "code",
   "execution_count": 399,
   "metadata": {},
   "outputs": [
    {
     "name": "stdout",
     "output_type": "stream",
     "text": [
      "Shape TRAIN: (307504, 162)\n",
      "Shape  TEST: (48744, 161)\n"
     ]
    }
   ],
   "source": [
    "print_data_dimensions(prep_train, prep_test)"
   ]
  },
  {
   "cell_type": "code",
   "execution_count": 400,
   "metadata": {},
   "outputs": [],
   "source": [
    "pickle.dump(prep_train, open(os.path.join(data_path, \"prep_train.pkl\"), \"wb\"))\n",
    "pickle.dump(prep_test, open(os.path.join(data_path, \"prep_test.pkl\"), \"wb\"))"
   ]
  },
  {
   "cell_type": "markdown",
   "metadata": {},
   "source": [
    "## Feature Engineering / Domain Knowledge"
   ]
  },
  {
   "cell_type": "code",
   "execution_count": 401,
   "metadata": {},
   "outputs": [],
   "source": [
    "def add_domain_knowledge_features(df):\n",
    "    df['DAYS_EMPLOYED_PERC'] = df['DAYS_EMPLOYED'] / df['DAYS_BIRTH']\n",
    "    df['INCOME_CREDIT_PERC'] = df['AMT_INCOME_TOTAL'] / df['AMT_CREDIT']\n",
    "    df['INCOME_PER_PERSON'] = df['AMT_INCOME_TOTAL'] / df['CNT_FAM_MEMBERS']\n",
    "    df['ANNUITY_INCOME_PERC'] = df['AMT_ANNUITY'] / df['AMT_INCOME_TOTAL']\n",
    "    df['PAYMENT_RATE'] = df['AMT_ANNUITY'] / df['AMT_CREDIT']\n",
    "    df['EXT_SOURCES_MEAN'] = (df['EXT_SOURCE_1'] + df['EXT_SOURCE_2'] + df['EXT_SOURCE_3']) / 3\n",
    "    df['EXT_SOURCES_PRODUCT'] = (df['EXT_SOURCE_1'] * df['EXT_SOURCE_2'] * df['EXT_SOURCE_3'])\n",
    "    #df['NEW_PHONE_TO_BIRTH_RATIO'] = df['DAYS_LAST_PHONE_CHANGE'] / df['DAYS_BIRTH']\n",
    "    #df['NEW_PHONE_TO_EMPLOYED_RATIO'] = df['DAYS_LAST_PHONE_CHANGE'] / df['DAYS_EMPLOYED']\n",
    "    return df"
   ]
  },
  {
   "cell_type": "code",
   "execution_count": 402,
   "metadata": {},
   "outputs": [],
   "source": [
    "prep_train = add_domain_knowledge_features(prep_train)\n",
    "prep_test = add_domain_knowledge_features(prep_test)"
   ]
  },
  {
   "cell_type": "code",
   "execution_count": 403,
   "metadata": {},
   "outputs": [],
   "source": [
    "pickle.dump(prep_train, open(os.path.join(data_path, \"prep_train_FE.pkl\"), \"wb\"))"
   ]
  },
  {
   "cell_type": "code",
   "execution_count": 404,
   "metadata": {},
   "outputs": [],
   "source": [
    "pickle.dump(prep_test, open(os.path.join(data_path, \"prep_test_FE.pkl\"), \"wb\"))"
   ]
  }
 ],
 "metadata": {
  "kernelspec": {
   "display_name": "Python 3",
   "language": "python",
   "name": "python3"
  },
  "language_info": {
   "codemirror_mode": {
    "name": "ipython",
    "version": 3
   },
   "file_extension": ".py",
   "mimetype": "text/x-python",
   "name": "python",
   "nbconvert_exporter": "python",
   "pygments_lexer": "ipython3",
   "version": "3.6.5"
  }
 },
 "nbformat": 4,
 "nbformat_minor": 2
}
